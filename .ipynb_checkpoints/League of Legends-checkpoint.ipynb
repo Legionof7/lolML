{
 "cells": [
  {
   "cell_type": "markdown",
   "metadata": {},
   "source": [
    "# To do:\n"
   ]
  },
  {
   "cell_type": "markdown",
   "metadata": {},
   "source": [
    "# League of Legends Machine Learning\n",
    "\n",
    "Load libraries and API key"
   ]
  },
  {
   "cell_type": "code",
   "execution_count": 1,
   "metadata": {
    "collapsed": false
   },
   "outputs": [],
   "source": [
    "import requests, json\n",
    "import numpy as np\n",
    "import API_io.API_io as API_io\n",
    "import importlib\n",
    "import pandas as pd"
   ]
  },
  {
   "cell_type": "code",
   "execution_count": 2,
   "metadata": {
    "collapsed": false
   },
   "outputs": [],
   "source": [
    "working_dir = 'C:\\\\Users\\\\Me\\\\Documents\\\\GitHub\\\\lolML'\n",
    "with open(working_dir+ '\\\\api_key.txt', 'r') as api_file:\n",
    "    api_key =  api_file.read()"
   ]
  },
  {
   "cell_type": "markdown",
   "metadata": {},
   "source": [
    "# Get summoner names, and list of matches\n",
    "\n",
    "Load featured games, and get a list of summoner_names"
   ]
  },
  {
   "cell_type": "code",
   "execution_count": null,
   "metadata": {
    "collapsed": false
   },
   "outputs": [],
   "source": [
    "featured_json = API_io.load_featured_games(api_key) # load json of featured games\n",
    "featured_game_ids = [x['gameId'] for x in featured_json ] #  use list comprehension to get featured games; don't use this"
   ]
  },
  {
   "cell_type": "markdown",
   "metadata": {},
   "source": [
    "Make a list of summoner names and summoner IDs from the featured JSON"
   ]
  },
  {
   "cell_type": "code",
   "execution_count": null,
   "metadata": {
    "collapsed": false
   },
   "outputs": [],
   "source": [
    "summoner_names, summoner_IDs = API_io.get_summoners_IDs_from_featured_games(featured_json, api_key)\n",
    "summoner_names[:5]"
   ]
  },
  {
   "cell_type": "markdown",
   "metadata": {},
   "source": [
    "Make a list of summoner ID urls to query RITO with, and then query them (this is rate limited to one query / 1.2 seconds to avoid overloading API)."
   ]
  },
  {
   "cell_type": "code",
   "execution_count": null,
   "metadata": {
    "collapsed": false
   },
   "outputs": [],
   "source": [
    "summoner_urls = [API_io.make_matchlist_url_summoner_ID(x, True, True, api_key) for x in summoner_IDs]\n",
    "summoner_urls[:2]\n",
    "match_histories = [API_io.get_limited_request(x) for x in summoner_urls ]"
   ]
  },
  {
   "cell_type": "markdown",
   "metadata": {},
   "source": [
    "Extract the match ID from the match history JSON"
   ]
  },
  {
   "cell_type": "code",
   "execution_count": null,
   "metadata": {
    "collapsed": false
   },
   "outputs": [],
   "source": [
    "match_IDs = np.empty(0, dtype=int)\n",
    "for cur_matches in match_histories:\n",
    "    match_IDs = np.append( match_IDs, [x['matchId'] for x in cur_matches['matches']] )\n",
    "pd.Series(match_IDs).to_csv('Match IDs.csv')\n",
    "match_IDs.shape"
   ]
  },
  {
   "cell_type": "markdown",
   "metadata": {},
   "source": [
    "### Load a csv of match info to skip above steps"
   ]
  },
  {
   "cell_type": "code",
   "execution_count": 66,
   "metadata": {
    "collapsed": false
   },
   "outputs": [
    {
     "data": {
      "text/plain": [
       "(27928,)"
      ]
     },
     "execution_count": 66,
     "metadata": {},
     "output_type": "execute_result"
    }
   ],
   "source": [
    "match_df = pd.read_csv('Match IDs.csv', header =None)\n",
    "match_IDs = match_df[1]\n",
    "match_IDs = match_IDs.unique()\n",
    "match_IDs.shape"
   ]
  },
  {
   "cell_type": "markdown",
   "metadata": {},
   "source": [
    "## Get a JSON of data (or load it from file)\n",
    "\n",
    "Now make a list of match url queries, and then query them; again this is rate limited. (Have not tested this for >500 queries.)"
   ]
  },
  {
   "cell_type": "code",
   "execution_count": 3,
   "metadata": {
    "collapsed": true
   },
   "outputs": [],
   "source": [
    "# load from file\n",
    "with open('games 1-2000.json') as game_file:\n",
    "    full_match_info = json.load(game_file)\n",
    "full_match_info = np.array(full_match_info)"
   ]
  },
  {
   "cell_type": "code",
   "execution_count": 67,
   "metadata": {
    "collapsed": false,
    "scrolled": true
   },
   "outputs": [
    {
     "data": {
      "text/plain": [
       "['https://na.api.pvp.net/api/lol/na/v2.2/match/1955239698?includeTimeline=true&api_key=0da3703d-7bf5-4e72-96cd-5062b28720d7',\n",
       " 'https://na.api.pvp.net/api/lol/na/v2.2/match/1954974642?includeTimeline=true&api_key=0da3703d-7bf5-4e72-96cd-5062b28720d7']"
      ]
     },
     "execution_count": 67,
     "metadata": {},
     "output_type": "execute_result"
    }
   ],
   "source": [
    "# make urls for loading\n",
    "match_urls = [API_io.make_match_info_url(x, True, api_key) for x in match_IDs] # True flag means we get the timeline\n",
    "match_urls[:2]"
   ]
  },
  {
   "cell_type": "code",
   "execution_count": 68,
   "metadata": {
    "collapsed": true
   },
   "outputs": [],
   "source": [
    "import time"
   ]
  },
  {
   "cell_type": "code",
   "execution_count": null,
   "metadata": {
    "collapsed": false
   },
   "outputs": [],
   "source": [
    "import sys\n",
    "match_range = np.arange(2000,2010)\n",
    "# this for loop is ugly; used list comprehension previously, but rate limit was fluky\n",
    "full_match_info = np.empty(0)\n",
    "for cur_match in match_range:\n",
    "    time.sleep(1.2) # RIOT API is throttled to ~0.83 requests / second\n",
    "    try:\n",
    "        full_match_info = np.append(full_match_info, requests.get(match_urls[cur_match]).json() )\n",
    "    except requests.exceptions.HTTPError as e:\n",
    "        print('Error: ' + e + ' in game ' + str(match_IDs[cur_match]))\n",
    "    except:\n",
    "        err = sys.exc_info()[0]\n",
    "        print('Error: ' + str(err) + ' in game ' + str(match_IDs[cur_match]))"
   ]
  },
  {
   "cell_type": "markdown",
   "metadata": {},
   "source": [
    "Save the JSON so we don't have to query again."
   ]
  },
  {
   "cell_type": "code",
   "execution_count": null,
   "metadata": {
    "collapsed": false
   },
   "outputs": [],
   "source": [
    "with open('full matchinfo.csv', 'w') as out_file:\n",
    "    json.dump(full_match_info.tolist(), out_file)"
   ]
  },
  {
   "cell_type": "code",
   "execution_count": 10,
   "metadata": {
    "collapsed": false
   },
   "outputs": [],
   "source": [
    "# saving as a pickle file save ~%40 of the space\n",
    "import pickle\n",
    "with open('full match info.pickle', 'wb') as pickle_file:\n",
    "    pickle.dump(full_match_info, pickle_file)"
   ]
  },
  {
   "cell_type": "markdown",
   "metadata": {},
   "source": [
    "# Analyze game data\n",
    "\n",
    "## Explore and clean data\n",
    "\n",
    "First, load some more libraries\n"
   ]
  },
  {
   "cell_type": "code",
   "execution_count": 11,
   "metadata": {
    "collapsed": true
   },
   "outputs": [],
   "source": [
    "import matplotlib.pyplot as plt\n",
    "import API_io.plotting as lol_plt\n",
    "%matplotlib inline"
   ]
  },
  {
   "cell_type": "markdown",
   "metadata": {},
   "source": [
    "Plot the length of games"
   ]
  },
  {
   "cell_type": "code",
   "execution_count": 12,
   "metadata": {
    "collapsed": false
   },
   "outputs": [
    {
     "data": {
      "image/png": "[encoded data removed]",
      "text/plain": [
       "<matplotlib.figure.Figure at 0x106e09320>"
      ]
     },
     "metadata": {},
     "output_type": "display_data"
    }
   ],
   "source": [
    "game_lengths = np.array([np.size(x['timeline']['frames']) for x in full_match_info] )\n",
    "plt.hist(game_lengths, bins = 50);\n",
    "plt.xlabel('Game length (min)', fontsize = 18)\n",
    "plt.ylabel('# Games', fontsize = 18)\n",
    "lol_plt.prettify_axes(plt.gca())"
   ]
  },
  {
   "cell_type": "markdown",
   "metadata": {},
   "source": [
    "Some games don't even last twenty minutes! There is also a large spike of games ending around 20 minutes due to surrenders. When we create features, the feature calculator will have to consider game length."
   ]
  },
  {
   "cell_type": "markdown",
   "metadata": {},
   "source": [
    "## Create features\n",
    "\n",
    "Create features for the classifier; now just starting with simple stuff like first blood, first tower, and first dragon."
   ]
  },
  {
   "cell_type": "code",
   "execution_count": 38,
   "metadata": {
    "collapsed": false
   },
   "outputs": [
    {
     "name": "stdout",
     "output_type": "stream",
     "text": [
      "Empty frame 2 in match 1855669672\n",
      "Empty frame 2 in match 1855669672\n",
      "Empty frame 2 in match 1855669672\n",
      "Empty frame 2 in match 1855669672\n",
      "Empty frame 2 in match 1806529918\n",
      "Empty frame 2 in match 1806529918\n",
      "Empty frame 2 in match 1806529918\n",
      "Empty frame 2 in match 1806529918\n"
     ]
    },
    {
     "data": {
      "text/html": [
       "<div>\n",
       "<table border=\"1\" class=\"dataframe\">\n",
       "  <thead>\n",
       "    <tr style=\"text-align: right;\">\n",
       "      <th></th>\n",
       "      <th>first_dragon</th>\n",
       "      <th>blue_dragons</th>\n",
       "      <th>red_dragons</th>\n",
       "      <th>drag_diff</th>\n",
       "      <th>first_baron</th>\n",
       "      <th>blue_barons</th>\n",
       "      <th>red_barons</th>\n",
       "      <th>first_tower</th>\n",
       "      <th>blue_towers</th>\n",
       "      <th>red_towers</th>\n",
       "      <th>...</th>\n",
       "      <th>first_blood</th>\n",
       "      <th>gold_diff</th>\n",
       "      <th>blue_kills</th>\n",
       "      <th>red_kills</th>\n",
       "      <th>blue_share</th>\n",
       "      <th>red_share</th>\n",
       "      <th>kills_diff</th>\n",
       "      <th>surrender</th>\n",
       "      <th>game_length</th>\n",
       "      <th>winner</th>\n",
       "    </tr>\n",
       "  </thead>\n",
       "  <tbody>\n",
       "    <tr>\n",
       "      <th>0</th>\n",
       "      <td>1</td>\n",
       "      <td>1</td>\n",
       "      <td>1</td>\n",
       "      <td>0</td>\n",
       "      <td>-1</td>\n",
       "      <td>0</td>\n",
       "      <td>0</td>\n",
       "      <td>1</td>\n",
       "      <td>3</td>\n",
       "      <td>2</td>\n",
       "      <td>...</td>\n",
       "      <td>1</td>\n",
       "      <td>1849</td>\n",
       "      <td>14</td>\n",
       "      <td>11</td>\n",
       "      <td>0.571429</td>\n",
       "      <td>0.454545</td>\n",
       "      <td>3</td>\n",
       "      <td>1</td>\n",
       "      <td>37</td>\n",
       "      <td>1</td>\n",
       "    </tr>\n",
       "    <tr>\n",
       "      <th>1</th>\n",
       "      <td>0</td>\n",
       "      <td>0</td>\n",
       "      <td>2</td>\n",
       "      <td>-2</td>\n",
       "      <td>-1</td>\n",
       "      <td>0</td>\n",
       "      <td>0</td>\n",
       "      <td>0</td>\n",
       "      <td>1</td>\n",
       "      <td>3</td>\n",
       "      <td>...</td>\n",
       "      <td>1</td>\n",
       "      <td>-2110</td>\n",
       "      <td>11</td>\n",
       "      <td>11</td>\n",
       "      <td>0.363636</td>\n",
       "      <td>0.272727</td>\n",
       "      <td>0</td>\n",
       "      <td>1</td>\n",
       "      <td>32</td>\n",
       "      <td>0</td>\n",
       "    </tr>\n",
       "    <tr>\n",
       "      <th>2</th>\n",
       "      <td>0</td>\n",
       "      <td>0</td>\n",
       "      <td>1</td>\n",
       "      <td>-1</td>\n",
       "      <td>-1</td>\n",
       "      <td>0</td>\n",
       "      <td>0</td>\n",
       "      <td>0</td>\n",
       "      <td>2</td>\n",
       "      <td>2</td>\n",
       "      <td>...</td>\n",
       "      <td>1</td>\n",
       "      <td>-641</td>\n",
       "      <td>3</td>\n",
       "      <td>6</td>\n",
       "      <td>0.666667</td>\n",
       "      <td>0.500000</td>\n",
       "      <td>-3</td>\n",
       "      <td>0</td>\n",
       "      <td>44</td>\n",
       "      <td>0</td>\n",
       "    </tr>\n",
       "    <tr>\n",
       "      <th>3</th>\n",
       "      <td>1</td>\n",
       "      <td>1</td>\n",
       "      <td>0</td>\n",
       "      <td>1</td>\n",
       "      <td>-1</td>\n",
       "      <td>0</td>\n",
       "      <td>0</td>\n",
       "      <td>1</td>\n",
       "      <td>3</td>\n",
       "      <td>0</td>\n",
       "      <td>...</td>\n",
       "      <td>1</td>\n",
       "      <td>5942</td>\n",
       "      <td>14</td>\n",
       "      <td>9</td>\n",
       "      <td>0.357143</td>\n",
       "      <td>0.333333</td>\n",
       "      <td>5</td>\n",
       "      <td>1</td>\n",
       "      <td>27</td>\n",
       "      <td>1</td>\n",
       "    </tr>\n",
       "    <tr>\n",
       "      <th>4</th>\n",
       "      <td>0</td>\n",
       "      <td>0</td>\n",
       "      <td>1</td>\n",
       "      <td>-1</td>\n",
       "      <td>-1</td>\n",
       "      <td>0</td>\n",
       "      <td>0</td>\n",
       "      <td>1</td>\n",
       "      <td>3</td>\n",
       "      <td>1</td>\n",
       "      <td>...</td>\n",
       "      <td>1</td>\n",
       "      <td>8496</td>\n",
       "      <td>26</td>\n",
       "      <td>13</td>\n",
       "      <td>0.346154</td>\n",
       "      <td>0.461538</td>\n",
       "      <td>13</td>\n",
       "      <td>0</td>\n",
       "      <td>31</td>\n",
       "      <td>1</td>\n",
       "    </tr>\n",
       "  </tbody>\n",
       "</table>\n",
       "<p>5 rows × 24 columns</p>\n",
       "</div>"
      ],
      "text/plain": [
       "  first_dragon  blue_dragons  red_dragons  drag_diff first_baron  blue_barons  \\\n",
       "0            1             1            1          0          -1            0   \n",
       "1            0             0            2         -2          -1            0   \n",
       "2            0             0            1         -1          -1            0   \n",
       "3            1             1            0          1          -1            0   \n",
       "4            0             0            1         -1          -1            0   \n",
       "\n",
       "   red_barons first_tower  blue_towers  red_towers   ...    first_blood  \\\n",
       "0           0           1            3           2   ...              1   \n",
       "1           0           0            1           3   ...              1   \n",
       "2           0           0            2           2   ...              1   \n",
       "3           0           1            3           0   ...              1   \n",
       "4           0           1            3           1   ...              1   \n",
       "\n",
       "  gold_diff  blue_kills  red_kills blue_share  red_share  kills_diff  \\\n",
       "0      1849          14         11   0.571429   0.454545           3   \n",
       "1     -2110          11         11   0.363636   0.272727           0   \n",
       "2      -641           3          6   0.666667   0.500000          -3   \n",
       "3      5942          14          9   0.357143   0.333333           5   \n",
       "4      8496          26         13   0.346154   0.461538          13   \n",
       "\n",
       "   surrender  game_length  winner  \n",
       "0          1           37       1  \n",
       "1          1           32       0  \n",
       "2          0           44       0  \n",
       "3          1           27       1  \n",
       "4          0           31       1  \n",
       "\n",
       "[5 rows x 24 columns]"
      ]
     },
     "execution_count": 38,
     "metadata": {},
     "output_type": "execute_result"
    }
   ],
   "source": [
    "from API_io import feature_calc\n",
    "importlib.reload(feature_calc)\n",
    "games_df = feature_calc.calc_features_all_matches(full_match_info, 20)\n",
    "games_df.head()"
   ]
  },
  {
   "cell_type": "code",
   "execution_count": 39,
   "metadata": {
    "collapsed": false
   },
   "outputs": [
    {
     "data": {
      "text/plain": [
       "first_dragon    category\n",
       "blue_dragons     float64\n",
       "red_dragons      float64\n",
       "drag_diff        float64\n",
       "first_baron     category\n",
       "blue_barons      float64\n",
       "red_barons       float64\n",
       "first_tower     category\n",
       "blue_towers      float64\n",
       "red_towers       float64\n",
       "tower_diff       float64\n",
       "first_inhib     category\n",
       "blue_inhibs      float64\n",
       "red_inhibs       float64\n",
       "first_blood     category\n",
       "gold_diff        float64\n",
       "blue_kills       float64\n",
       "red_kills        float64\n",
       "blue_share       float64\n",
       "red_share        float64\n",
       "kills_diff       float64\n",
       "surrender       category\n",
       "game_length      float64\n",
       "winner          category\n",
       "dtype: object"
      ]
     },
     "execution_count": 39,
     "metadata": {},
     "output_type": "execute_result"
    }
   ],
   "source": [
    "games_df.dtypes"
   ]
  },
  {
   "cell_type": "code",
   "execution_count": 40,
   "metadata": {
    "collapsed": false
   },
   "outputs": [
    {
     "data": {
      "image/png": "[encoded data removed]",
      "text/plain": [
       "<matplotlib.figure.Figure at 0x1084df828>"
      ]
     },
     "metadata": {},
     "output_type": "display_data"
    }
   ],
   "source": [
    "count, bins, _ = plt.hist(games_df['gold_diff'] / 1000, bins = 50)\n",
    "plt.ylabel('# Games', fontsize = 18)\n",
    "plt.xlabel('Gold difference (thousands)', fontsize = 18)\n",
    "lol_plt.prettify_axes(plt.gca())"
   ]
  },
  {
   "cell_type": "code",
   "execution_count": 41,
   "metadata": {
    "collapsed": false
   },
   "outputs": [
    {
     "data": {
      "image/png": "[encoded data removed]",
      "text/plain": [
       "<matplotlib.figure.Figure at 0x108559cc0>"
      ]
     },
     "metadata": {},
     "output_type": "display_data"
    }
   ],
   "source": [
    "bins = np.arange(40)\n",
    "kills_fig = plt.figure()\n",
    "plt.hist(games_df['blue_kills'] , bins = bins, color = 'blue')\n",
    "plt.hist(games_df['red_kills'] , bins = bins, color = 'red', alpha = 0.5)\n",
    "plt.ylabel('# Games', fontsize = 18)\n",
    "plt.xlabel('Kills', fontsize = 18)\n",
    "lol_plt.prettify_axes(plt.gca())\n",
    "#plt.gca().set_xticklabels(bins / 1000, rotation = 90)"
   ]
  },
  {
   "cell_type": "markdown",
   "metadata": {},
   "source": [
    "# Run machine learning algorithms: \n",
    "## Load libraries, and initialize feature info"
   ]
  },
  {
   "cell_type": "code",
   "execution_count": 42,
   "metadata": {
    "collapsed": false
   },
   "outputs": [],
   "source": [
    "# load sklearn package \n",
    "from sklearn.naive_bayes import GaussianNB\n",
    "from sklearn.metrics import confusion_matrix\n",
    "from sklearn import cross_validation"
   ]
  },
  {
   "cell_type": "code",
   "execution_count": 50,
   "metadata": {
    "collapsed": false
   },
   "outputs": [
    {
     "data": {
      "text/plain": [
       "Index(['first_dragon', 'blue_dragons', 'red_dragons', 'drag_diff',\n",
       "       'first_baron', 'blue_barons', 'red_barons', 'first_tower',\n",
       "       'blue_towers', 'red_towers', 'tower_diff', 'first_inhib', 'blue_inhibs',\n",
       "       'red_inhibs', 'first_blood', 'gold_diff', 'blue_kills', 'red_kills',\n",
       "       'blue_share', 'red_share', 'kills_diff', 'surrender'],\n",
       "      dtype='object')"
      ]
     },
     "execution_count": 50,
     "metadata": {},
     "output_type": "execute_result"
    }
   ],
   "source": [
    "# variables for classifiers\n",
    "col_names = games_df.columns\n",
    "train_col = games_df.columns[(games_df.columns != 'winner') & (games_df.columns != 'game_length')]\n",
    "num_features = np.size(train_col)\n",
    "train_col"
   ]
  },
  {
   "cell_type": "markdown",
   "metadata": {},
   "source": [
    "## Naive Bayes:\n",
    "\n",
    "First let's see how good prediction is with each feature individually"
   ]
  },
  {
   "cell_type": "code",
   "execution_count": null,
   "metadata": {
    "collapsed": false
   },
   "outputs": [],
   "source": [
    "gnb = GaussianNB()\n",
    "def quick_score(games_df, col_index):\n",
    "    gnb.fit(games_df[[col_index]], games_df['winner'])\n",
    "    return gnb.score(games_df[[col_index]], games_df['winner'])\n",
    "\n",
    "[quick_score(games_df, x) for x in np.arange(num_features-1)]"
   ]
  },
  {
   "cell_type": "markdown",
   "metadata": {},
   "source": [
    "First dragon and first tower are both pretty meaningful, but first blood isn't. The most important thing, though, is gold.\n",
    "\n",
    "Now let's use machine learning to look at everything together. Let's do a 10-fold cross-validation on the data, and see what the average score is."
   ]
  },
  {
   "cell_type": "code",
   "execution_count": null,
   "metadata": {
    "collapsed": false
   },
   "outputs": [],
   "source": [
    "scores = cross_validation.cross_val_score(gnb, games_df[train_col], games_df['winner'], cv=10)\n",
    "print(np.mean(scores))"
   ]
  },
  {
   "cell_type": "markdown",
   "metadata": {},
   "source": [
    "The full predictor is not that much more informative than the individual parameters! What if we try a:\n",
    "\n",
    "## Feature importance\n",
    "\n",
    "Some sample code using built in recursive feature elimination and cross-validation. I never waited long enough for this to finish!"
   ]
  },
  {
   "cell_type": "code",
   "execution_count": 20,
   "metadata": {
    "collapsed": false
   },
   "outputs": [],
   "source": [
    "from sklearn.feature_selection import RFECV\n",
    "from sklearn.svm import SVC\n",
    "\n",
    "svc = SVC(kernel=\"linear\")\n",
    "rfecv = RFECV(estimator=svc, step=1, cv=3,\n",
    "              scoring='accuracy')"
   ]
  },
  {
   "cell_type": "code",
   "execution_count": null,
   "metadata": {
    "collapsed": true
   },
   "outputs": [],
   "source": [
    "# this does not run\n",
    "rfecv.fit(timelines_df[-1][train_col], timelines_df[-1]['winner'])"
   ]
  },
  {
   "cell_type": "markdown",
   "metadata": {},
   "source": [
    "## Random Forest Feature Importance\n",
    "\n",
    "Start with a non-cross validated random forest to get a sense of which features are important"
   ]
  },
  {
   "cell_type": "code",
   "execution_count": 44,
   "metadata": {
    "collapsed": true
   },
   "outputs": [],
   "source": [
    "from sklearn.ensemble import RandomForestClassifier"
   ]
  },
  {
   "cell_type": "code",
   "execution_count": 51,
   "metadata": {
    "collapsed": false
   },
   "outputs": [
    {
     "data": {
      "text/plain": [
       "RandomForestClassifier(bootstrap=True, class_weight=None, criterion='gini',\n",
       "            max_depth=None, max_features='auto', max_leaf_nodes=None,\n",
       "            min_samples_leaf=1, min_samples_split=2,\n",
       "            min_weight_fraction_leaf=0.0, n_estimators=199, n_jobs=3,\n",
       "            oob_score=False, random_state=None, verbose=0,\n",
       "            warm_start=False)"
      ]
     },
     "execution_count": 51,
     "metadata": {},
     "output_type": "execute_result"
    }
   ],
   "source": [
    "big_forest = RandomForestClassifier(n_jobs = 3, n_estimators = 199)\n",
    "big_forest.fit(games_df[train_col], games_df['winner'])"
   ]
  },
  {
   "cell_type": "code",
   "execution_count": 52,
   "metadata": {
    "collapsed": false
   },
   "outputs": [],
   "source": [
    "importances = big_forest.feature_importances_\n",
    "std = np.std([tree.feature_importances_ for tree in big_forest.estimators_],\n",
    "             axis=0)\n",
    "indices = np.argsort(importances)[::-1]\n",
    "#for f in range(10):\n",
    "#    print(\"%d. feature %s (%f)\" % (f + 1, str(train_col[indices[f]]), importances[indices[f]]))"
   ]
  },
  {
   "cell_type": "code",
   "execution_count": 53,
   "metadata": {
    "collapsed": false,
    "scrolled": true
   },
   "outputs": [
    {
     "data": {
      "image/png": "[encoded data removed]",
      "text/plain": [
       "<matplotlib.figure.Figure at 0x109465fd0>"
      ]
     },
     "metadata": {},
     "output_type": "display_data"
    }
   ],
   "source": [
    "plt.figure()\n",
    "plt.title(\"Feature importances\")\n",
    "plt.bar(range(num_features), importances[indices],\n",
    "       color=\"r\", yerr=std[indices], align=\"center\")\n",
    "plt.xticks(range(num_features), indices)\n",
    "plt.xlim([-1, num_features])\n",
    "x_tick_labels = [str(x) for x in train_col[indices]]\n",
    "plt.gca().set_xticklabels(x_tick_labels, rotation = 90)\n",
    "lol_plt.prettify_axes(plt.gca())\n",
    "plt.show()"
   ]
  },
  {
   "cell_type": "markdown",
   "metadata": {},
   "source": [
    "Gold differential is the most important feature, as one might guess. By twenty minutes, features like first blood, dragon, and tower are less important. Let's narrow our features to the top ten."
   ]
  },
  {
   "cell_type": "code",
   "execution_count": 54,
   "metadata": {
    "collapsed": false
   },
   "outputs": [
    {
     "data": {
      "text/plain": [
       "Index(['gold_diff', 'kills_diff', 'tower_diff', 'blue_kills', 'blue_share',\n",
       "       'red_kills', 'red_share', 'blue_towers', 'red_towers', 'drag_diff'],\n",
       "      dtype='object')"
      ]
     },
     "execution_count": 54,
     "metadata": {},
     "output_type": "execute_result"
    }
   ],
   "source": [
    "important_col = train_col[indices[:10]]\n",
    "important_col"
   ]
  },
  {
   "cell_type": "markdown",
   "metadata": {},
   "source": [
    "## Does game get more predictable over time?\n",
    "\n",
    "Let's create 4 data frames, with gold, kills, and other features at 5-20 minutes."
   ]
  },
  {
   "cell_type": "code",
   "execution_count": null,
   "metadata": {
    "collapsed": false
   },
   "outputs": [
    {
     "name": "stdout",
     "output_type": "stream",
     "text": [
      "Empty frame 2 in match 1855669672\n",
      "Empty frame 2 in match 1855669672\n",
      "Empty frame 2 in match 1855669672\n",
      "Empty frame 2 in match 1855669672\n",
      "Empty frame 2 in match 1806529918"
     ]
    }
   ],
   "source": [
    "timeline_end = 25\n",
    "time_indices = np.arange(5, timeline_end, 5)\n",
    "timelines_df = [feature_calc.calc_features_all_matches(full_match_info, x) for x in time_indices]\n",
    "print([x.size for x in timelines_df])"
   ]
  },
  {
   "cell_type": "code",
   "execution_count": 35,
   "metadata": {
    "collapsed": false
   },
   "outputs": [],
   "source": [
    "rfc = RandomForestClassifier(n_jobs = 2, n_estimators = 199)\n",
    "def cross_validate_df(cur_df):\n",
    "    return cross_validation.cross_val_score(rfc, cur_df[important_col], cur_df['winner'], cv=10, n_jobs = 2)\n",
    "\n",
    "scores_list = [cross_validate_df(x) for x in timelines_df]"
   ]
  },
  {
   "cell_type": "code",
   "execution_count": 43,
   "metadata": {
    "collapsed": false
   },
   "outputs": [
    {
     "data": {
      "image/png": "[encoded data removed]",
      "text/plain": [
       "<matplotlib.figure.Figure at 0x2b4ea358>"
      ]
     },
     "metadata": {},
     "output_type": "display_data"
    }
   ],
   "source": [
    "plt.plot(time_indices, np.mean(scores_list, 1))\n",
    "plt.ylim( 0.5, 1)\n",
    "plt.xlabel('Time (min)', fontsize = 18)\n",
    "plt.ylabel('Prediction accuracy', fontsize = 18)\n",
    "plt.xticks(time_indices)\n",
    "lol_plt.prettify_axes(plt.gca())"
   ]
  },
  {
   "cell_type": "markdown",
   "metadata": {
    "collapsed": true
   },
   "source": [
    "## Are surrendered games winnable?\n",
    "\n",
    "First, separate games into surrendered early, and those that were semi-close."
   ]
  },
  {
   "cell_type": "code",
   "execution_count": 27,
   "metadata": {
    "collapsed": false
   },
   "outputs": [
    {
     "data": {
      "text/html": [
       "<div>\n",
       "<table border=\"1\" class=\"dataframe\">\n",
       "  <thead>\n",
       "    <tr style=\"text-align: right;\">\n",
       "      <th></th>\n",
       "      <th>first_dragon</th>\n",
       "      <th>blue_dragons</th>\n",
       "      <th>red_dragons</th>\n",
       "      <th>first_baron</th>\n",
       "      <th>blue_barons</th>\n",
       "      <th>red_barons</th>\n",
       "      <th>first_tower</th>\n",
       "      <th>blue_towers</th>\n",
       "      <th>red_towers</th>\n",
       "      <th>first_inhib</th>\n",
       "      <th>...</th>\n",
       "      <th>red_inhibs</th>\n",
       "      <th>first_blood</th>\n",
       "      <th>gold_diff</th>\n",
       "      <th>blue_kills</th>\n",
       "      <th>red_kills</th>\n",
       "      <th>blue_share</th>\n",
       "      <th>red_share</th>\n",
       "      <th>surrender</th>\n",
       "      <th>game_length</th>\n",
       "      <th>winner</th>\n",
       "    </tr>\n",
       "  </thead>\n",
       "  <tbody>\n",
       "    <tr>\n",
       "      <th>0</th>\n",
       "      <td>1</td>\n",
       "      <td>1</td>\n",
       "      <td>1</td>\n",
       "      <td>-1</td>\n",
       "      <td>0</td>\n",
       "      <td>0</td>\n",
       "      <td>1</td>\n",
       "      <td>3</td>\n",
       "      <td>2</td>\n",
       "      <td>-1</td>\n",
       "      <td>...</td>\n",
       "      <td>0</td>\n",
       "      <td>1</td>\n",
       "      <td>1849</td>\n",
       "      <td>14</td>\n",
       "      <td>11</td>\n",
       "      <td>0.571429</td>\n",
       "      <td>0.454545</td>\n",
       "      <td>1</td>\n",
       "      <td>37</td>\n",
       "      <td>1</td>\n",
       "    </tr>\n",
       "    <tr>\n",
       "      <th>1</th>\n",
       "      <td>0</td>\n",
       "      <td>0</td>\n",
       "      <td>2</td>\n",
       "      <td>-1</td>\n",
       "      <td>0</td>\n",
       "      <td>0</td>\n",
       "      <td>0</td>\n",
       "      <td>1</td>\n",
       "      <td>3</td>\n",
       "      <td>-1</td>\n",
       "      <td>...</td>\n",
       "      <td>0</td>\n",
       "      <td>1</td>\n",
       "      <td>-2110</td>\n",
       "      <td>11</td>\n",
       "      <td>11</td>\n",
       "      <td>0.363636</td>\n",
       "      <td>0.272727</td>\n",
       "      <td>1</td>\n",
       "      <td>32</td>\n",
       "      <td>0</td>\n",
       "    </tr>\n",
       "    <tr>\n",
       "      <th>2</th>\n",
       "      <td>0</td>\n",
       "      <td>0</td>\n",
       "      <td>1</td>\n",
       "      <td>-1</td>\n",
       "      <td>0</td>\n",
       "      <td>0</td>\n",
       "      <td>0</td>\n",
       "      <td>2</td>\n",
       "      <td>2</td>\n",
       "      <td>-1</td>\n",
       "      <td>...</td>\n",
       "      <td>0</td>\n",
       "      <td>1</td>\n",
       "      <td>-641</td>\n",
       "      <td>3</td>\n",
       "      <td>6</td>\n",
       "      <td>0.666667</td>\n",
       "      <td>0.500000</td>\n",
       "      <td>0</td>\n",
       "      <td>44</td>\n",
       "      <td>0</td>\n",
       "    </tr>\n",
       "    <tr>\n",
       "      <th>3</th>\n",
       "      <td>1</td>\n",
       "      <td>1</td>\n",
       "      <td>0</td>\n",
       "      <td>-1</td>\n",
       "      <td>0</td>\n",
       "      <td>0</td>\n",
       "      <td>1</td>\n",
       "      <td>3</td>\n",
       "      <td>0</td>\n",
       "      <td>-1</td>\n",
       "      <td>...</td>\n",
       "      <td>0</td>\n",
       "      <td>1</td>\n",
       "      <td>5942</td>\n",
       "      <td>14</td>\n",
       "      <td>9</td>\n",
       "      <td>0.357143</td>\n",
       "      <td>0.333333</td>\n",
       "      <td>1</td>\n",
       "      <td>27</td>\n",
       "      <td>1</td>\n",
       "    </tr>\n",
       "    <tr>\n",
       "      <th>4</th>\n",
       "      <td>0</td>\n",
       "      <td>0</td>\n",
       "      <td>1</td>\n",
       "      <td>-1</td>\n",
       "      <td>0</td>\n",
       "      <td>0</td>\n",
       "      <td>1</td>\n",
       "      <td>3</td>\n",
       "      <td>1</td>\n",
       "      <td>-1</td>\n",
       "      <td>...</td>\n",
       "      <td>0</td>\n",
       "      <td>1</td>\n",
       "      <td>8496</td>\n",
       "      <td>26</td>\n",
       "      <td>13</td>\n",
       "      <td>0.346154</td>\n",
       "      <td>0.461538</td>\n",
       "      <td>0</td>\n",
       "      <td>31</td>\n",
       "      <td>1</td>\n",
       "    </tr>\n",
       "  </tbody>\n",
       "</table>\n",
       "<p>5 rows × 21 columns</p>\n",
       "</div>"
      ],
      "text/plain": [
       "  first_dragon  blue_dragons  red_dragons first_baron  blue_barons  \\\n",
       "0            1             1            1          -1            0   \n",
       "1            0             0            2          -1            0   \n",
       "2            0             0            1          -1            0   \n",
       "3            1             1            0          -1            0   \n",
       "4            0             0            1          -1            0   \n",
       "\n",
       "   red_barons first_tower  blue_towers  red_towers first_inhib   ...    \\\n",
       "0           0           1            3           2          -1   ...     \n",
       "1           0           0            1           3          -1   ...     \n",
       "2           0           0            2           2          -1   ...     \n",
       "3           0           1            3           0          -1   ...     \n",
       "4           0           1            3           1          -1   ...     \n",
       "\n",
       "   red_inhibs  first_blood gold_diff  blue_kills  red_kills  blue_share  \\\n",
       "0           0            1      1849          14         11    0.571429   \n",
       "1           0            1     -2110          11         11    0.363636   \n",
       "2           0            1      -641           3          6    0.666667   \n",
       "3           0            1      5942          14          9    0.357143   \n",
       "4           0            1      8496          26         13    0.346154   \n",
       "\n",
       "   red_share  surrender game_length  winner  \n",
       "0   0.454545          1          37       1  \n",
       "1   0.272727          1          32       0  \n",
       "2   0.500000          0          44       0  \n",
       "3   0.333333          1          27       1  \n",
       "4   0.461538          0          31       1  \n",
       "\n",
       "[5 rows x 21 columns]"
      ]
     },
     "execution_count": 27,
     "metadata": {},
     "output_type": "execute_result"
    }
   ],
   "source": [
    "surrender_at_20_df = games_df.query('(surrender == 1) & (game_length <=25)')\n",
    "good_games_df = games_df.query('(surrender == 0) | (game_length >25)')"
   ]
  },
  {
   "cell_type": "code",
   "execution_count": 38,
   "metadata": {
    "collapsed": false
   },
   "outputs": [
    {
     "data": {
      "image/png": "[encoded data removed]",
      "text/plain": [
       "<matplotlib.figure.Figure at 0x350ec240>"
      ]
     },
     "metadata": {},
     "output_type": "display_data"
    }
   ],
   "source": [
    "surrender_at_20_df['gold_diff'].hist(bins=20)\n",
    "plt.xlabel('Gold difference', fontsize = 18)\n",
    "plt.ylabel('# Games', fontsize = 18)\n",
    "lol_plt.prettify_axes(plt.gca())"
   ]
  },
  {
   "cell_type": "markdown",
   "metadata": {},
   "source": [
    "Since these are stomps, the gold difference is bimodal towards large leads. However, there are a few games with small gold leads. First, let's see how accurate the random forest is for these stomps. (It should be high!)"
   ]
  },
  {
   "cell_type": "code",
   "execution_count": 51,
   "metadata": {
    "collapsed": false
   },
   "outputs": [
    {
     "data": {
      "text/plain": [
       "array([ 0.97297297,  1.        ,  1.        ,  1.        ,  1.        ,\n",
       "        1.        ,  1.        ,  1.        ,  1.        ,  0.97142857])"
      ]
     },
     "execution_count": 51,
     "metadata": {},
     "output_type": "execute_result"
    }
   ],
   "source": [
    "surrender_forest = RandomForestClassifier(n_jobs = 3, n_estimators = 10)\n",
    "cross_validation.cross_val_score(surrender_forest, surrender_at_20_df[important_col], surrender_at_20_df['winner'], cv=10)"
   ]
  },
  {
   "cell_type": "markdown",
   "metadata": {},
   "source": [
    "Pretty damn good! Ok, what happens if we train the model on the \"close\" games, and apply it to the surrendered ones?"
   ]
  },
  {
   "cell_type": "code",
   "execution_count": 52,
   "metadata": {
    "collapsed": false
   },
   "outputs": [
    {
     "data": {
      "text/plain": [
       "0.99447513812154698"
      ]
     },
     "execution_count": 52,
     "metadata": {},
     "output_type": "execute_result"
    }
   ],
   "source": [
    "close_forest = RandomForestClassifier(n_jobs = 3, n_estimators = 20)\n",
    "close_forest.fit(good_games_df[important_col], good_games_df['winner'])\n",
    "close_forest.score(surrender_at_20_df[important_col], surrender_at_20_df['winner'])"
   ]
  },
  {
   "cell_type": "markdown",
   "metadata": {},
   "source": [
    "Wow! If your team surrenders at 20, it was really probably an unwinnable game."
   ]
  },
  {
   "cell_type": "code",
   "execution_count": null,
   "metadata": {
    "collapsed": true
   },
   "outputs": [],
   "source": []
  }
 ],
 "metadata": {
  "kernelspec": {
   "display_name": "Python 3",
   "language": "python",
   "name": "python3"
  },
  "language_info": {
   "codemirror_mode": {
    "name": "ipython",
    "version": 3
   },
   "file_extension": ".py",
   "mimetype": "text/x-python",
   "name": "python",
   "nbconvert_exporter": "python",
   "pygments_lexer": "ipython3",
   "version": "3.4.3"
  }
 },
 "nbformat": 4,
 "nbformat_minor": 0
}
