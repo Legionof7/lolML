{
 "cells": [
  {
   "cell_type": "markdown",
   "metadata": {},
   "source": [
    "# To do:\n",
    "\n",
    "Make feature creator recognize whether first blood or dragon could have happened. - Have function to make it True / False / None; how do I put in empty values to models?"
   ]
  },
  {
   "cell_type": "markdown",
   "metadata": {},
   "source": [
    "Load libraries and API key"
   ]
  },
  {
   "cell_type": "code",
   "execution_count": 3,
   "metadata": {
    "collapsed": false
   },
   "outputs": [],
   "source": [
    "import requests, json\n",
    "import numpy as np\n",
    "import API_io.API_io as API_io\n",
    "import importlib\n",
    "import pandas as pd"
   ]
  },
  {
   "cell_type": "code",
   "execution_count": 4,
   "metadata": {
    "collapsed": false
   },
   "outputs": [],
   "source": [
    "working_dir = 'C:\\\\Users\\\\Me\\\\Documents\\\\GitHub\\\\lolML'\n",
    "with open(working_dir+ '\\\\api_key.txt', 'r') as api_file:\n",
    "    api_key =  api_file.read()"
   ]
  },
  {
   "cell_type": "markdown",
   "metadata": {},
   "source": [
    "# Get summoner names, and list of matches\n",
    "\n",
    "Load featured games, and get a list of summoner_names"
   ]
  },
  {
   "cell_type": "code",
   "execution_count": null,
   "metadata": {
    "collapsed": false
   },
   "outputs": [],
   "source": [
    "featured_json = API_io.load_featured_games(api_key) # load json of featured games\n",
    "featured_game_ids = [x['gameId'] for x in featured_json ] #  use list comprehension to get featured games; don't use this"
   ]
  },
  {
   "cell_type": "markdown",
   "metadata": {},
   "source": [
    "Make a list of summoner names and summoner IDs from the featured JSON"
   ]
  },
  {
   "cell_type": "code",
   "execution_count": null,
   "metadata": {
    "collapsed": false
   },
   "outputs": [],
   "source": [
    "summoner_names, summoner_IDs = API_io.get_summoners_IDs_from_featured_games(featured_json, api_key)"
   ]
  },
  {
   "cell_type": "markdown",
   "metadata": {},
   "source": [
    "Make a list of summoner ID urls to query RITO with, and then query them (this is rate limited to one query / 1.2 seconds to avoid overloading API)."
   ]
  },
  {
   "cell_type": "code",
   "execution_count": null,
   "metadata": {
    "collapsed": false
   },
   "outputs": [],
   "source": [
    "summoner_urls = [API_io.make_matchlist_url_summoner_ID(x, True, True, api_key) for x in summoner_IDs]\n",
    "summoner_urls[:2]\n",
    "match_histories = [API_io.get_limited_request(x) for x in summoner_urls ]"
   ]
  },
  {
   "cell_type": "markdown",
   "metadata": {},
   "source": [
    "Extract the match ID from the match history JSON"
   ]
  },
  {
   "cell_type": "code",
   "execution_count": null,
   "metadata": {
    "collapsed": false
   },
   "outputs": [],
   "source": [
    "match_IDs = np.empty(0, dtype=int)\n",
    "for cur_matches in match_histories:\n",
    "    match_IDs = np.append( match_IDs, [x['matchId'] for x in cur_matches['matches']] )\n",
    "pd.Series(match_IDs).to_csv('Match IDs.csv')\n",
    "match_IDs.shape"
   ]
  },
  {
   "cell_type": "markdown",
   "metadata": {},
   "source": [
    "### Load a csv of match info to skip above steps"
   ]
  },
  {
   "cell_type": "code",
   "execution_count": null,
   "metadata": {
    "collapsed": false
   },
   "outputs": [],
   "source": [
    "match_df = pd.read_csv('Match IDs.csv', header =None)\n",
    "match_IDs = match_df[1]\n",
    "match_IDs = match_IDs.unique()\n",
    "match_IDs.shape"
   ]
  },
  {
   "cell_type": "markdown",
   "metadata": {},
   "source": [
    "## Get a JSON of data (or load it from file)\n",
    "\n",
    "Now make a list of match url queries, and then query them; again this is rate limited. (Have not tested this for >500 queries.)"
   ]
  },
  {
   "cell_type": "code",
   "execution_count": 5,
   "metadata": {
    "collapsed": true
   },
   "outputs": [],
   "source": [
    "# load from file\n",
    "with open('games 1-2000.txt') as game_file:\n",
    "    full_match_info = json.load(game_file)\n",
    "full_match_info = np.array(full_match_info)"
   ]
  },
  {
   "cell_type": "code",
   "execution_count": null,
   "metadata": {
    "collapsed": false,
    "scrolled": true
   },
   "outputs": [],
   "source": [
    "# make urls for loading\n",
    "importlib.reload(API_io)\n",
    "match_urls = [API_io.make_match_info_url(x, True, api_key) for x in match_IDs] # True flag means we get the timeline\n",
    "match_urls[:2]"
   ]
  },
  {
   "cell_type": "code",
   "execution_count": null,
   "metadata": {
    "collapsed": true
   },
   "outputs": [],
   "source": [
    "import time"
   ]
  },
  {
   "cell_type": "code",
   "execution_count": null,
   "metadata": {
    "collapsed": false
   },
   "outputs": [],
   "source": [
    "match_range = np.arange(2000,3000)\n",
    "# this for loop is ugly; used list comprehension previously, but rate limit was fluky\n",
    "full_match_info = np.empty(0)\n",
    "for cur_match in match_range:\n",
    "    time.sleep(1.2)\n",
    "    full_match_info = np.append(full_match_info, requests.get(match_urls[cur_match]).json() )"
   ]
  },
  {
   "cell_type": "markdown",
   "metadata": {},
   "source": [
    "Save the JSON so we don't have to query again."
   ]
  },
  {
   "cell_type": "code",
   "execution_count": null,
   "metadata": {
    "collapsed": false
   },
   "outputs": [],
   "source": [
    "with open('full match info.txt', 'w') as out_file:\n",
    "    json.dump(full_match_info.tolist(), out_file)"
   ]
  },
  {
   "cell_type": "code",
   "execution_count": null,
   "metadata": {
    "collapsed": false
   },
   "outputs": [],
   "source": [
    "# saving as a pickle file save ~%40 of the space\n",
    "import pickle\n",
    "with open('test.pickle', 'wb') as pickle_file:\n",
    "    pickle.dump(full_match_info, pickle_file)"
   ]
  },
  {
   "cell_type": "markdown",
   "metadata": {},
   "source": [
    "# Analyze game data\n",
    "\n",
    "## Explore data\n",
    "\n",
    "First, load some more libraries\n"
   ]
  },
  {
   "cell_type": "code",
   "execution_count": 6,
   "metadata": {
    "collapsed": true
   },
   "outputs": [],
   "source": [
    "import matplotlib.pyplot as plt\n",
    "import API_io.plotting as lol_plt\n",
    "%matplotlib inline"
   ]
  },
  {
   "cell_type": "markdown",
   "metadata": {},
   "source": [
    "Plot the length of games"
   ]
  },
  {
   "cell_type": "code",
   "execution_count": 7,
   "metadata": {
    "collapsed": false
   },
   "outputs": [
    {
     "data": {
      "image/png": "[encoded data removed]",
      "text/plain": [
       "<matplotlib.figure.Figure at 0x3430f748>"
      ]
     },
     "metadata": {},
     "output_type": "display_data"
    }
   ],
   "source": [
    "game_lengths = np.array([np.size(x['timeline']['frames']) for x in full_match_info] )\n",
    "plt.hist(game_lengths, bins = 50);\n",
    "plt.xlabel('Game length (min)', fontsize = 18)\n",
    "plt.ylabel('# Games', fontsize = 18)\n",
    "lol_plt.prettify_axes(plt.gca())"
   ]
  },
  {
   "cell_type": "markdown",
   "metadata": {},
   "source": [
    "Uh oh! Some games are too short to analyze; let's eliminate all games less than 20 minutes long."
   ]
  },
  {
   "cell_type": "code",
   "execution_count": 8,
   "metadata": {
    "collapsed": false
   },
   "outputs": [
    {
     "data": {
      "text/plain": [
       "(1934,)"
      ]
     },
     "execution_count": 8,
     "metadata": {},
     "output_type": "execute_result"
    }
   ],
   "source": [
    "full_match_info = full_match_info[game_lengths >=21]\n",
    "full_match_info.shape # number of games left"
   ]
  },
  {
   "cell_type": "markdown",
   "metadata": {},
   "source": [
    "## Create features\n",
    "\n",
    "Create features for the classifier; now just starting with simple stuff like first blood, first tower, and first dragon."
   ]
  },
  {
   "cell_type": "code",
   "execution_count": 12,
   "metadata": {
    "collapsed": false
   },
   "outputs": [
    {
     "data": {
      "text/html": [
       "<div>\n",
       "<table border=\"1\" class=\"dataframe\">\n",
       "  <thead>\n",
       "    <tr style=\"text-align: right;\">\n",
       "      <th></th>\n",
       "      <th>first_dragon</th>\n",
       "      <th>blue_dragons</th>\n",
       "      <th>red_dragons</th>\n",
       "      <th>first_baron</th>\n",
       "      <th>blue_barons</th>\n",
       "      <th>red_barons</th>\n",
       "      <th>first_tower</th>\n",
       "      <th>blue_towers</th>\n",
       "      <th>red_towers</th>\n",
       "      <th>first_inhib</th>\n",
       "      <th>blue_inhibs</th>\n",
       "      <th>red_inhibs</th>\n",
       "      <th>first_blood</th>\n",
       "      <th>gold_diff</th>\n",
       "      <th>blue_kills</th>\n",
       "      <th>red_kills</th>\n",
       "      <th>blue_share</th>\n",
       "      <th>red_share</th>\n",
       "      <th>surrender</th>\n",
       "      <th>winner</th>\n",
       "    </tr>\n",
       "  </thead>\n",
       "  <tbody>\n",
       "    <tr>\n",
       "      <th>0</th>\n",
       "      <td>1</td>\n",
       "      <td>1</td>\n",
       "      <td>1</td>\n",
       "      <td>-1</td>\n",
       "      <td>0</td>\n",
       "      <td>0</td>\n",
       "      <td>1</td>\n",
       "      <td>3</td>\n",
       "      <td>2</td>\n",
       "      <td>-1</td>\n",
       "      <td>0</td>\n",
       "      <td>0</td>\n",
       "      <td>1</td>\n",
       "      <td>1849</td>\n",
       "      <td>14</td>\n",
       "      <td>11</td>\n",
       "      <td>0.571429</td>\n",
       "      <td>0.454545</td>\n",
       "      <td>1</td>\n",
       "      <td>1</td>\n",
       "    </tr>\n",
       "    <tr>\n",
       "      <th>1</th>\n",
       "      <td>0</td>\n",
       "      <td>0</td>\n",
       "      <td>2</td>\n",
       "      <td>-1</td>\n",
       "      <td>0</td>\n",
       "      <td>0</td>\n",
       "      <td>0</td>\n",
       "      <td>1</td>\n",
       "      <td>3</td>\n",
       "      <td>-1</td>\n",
       "      <td>0</td>\n",
       "      <td>0</td>\n",
       "      <td>1</td>\n",
       "      <td>-2110</td>\n",
       "      <td>11</td>\n",
       "      <td>11</td>\n",
       "      <td>0.363636</td>\n",
       "      <td>0.272727</td>\n",
       "      <td>1</td>\n",
       "      <td>0</td>\n",
       "    </tr>\n",
       "    <tr>\n",
       "      <th>2</th>\n",
       "      <td>0</td>\n",
       "      <td>0</td>\n",
       "      <td>1</td>\n",
       "      <td>-1</td>\n",
       "      <td>0</td>\n",
       "      <td>0</td>\n",
       "      <td>0</td>\n",
       "      <td>2</td>\n",
       "      <td>2</td>\n",
       "      <td>-1</td>\n",
       "      <td>0</td>\n",
       "      <td>0</td>\n",
       "      <td>1</td>\n",
       "      <td>-641</td>\n",
       "      <td>3</td>\n",
       "      <td>6</td>\n",
       "      <td>0.666667</td>\n",
       "      <td>0.500000</td>\n",
       "      <td>0</td>\n",
       "      <td>0</td>\n",
       "    </tr>\n",
       "    <tr>\n",
       "      <th>3</th>\n",
       "      <td>1</td>\n",
       "      <td>1</td>\n",
       "      <td>0</td>\n",
       "      <td>-1</td>\n",
       "      <td>0</td>\n",
       "      <td>0</td>\n",
       "      <td>1</td>\n",
       "      <td>3</td>\n",
       "      <td>0</td>\n",
       "      <td>-1</td>\n",
       "      <td>0</td>\n",
       "      <td>0</td>\n",
       "      <td>1</td>\n",
       "      <td>5942</td>\n",
       "      <td>14</td>\n",
       "      <td>9</td>\n",
       "      <td>0.357143</td>\n",
       "      <td>0.333333</td>\n",
       "      <td>1</td>\n",
       "      <td>1</td>\n",
       "    </tr>\n",
       "    <tr>\n",
       "      <th>4</th>\n",
       "      <td>0</td>\n",
       "      <td>0</td>\n",
       "      <td>1</td>\n",
       "      <td>-1</td>\n",
       "      <td>0</td>\n",
       "      <td>0</td>\n",
       "      <td>1</td>\n",
       "      <td>3</td>\n",
       "      <td>1</td>\n",
       "      <td>-1</td>\n",
       "      <td>0</td>\n",
       "      <td>0</td>\n",
       "      <td>1</td>\n",
       "      <td>8496</td>\n",
       "      <td>26</td>\n",
       "      <td>13</td>\n",
       "      <td>0.346154</td>\n",
       "      <td>0.461538</td>\n",
       "      <td>0</td>\n",
       "      <td>1</td>\n",
       "    </tr>\n",
       "  </tbody>\n",
       "</table>\n",
       "</div>"
      ],
      "text/plain": [
       "  first_dragon  blue_dragons  red_dragons first_baron  blue_barons  \\\n",
       "0            1             1            1          -1            0   \n",
       "1            0             0            2          -1            0   \n",
       "2            0             0            1          -1            0   \n",
       "3            1             1            0          -1            0   \n",
       "4            0             0            1          -1            0   \n",
       "\n",
       "   red_barons first_tower  blue_towers  red_towers first_inhib  blue_inhibs  \\\n",
       "0           0           1            3           2          -1            0   \n",
       "1           0           0            1           3          -1            0   \n",
       "2           0           0            2           2          -1            0   \n",
       "3           0           1            3           0          -1            0   \n",
       "4           0           1            3           1          -1            0   \n",
       "\n",
       "   red_inhibs first_blood  gold_diff  blue_kills  red_kills  blue_share  \\\n",
       "0           0           1       1849          14         11    0.571429   \n",
       "1           0           1      -2110          11         11    0.363636   \n",
       "2           0           1       -641           3          6    0.666667   \n",
       "3           0           1       5942          14          9    0.357143   \n",
       "4           0           1       8496          26         13    0.346154   \n",
       "\n",
       "   red_share surrender winner  \n",
       "0   0.454545         1      1  \n",
       "1   0.272727         1      0  \n",
       "2   0.500000         0      0  \n",
       "3   0.333333         1      1  \n",
       "4   0.461538         0      1  "
      ]
     },
     "execution_count": 12,
     "metadata": {},
     "output_type": "execute_result"
    }
   ],
   "source": [
    "from API_io import feature_calc\n",
    "games_df = feature_calc.calc_features_all_matches(full_match_info, 20)\n",
    "games_df.head()"
   ]
  },
  {
   "cell_type": "code",
   "execution_count": 13,
   "metadata": {
    "collapsed": false
   },
   "outputs": [
    {
     "data": {
      "text/plain": [
       "first_dragon    category\n",
       "blue_dragons       int32\n",
       "red_dragons        int32\n",
       "first_baron     category\n",
       "blue_barons        int32\n",
       "red_barons         int32\n",
       "first_tower     category\n",
       "blue_towers        int32\n",
       "red_towers         int32\n",
       "first_inhib     category\n",
       "blue_inhibs        int32\n",
       "red_inhibs         int32\n",
       "first_blood     category\n",
       "gold_diff          int32\n",
       "blue_kills         int32\n",
       "red_kills          int32\n",
       "blue_share       float64\n",
       "red_share        float64\n",
       "surrender       category\n",
       "winner          category\n",
       "dtype: object"
      ]
     },
     "execution_count": 13,
     "metadata": {},
     "output_type": "execute_result"
    }
   ],
   "source": [
    "games_df.dtypes"
   ]
  },
  {
   "cell_type": "markdown",
   "metadata": {},
   "source": [
    "# Run machine learning algorithms: \n",
    "## Load libraries, and initialize feature info"
   ]
  },
  {
   "cell_type": "code",
   "execution_count": 14,
   "metadata": {
    "collapsed": false
   },
   "outputs": [],
   "source": [
    "# load sklearn package \n",
    "from sklearn.naive_bayes import GaussianNB\n",
    "from sklearn.metrics import confusion_matrix\n",
    "from sklearn import cross_validation"
   ]
  },
  {
   "cell_type": "code",
   "execution_count": 15,
   "metadata": {
    "collapsed": false
   },
   "outputs": [
    {
     "data": {
      "text/plain": [
       "Index(['first_dragon', 'blue_dragons', 'red_dragons', 'first_baron',\n",
       "       'blue_barons', 'red_barons', 'first_tower', 'blue_towers', 'red_towers',\n",
       "       'first_inhib', 'blue_inhibs', 'red_inhibs', 'first_blood', 'gold_diff',\n",
       "       'blue_kills', 'red_kills', 'blue_share', 'red_share', 'surrender'],\n",
       "      dtype='object')"
      ]
     },
     "execution_count": 15,
     "metadata": {},
     "output_type": "execute_result"
    }
   ],
   "source": [
    "# variables for classifiers\n",
    "col_names = feature_calc.col_names\n",
    "num_features = np.size(col_names) - 1\n",
    "train_col = games_df.columns[:num_features]\n",
    "train_col"
   ]
  },
  {
   "cell_type": "markdown",
   "metadata": {},
   "source": [
    "## Naive Bayes:\n",
    "\n",
    "First let's see how good prediction is with each feature individually"
   ]
  },
  {
   "cell_type": "code",
   "execution_count": null,
   "metadata": {
    "collapsed": false
   },
   "outputs": [],
   "source": [
    "gnb = GaussianNB()\n",
    "def quick_score(games_df, col_index):\n",
    "    gnb.fit(games_df[[col_index]], games_df['winner'])\n",
    "    return gnb.score(games_df[[col_index]], games_df['winner'])\n",
    "\n",
    "[quick_score(games_df, x) for x in np.arange(num_features-1)]"
   ]
  },
  {
   "cell_type": "markdown",
   "metadata": {},
   "source": [
    "First dragon and first tower are both pretty meaningful, but first blood isn't. The most important thing, though, is gold.\n",
    "\n",
    "Now let's use machine learning to look at everything together. Let's do a 10-fold cross-validation on the data, and see what the average score is."
   ]
  },
  {
   "cell_type": "code",
   "execution_count": null,
   "metadata": {
    "collapsed": false
   },
   "outputs": [],
   "source": [
    "scores = cross_validation.cross_val_score(gnb, games_df[train_col], games_df['winner'], cv=10)\n",
    "print(np.mean(scores))"
   ]
  },
  {
   "cell_type": "markdown",
   "metadata": {},
   "source": [
    "The full predictor is not that much more informative than the individual parameters! What if we try a:\n",
    "\n",
    "## Randomized Forest"
   ]
  },
  {
   "cell_type": "code",
   "execution_count": 16,
   "metadata": {
    "collapsed": false
   },
   "outputs": [],
   "source": [
    "from sklearn.ensemble import RandomForestClassifier\n",
    "rfc = RandomForestClassifier(n_jobs = 2, n_estimators = 20)"
   ]
  },
  {
   "cell_type": "code",
   "execution_count": null,
   "metadata": {
    "collapsed": false
   },
   "outputs": [],
   "source": [
    "# single train test split\n",
    "rfc.fit(games_df[train_col][:1500], games_df['winner'][:1500])\n",
    "rfc.score(games_df[train_col][1500:], games_df['winner'][1500:])"
   ]
  },
  {
   "cell_type": "code",
   "execution_count": null,
   "metadata": {
    "collapsed": false
   },
   "outputs": [],
   "source": [
    "# cross-validated\n",
    "rfc_scores = cross_validation.cross_val_score(rfc, games_df[train_col], games_df['winner'], cv = 10)\n",
    "print(np.mean(rfc_scores))"
   ]
  },
  {
   "cell_type": "markdown",
   "metadata": {},
   "source": [
    "Somehow, the random forest is doing much worse than naive bayes!"
   ]
  },
  {
   "cell_type": "markdown",
   "metadata": {},
   "source": [
    "## Does game get more predictable over time?\n",
    "\n",
    "Let's create 3 data frames, with gold, kills, and other features at 5-20 minutes."
   ]
  },
  {
   "cell_type": "code",
   "execution_count": 14,
   "metadata": {
    "collapsed": false
   },
   "outputs": [],
   "source": [
    "timeline_end = 25\n",
    "timelines_df = [feature_calc.calc_features_all_matches(full_match_info, x) for x in np.arange(5, timeline_end, 5)]"
   ]
  },
  {
   "cell_type": "code",
   "execution_count": 17,
   "metadata": {
    "collapsed": false
   },
   "outputs": [],
   "source": [
    "def cross_validate_df(games_df):\n",
    "    return cross_validation.cross_val_score(rfc, games_df[train_col], games_df['winner'], cv=10)\n",
    "\n",
    "scores_list = [cross_validate_df(x) for x in timelines_df]"
   ]
  },
  {
   "cell_type": "code",
   "execution_count": 18,
   "metadata": {
    "collapsed": false
   },
   "outputs": [
    {
     "data": {
      "text/plain": [
       "<matplotlib.text.Text at 0x62e7a9b0>"
      ]
     },
     "execution_count": 18,
     "metadata": {},
     "output_type": "execute_result"
    },
    {
     "data": {
      "image/png": "[encoded data removed]",
      "text/plain": [
       "<matplotlib.figure.Figure at 0x12d55390>"
      ]
     },
     "metadata": {},
     "output_type": "display_data"
    }
   ],
   "source": [
    "plt.plot(np.arange(5, timeline_end, 5), np.mean(scores_list, 1))\n",
    "plt.ylim( 0.5, 1)\n",
    "plt.xlabel('Time (min)')\n",
    "plt.ylabel('Prediction accuracy')"
   ]
  },
  {
   "cell_type": "markdown",
   "metadata": {},
   "source": [
    "## Feature importance\n",
    "\n",
    "Some sample code using built in recursive feature elimination and cross-validation. I never waited long enough for this to finish!"
   ]
  },
  {
   "cell_type": "code",
   "execution_count": 20,
   "metadata": {
    "collapsed": false
   },
   "outputs": [],
   "source": [
    "from sklearn.feature_selection import RFECV\n",
    "from sklearn.svm import SVC\n",
    "\n",
    "svc = SVC(kernel=\"linear\")\n",
    "rfecv = RFECV(estimator=svc, step=1, cv=3,\n",
    "              scoring='accuracy')"
   ]
  },
  {
   "cell_type": "code",
   "execution_count": null,
   "metadata": {
    "collapsed": false
   },
   "outputs": [],
   "source": [
    "# this does not run\n",
    "rfecv.fit(timelines_df[-1][train_col], timelines_df[-1]['winner'])"
   ]
  },
  {
   "cell_type": "markdown",
   "metadata": {},
   "source": [
    "A non-cross validated random forest try"
   ]
  },
  {
   "cell_type": "code",
   "execution_count": 49,
   "metadata": {
    "collapsed": false
   },
   "outputs": [
    {
     "data": {
      "text/plain": [
       "RandomForestClassifier(bootstrap=True, class_weight=None, criterion='gini',\n",
       "            max_depth=None, max_features='auto', max_leaf_nodes=None,\n",
       "            min_samples_leaf=1, min_samples_split=2,\n",
       "            min_weight_fraction_leaf=0.0, n_estimators=199, n_jobs=3,\n",
       "            oob_score=False, random_state=None, verbose=0,\n",
       "            warm_start=False)"
      ]
     },
     "execution_count": 49,
     "metadata": {},
     "output_type": "execute_result"
    }
   ],
   "source": [
    "big_forest = RandomForestClassifier(n_jobs = 3, n_estimators = 199)\n",
    "big_forest.fit(games_df[train_col], games_df['winner'])"
   ]
  },
  {
   "cell_type": "code",
   "execution_count": 50,
   "metadata": {
    "collapsed": false
   },
   "outputs": [
    {
     "name": "stdout",
     "output_type": "stream",
     "text": [
      "1. feature gold_diff (0.305488)\n",
      "2. feature red_towers (0.096557)\n",
      "3. feature blue_kills (0.093602)\n",
      "4. feature red_kills (0.086825)\n",
      "5. feature blue_towers (0.086064)\n",
      "6. feature blue_share (0.078896)\n",
      "7. feature red_share (0.076376)\n",
      "8. feature blue_dragons (0.051616)\n",
      "9. feature red_dragons (0.040850)\n",
      "10. feature first_tower (0.026438)\n"
     ]
    }
   ],
   "source": [
    "importances = big_forest.feature_importances_\n",
    "std = np.std([tree.feature_importances_ for tree in big_forest.estimators_],\n",
    "             axis=0)\n",
    "indices = np.argsort(importances)[::-1]\n",
    "#for f in range(10):\n",
    "#    print(\"%d. feature %s (%f)\" % (f + 1, str(train_col[indices[f]]), importances[indices[f]]))"
   ]
  },
  {
   "cell_type": "code",
   "execution_count": 64,
   "metadata": {
    "collapsed": false,
    "scrolled": true
   },
   "outputs": [
    {
     "data": {
      "image/png": "[encoded data removed]",
      "text/plain": [
       "<matplotlib.figure.Figure at 0x35f1de10>"
      ]
     },
     "metadata": {},
     "output_type": "display_data"
    }
   ],
   "source": [
    "plt.figure()\n",
    "plt.title(\"Feature importances\")\n",
    "plt.bar(range(num_features), importances[indices],\n",
    "       color=\"r\", yerr=std[indices], align=\"center\")\n",
    "plt.xticks(range(num_features), indices)\n",
    "plt.xlim([-1, num_features])\n",
    "x_tick_labels = [str(x) for x in train_col[indices]]\n",
    "plt.gca().set_xticklabels(x_tick_labels, rotation = 90)\n",
    "plt.show()"
   ]
  },
  {
   "cell_type": "code",
   "execution_count": null,
   "metadata": {
    "collapsed": true
   },
   "outputs": [],
   "source": []
  }
 ],
 "metadata": {
  "kernelspec": {
   "display_name": "Python 3",
   "language": "python",
   "name": "python3"
  },
  "language_info": {
   "codemirror_mode": {
    "name": "ipython",
    "version": 3
   },
   "file_extension": ".py",
   "mimetype": "text/x-python",
   "name": "python",
   "nbconvert_exporter": "python",
   "pygments_lexer": "ipython3",
   "version": "3.4.3"
  }
 },
 "nbformat": 4,
 "nbformat_minor": 0
}
