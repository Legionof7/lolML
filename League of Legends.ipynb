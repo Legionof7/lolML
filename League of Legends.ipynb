{
 "cells": [
  {
   "cell_type": "markdown",
   "metadata": {},
   "source": [
    "# To do:\n"
   ]
  },
  {
   "cell_type": "markdown",
   "metadata": {},
   "source": [
    "# League of Legends Machine Learning\n",
    "\n",
    "Load libraries and API key"
   ]
  },
  {
   "cell_type": "code",
   "execution_count": 1,
   "metadata": {
    "collapsed": false
   },
   "outputs": [],
   "source": [
    "import requests, json\n",
    "import numpy as np\n",
    "import API_io.API_io as API_io\n",
    "import importlib\n",
    "import pandas as pd"
   ]
  },
  {
   "cell_type": "code",
   "execution_count": 2,
   "metadata": {
    "collapsed": false
   },
   "outputs": [],
   "source": [
    "working_dir = 'C:\\\\Users\\\\Me\\\\Documents\\\\GitHub\\\\lolML'\n",
    "with open(working_dir+ '\\\\api_key.txt', 'r') as api_file:\n",
    "    api_key =  api_file.read()"
   ]
  },
  {
   "cell_type": "markdown",
   "metadata": {},
   "source": [
    "# Get summoner names, and list of matches\n",
    "\n",
    "Load featured games, and get a list of summoner_names"
   ]
  },
  {
   "cell_type": "code",
   "execution_count": null,
   "metadata": {
    "collapsed": false
   },
   "outputs": [],
   "source": [
    "featured_json = API_io.load_featured_games(api_key) # load json of featured games\n",
    "featured_game_ids = [x['gameId'] for x in featured_json ] #  use list comprehension to get featured games; don't use this"
   ]
  },
  {
   "cell_type": "markdown",
   "metadata": {},
   "source": [
    "Make a list of summoner names and summoner IDs from the featured JSON"
   ]
  },
  {
   "cell_type": "code",
   "execution_count": null,
   "metadata": {
    "collapsed": false
   },
   "outputs": [],
   "source": [
    "summoner_names, summoner_IDs = API_io.get_summoners_IDs_from_featured_games(featured_json, api_key)\n",
    "summoner_names[:5]"
   ]
  },
  {
   "cell_type": "markdown",
   "metadata": {},
   "source": [
    "Make a list of summoner ID urls to query RITO with, and then query them (this is rate limited to one query / 1.2 seconds to avoid overloading API)."
   ]
  },
  {
   "cell_type": "code",
   "execution_count": null,
   "metadata": {
    "collapsed": false
   },
   "outputs": [],
   "source": [
    "summoner_urls = [API_io.make_matchlist_url_summoner_ID(x, True, True, api_key) for x in summoner_IDs]\n",
    "summoner_urls[:2]\n",
    "match_histories = [API_io.get_limited_request(x) for x in summoner_urls ]"
   ]
  },
  {
   "cell_type": "markdown",
   "metadata": {},
   "source": [
    "Extract the match ID from the match history JSON"
   ]
  },
  {
   "cell_type": "code",
   "execution_count": null,
   "metadata": {
    "collapsed": false
   },
   "outputs": [],
   "source": [
    "match_IDs = np.empty(0, dtype=int)\n",
    "for cur_matches in match_histories:\n",
    "    match_IDs = np.append( match_IDs, [x['matchId'] for x in cur_matches['matches']] )\n",
    "pd.Series(match_IDs).to_csv('Match IDs.csv')\n",
    "match_IDs.shape"
   ]
  },
  {
   "cell_type": "markdown",
   "metadata": {},
   "source": [
    "### Load a csv of match info to skip above steps"
   ]
  },
  {
   "cell_type": "code",
   "execution_count": 66,
   "metadata": {
    "collapsed": false
   },
   "outputs": [
    {
     "data": {
      "text/plain": [
       "(27928,)"
      ]
     },
     "execution_count": 66,
     "metadata": {},
     "output_type": "execute_result"
    }
   ],
   "source": [
    "match_df = pd.read_csv('Match IDs.csv', header =None)\n",
    "match_IDs = match_df[1]\n",
    "match_IDs = match_IDs.unique()\n",
    "match_IDs.shape"
   ]
  },
  {
   "cell_type": "markdown",
   "metadata": {},
   "source": [
    "## Query Riot's API for individual game info\n",
    "\n",
    "Make a list of match urls, and then juse requests to query them; again this is rate limited."
   ]
  },
  {
   "cell_type": "code",
   "execution_count": 67,
   "metadata": {
    "collapsed": false,
    "scrolled": true
   },
   "outputs": [
    {
     "data": {
      "text/plain": [
       "['https://na.api.pvp.net/api/lol/na/v2.2/match/1955239698?includeTimeline=true&api_key=0da3703d-7bf5-4e72-96cd-5062b28720d7',\n",
       " 'https://na.api.pvp.net/api/lol/na/v2.2/match/1954974642?includeTimeline=true&api_key=0da3703d-7bf5-4e72-96cd-5062b28720d7']"
      ]
     },
     "execution_count": 67,
     "metadata": {},
     "output_type": "execute_result"
    }
   ],
   "source": [
    "# make urls for loading\n",
    "match_urls = [API_io.make_match_info_url(x, True, api_key) for x in match_IDs] # True flag means we get the timeline\n",
    "match_urls[:2]"
   ]
  },
  {
   "cell_type": "code",
   "execution_count": null,
   "metadata": {
    "collapsed": false
   },
   "outputs": [],
   "source": [
    "import time\n",
    "import sys\n",
    "match_range = np.arange(2000,2010)\n",
    "# this for loop is ugly; used list comprehension previously, but rate limit was fluky\n",
    "full_match_info = np.empty(0)\n",
    "for cur_match in match_range:\n",
    "    time.sleep(1.2) # RIOT API is throttled to ~0.83 requests / second\n",
    "    try:\n",
    "        full_match_info = np.append(full_match_info, requests.get(match_urls[cur_match]).json() )\n",
    "    except requests.exceptions.HTTPError as e:\n",
    "        print('Error: ' + e + ' in game ' + str(match_IDs[cur_match]))\n",
    "    except:\n",
    "        err = sys.exc_info()[0]\n",
    "        print('Error: ' + str(err) + ' in game ' + str(match_IDs[cur_match]))"
   ]
  },
  {
   "cell_type": "markdown",
   "metadata": {},
   "source": [
    "Save the JSON so we don't have to query again."
   ]
  },
  {
   "cell_type": "code",
   "execution_count": null,
   "metadata": {
    "collapsed": false
   },
   "outputs": [],
   "source": [
    "with open('full matchinfo.csv', 'w') as out_file:\n",
    "    json.dump(full_match_info.tolist(), out_file)"
   ]
  },
  {
   "cell_type": "markdown",
   "metadata": {},
   "source": [
    "## Load information from local JSON or pickle"
   ]
  },
  {
   "cell_type": "code",
   "execution_count": 16,
   "metadata": {
    "collapsed": false
   },
   "outputs": [],
   "source": [
    "# load from JSON\n",
    "import json\n",
    "with open('games 1-2000.json') as json_file:\n",
    "    full_match_info= json.load(json_file)\n",
    "full_match_info = np.array(full_match_info)"
   ]
  },
  {
   "cell_type": "code",
   "execution_count": 10,
   "metadata": {
    "collapsed": false
   },
   "outputs": [],
   "source": [
    "# saving as a pickle file saves ~%40 of the space\n",
    "import pickle\n",
    "with open('full match info.pickle', 'wb') as pickle_file:\n",
    "    pickle.dump(full_match_info, pickle_file)"
   ]
  },
  {
   "cell_type": "code",
   "execution_count": 6,
   "metadata": {
    "collapsed": false
   },
   "outputs": [],
   "source": [
    "# loading the pickle in\n",
    "import pickle\n",
    "with open('full match info.pickle', 'rb') as pickle_file:\n",
    "    full_match_info = pickle.load(pickle_file)"
   ]
  },
  {
   "cell_type": "markdown",
   "metadata": {},
   "source": [
    "# Analyze game data\n",
    "\n",
    "## Explore and clean data\n",
    "\n",
    "First, load some more libraries\n"
   ]
  },
  {
   "cell_type": "code",
   "execution_count": 20,
   "metadata": {
    "collapsed": true
   },
   "outputs": [],
   "source": [
    "import matplotlib.pyplot as plt\n",
    "import API_io.plotting as lol_plt\n",
    "%matplotlib inline"
   ]
  },
  {
   "cell_type": "markdown",
   "metadata": {},
   "source": [
    "Plot the length of games"
   ]
  },
  {
   "cell_type": "code",
   "execution_count": 21,
   "metadata": {
    "collapsed": false
   },
   "outputs": [
    {
     "data": {
      "image/png": "[encoded data removed]",
      "text/plain": [
       "<matplotlib.figure.Figure at 0x27b77d588>"
      ]
     },
     "metadata": {},
     "output_type": "display_data"
    }
   ],
   "source": [
    "game_lengths = np.array([np.size(x['timeline']['frames']) for x in full_match_info] )\n",
    "plt.hist(game_lengths, bins = 50);\n",
    "plt.xlabel('Game length (min)', fontsize = 18)\n",
    "plt.ylabel('# Games', fontsize = 18)\n",
    "lol_plt.prettify_axes(plt.gca())"
   ]
  },
  {
   "cell_type": "markdown",
   "metadata": {},
   "source": [
    "Some games don't even last twenty minutes! There is also a large spike of games ending around 20 minutes due to surrenders. When we create features, the feature calculator will have to consider game length."
   ]
  },
  {
   "cell_type": "markdown",
   "metadata": {},
   "source": [
    "## Create features\n",
    "\n",
    "Create features for the classifier; now just starting with simple stuff like first blood, first tower, and first dragon."
   ]
  },
  {
   "cell_type": "code",
   "execution_count": 22,
   "metadata": {
    "collapsed": false
   },
   "outputs": [
    {
     "data": {
      "text/html": [
       "<div>\n",
       "<table border=\"1\" class=\"dataframe\">\n",
       "  <thead>\n",
       "    <tr style=\"text-align: right;\">\n",
       "      <th></th>\n",
       "      <th>first_dragon</th>\n",
       "      <th>blue_dragons</th>\n",
       "      <th>red_dragons</th>\n",
       "      <th>drag_diff</th>\n",
       "      <th>first_baron</th>\n",
       "      <th>blue_barons</th>\n",
       "      <th>red_barons</th>\n",
       "      <th>first_tower</th>\n",
       "      <th>blue_towers</th>\n",
       "      <th>red_towers</th>\n",
       "      <th>...</th>\n",
       "      <th>first_blood</th>\n",
       "      <th>gold_diff</th>\n",
       "      <th>blue_kills</th>\n",
       "      <th>red_kills</th>\n",
       "      <th>blue_share</th>\n",
       "      <th>red_share</th>\n",
       "      <th>kills_diff</th>\n",
       "      <th>surrender</th>\n",
       "      <th>game_length</th>\n",
       "      <th>winner</th>\n",
       "    </tr>\n",
       "  </thead>\n",
       "  <tbody>\n",
       "    <tr>\n",
       "      <th>0</th>\n",
       "      <td>1</td>\n",
       "      <td>1</td>\n",
       "      <td>1</td>\n",
       "      <td>0</td>\n",
       "      <td>-1</td>\n",
       "      <td>0</td>\n",
       "      <td>0</td>\n",
       "      <td>1</td>\n",
       "      <td>3</td>\n",
       "      <td>2</td>\n",
       "      <td>...</td>\n",
       "      <td>1</td>\n",
       "      <td>1849</td>\n",
       "      <td>14</td>\n",
       "      <td>11</td>\n",
       "      <td>0.571429</td>\n",
       "      <td>0.454545</td>\n",
       "      <td>3</td>\n",
       "      <td>1</td>\n",
       "      <td>37</td>\n",
       "      <td>1</td>\n",
       "    </tr>\n",
       "    <tr>\n",
       "      <th>1</th>\n",
       "      <td>0</td>\n",
       "      <td>0</td>\n",
       "      <td>2</td>\n",
       "      <td>-2</td>\n",
       "      <td>-1</td>\n",
       "      <td>0</td>\n",
       "      <td>0</td>\n",
       "      <td>0</td>\n",
       "      <td>1</td>\n",
       "      <td>3</td>\n",
       "      <td>...</td>\n",
       "      <td>1</td>\n",
       "      <td>-2110</td>\n",
       "      <td>11</td>\n",
       "      <td>11</td>\n",
       "      <td>0.363636</td>\n",
       "      <td>0.272727</td>\n",
       "      <td>0</td>\n",
       "      <td>1</td>\n",
       "      <td>32</td>\n",
       "      <td>0</td>\n",
       "    </tr>\n",
       "    <tr>\n",
       "      <th>2</th>\n",
       "      <td>0</td>\n",
       "      <td>0</td>\n",
       "      <td>1</td>\n",
       "      <td>-1</td>\n",
       "      <td>-1</td>\n",
       "      <td>0</td>\n",
       "      <td>0</td>\n",
       "      <td>0</td>\n",
       "      <td>2</td>\n",
       "      <td>2</td>\n",
       "      <td>...</td>\n",
       "      <td>1</td>\n",
       "      <td>-641</td>\n",
       "      <td>3</td>\n",
       "      <td>6</td>\n",
       "      <td>0.666667</td>\n",
       "      <td>0.500000</td>\n",
       "      <td>-3</td>\n",
       "      <td>0</td>\n",
       "      <td>44</td>\n",
       "      <td>0</td>\n",
       "    </tr>\n",
       "  </tbody>\n",
       "</table>\n",
       "<p>3 rows × 24 columns</p>\n",
       "</div>"
      ],
      "text/plain": [
       "  first_dragon  blue_dragons  red_dragons  drag_diff first_baron  blue_barons  \\\n",
       "0            1             1            1          0          -1            0   \n",
       "1            0             0            2         -2          -1            0   \n",
       "2            0             0            1         -1          -1            0   \n",
       "\n",
       "   red_barons first_tower  blue_towers  red_towers   ...    first_blood  \\\n",
       "0           0           1            3           2   ...              1   \n",
       "1           0           0            1           3   ...              1   \n",
       "2           0           0            2           2   ...              1   \n",
       "\n",
       "  gold_diff  blue_kills  red_kills blue_share  red_share  kills_diff  \\\n",
       "0      1849          14         11   0.571429   0.454545           3   \n",
       "1     -2110          11         11   0.363636   0.272727           0   \n",
       "2      -641           3          6   0.666667   0.500000          -3   \n",
       "\n",
       "   surrender  game_length  winner  \n",
       "0          1           37       1  \n",
       "1          1           32       0  \n",
       "2          0           44       0  \n",
       "\n",
       "[3 rows x 24 columns]"
      ]
     },
     "execution_count": 22,
     "metadata": {},
     "output_type": "execute_result"
    }
   ],
   "source": [
    "from API_io import feature_calc\n",
    "importlib.reload(feature_calc)\n",
    "games_df = feature_calc.calc_features_all_matches(full_match_info, 20)\n",
    "games_df.head(3)"
   ]
  },
  {
   "cell_type": "code",
   "execution_count": 39,
   "metadata": {
    "collapsed": false
   },
   "outputs": [
    {
     "data": {
      "text/plain": [
       "first_dragon    category\n",
       "blue_dragons     float64\n",
       "red_dragons      float64\n",
       "drag_diff        float64\n",
       "first_baron     category\n",
       "blue_barons      float64\n",
       "red_barons       float64\n",
       "first_tower     category\n",
       "blue_towers      float64\n",
       "red_towers       float64\n",
       "tower_diff       float64\n",
       "first_inhib     category\n",
       "blue_inhibs      float64\n",
       "red_inhibs       float64\n",
       "first_blood     category\n",
       "gold_diff        float64\n",
       "blue_kills       float64\n",
       "red_kills        float64\n",
       "blue_share       float64\n",
       "red_share        float64\n",
       "kills_diff       float64\n",
       "surrender       category\n",
       "game_length      float64\n",
       "winner          category\n",
       "dtype: object"
      ]
     },
     "execution_count": 39,
     "metadata": {},
     "output_type": "execute_result"
    }
   ],
   "source": [
    "games_df.dtypes"
   ]
  },
  {
   "cell_type": "code",
   "execution_count": 23,
   "metadata": {
    "collapsed": false
   },
   "outputs": [
    {
     "data": {
      "image/png": "[encoded data removed]",
      "text/plain": [
       "<matplotlib.figure.Figure at 0x27b897f60>"
      ]
     },
     "metadata": {},
     "output_type": "display_data"
    }
   ],
   "source": [
    "count, bins, _ = plt.hist(games_df['gold_diff'] / 1000, bins = 50)\n",
    "plt.ylabel('# Games', fontsize = 18)\n",
    "plt.xlabel('Gold difference (thousands)', fontsize = 18)\n",
    "lol_plt.prettify_axes(plt.gca())"
   ]
  },
  {
   "cell_type": "code",
   "execution_count": 41,
   "metadata": {
    "collapsed": false
   },
   "outputs": [
    {
     "data": {
      "image/png": "[encoded data removed]",
      "text/plain": [
       "<matplotlib.figure.Figure at 0x108559cc0>"
      ]
     },
     "metadata": {},
     "output_type": "display_data"
    }
   ],
   "source": [
    "bins = np.arange(40)\n",
    "kills_fig = plt.figure()\n",
    "plt.hist(games_df['blue_kills'] , bins = bins, color = 'blue')\n",
    "plt.hist(games_df['red_kills'] , bins = bins, color = 'red', alpha = 0.5)\n",
    "plt.ylabel('# Games', fontsize = 18)\n",
    "plt.xlabel('Kills', fontsize = 18)\n",
    "lol_plt.prettify_axes(plt.gca())\n",
    "#plt.gca().set_xticklabels(bins / 1000, rotation = 90)"
   ]
  },
  {
   "cell_type": "markdown",
   "metadata": {},
   "source": [
    "# Run machine learning algorithms: \n",
    "## Load libraries, and initialize feature info"
   ]
  },
  {
   "cell_type": "code",
   "execution_count": 30,
   "metadata": {
    "collapsed": false
   },
   "outputs": [],
   "source": [
    "# load sklearn package \n",
    "from sklearn.naive_bayes import GaussianNB\n",
    "from sklearn.metrics import confusion_matrix\n",
    "from sklearn import cross_validation"
   ]
  },
  {
   "cell_type": "code",
   "execution_count": 31,
   "metadata": {
    "collapsed": false
   },
   "outputs": [
    {
     "data": {
      "text/plain": [
       "Index(['first_dragon', 'blue_dragons', 'red_dragons', 'drag_diff',\n",
       "       'first_baron', 'blue_barons', 'red_barons', 'first_tower',\n",
       "       'blue_towers', 'red_towers', 'tower_diff', 'first_inhib', 'blue_inhibs',\n",
       "       'red_inhibs', 'first_blood', 'gold_diff', 'blue_kills', 'red_kills',\n",
       "       'blue_share', 'red_share', 'kills_diff', 'surrender'],\n",
       "      dtype='object')"
      ]
     },
     "execution_count": 31,
     "metadata": {},
     "output_type": "execute_result"
    }
   ],
   "source": [
    "# variables for classifiers\n",
    "col_names = games_df.columns\n",
    "train_col = games_df.columns[(games_df.columns != 'winner') & (games_df.columns != 'game_length')]\n",
    "num_features = np.size(train_col)\n",
    "train_col"
   ]
  },
  {
   "cell_type": "markdown",
   "metadata": {},
   "source": [
    "## Naive Bayes:\n",
    "\n",
    "First let's see how good prediction is with each feature individually"
   ]
  },
  {
   "cell_type": "code",
   "execution_count": null,
   "metadata": {
    "collapsed": false
   },
   "outputs": [],
   "source": [
    "gnb = GaussianNB()\n",
    "def quick_score(games_df, col_index):\n",
    "    gnb.fit(games_df[[col_index]], games_df['winner'])\n",
    "    return gnb.score(games_df[[col_index]], games_df['winner'])\n",
    "\n",
    "[quick_score(games_df, x) for x in np.arange(num_features-1)]"
   ]
  },
  {
   "cell_type": "markdown",
   "metadata": {},
   "source": [
    "First dragon and first tower are both pretty meaningful, but first blood isn't. The most important thing, though, is gold.\n",
    "\n",
    "Now let's use machine learning to look at everything together. Let's do a 10-fold cross-validation on the data, and see what the average score is."
   ]
  },
  {
   "cell_type": "code",
   "execution_count": null,
   "metadata": {
    "collapsed": false
   },
   "outputs": [],
   "source": [
    "scores = cross_validation.cross_val_score(gnb, games_df[train_col], games_df['winner'], cv=10)\n",
    "print(np.mean(scores))"
   ]
  },
  {
   "cell_type": "markdown",
   "metadata": {},
   "source": [
    "The full predictor is not that much more informative than the individual parameters! What if we try a:\n",
    "\n",
    "## Feature importance\n",
    "\n",
    "Some sample code using built in recursive feature elimination and cross-validation. I never waited long enough for this to finish!"
   ]
  },
  {
   "cell_type": "code",
   "execution_count": 20,
   "metadata": {
    "collapsed": false
   },
   "outputs": [],
   "source": [
    "from sklearn.feature_selection import RFECV\n",
    "from sklearn.svm import SVC\n",
    "\n",
    "svc = SVC(kernel=\"linear\")\n",
    "rfecv = RFECV(estimator=svc, step=1, cv=3,\n",
    "              scoring='accuracy')"
   ]
  },
  {
   "cell_type": "code",
   "execution_count": null,
   "metadata": {
    "collapsed": true
   },
   "outputs": [],
   "source": [
    "# this takes a long time to run\n",
    "rfecv.fit(timelines_df[-1][train_col], timelines_df[-1]['winner'])"
   ]
  },
  {
   "cell_type": "markdown",
   "metadata": {},
   "source": [
    "## Random Forest Feature Importance\n",
    "\n",
    "Start with a large random forest to get a sense of which features are important at different timepoints. First, let's get a dataframe for each timepoint"
   ]
  },
  {
   "cell_type": "code",
   "execution_count": 24,
   "metadata": {
    "collapsed": false
   },
   "outputs": [
    {
     "name": "stdout",
     "output_type": "stream",
     "text": [
      "[191856, 191736, 190272, 185688, 151872, 112680, 65736, 29640, 9600]\n"
     ]
    }
   ],
   "source": [
    "timeline_end = 50\n",
    "time_indices = np.arange(5, timeline_end, 5)\n",
    "timelines_df = [feature_calc.calc_features_all_matches(full_match_info, x) for x in time_indices]\n",
    "print([x.shape[0] for x in timelines_df])"
   ]
  },
  {
   "cell_type": "code",
   "execution_count": 35,
   "metadata": {
    "collapsed": true
   },
   "outputs": [],
   "source": [
    "from sklearn.ensemble import RandomForestClassifier\n",
    "big_forest = RandomForestClassifier(n_jobs = 3, n_estimators = 100, max_features = 'sqrt')"
   ]
  },
  {
   "cell_type": "code",
   "execution_count": 87,
   "metadata": {
    "collapsed": false
   },
   "outputs": [],
   "source": [
    "importances = std = np.zeros([len(timelines_df), np.size(train_col)])\n",
    "for i, cur_df in enumerate(timelines_df):\n",
    "    big_forest.fit(cur_df[train_col], cur_df['winner'])\n",
    "    importances[i] = big_forest.feature_importances_\n",
    "    std[i] = np.std([tree.feature_importances_ for tree in big_forest.estimators_],\n",
    "                 axis=0)\n",
    "indices = np.argsort(importances[4])[::-1]\n",
    "#for f in range(10):\n",
    "#    print(\"%d. feature %s (%f)\" % (f + 1, str(train_col[indices[f]]), importances[indices[f]]))"
   ]
  },
  {
   "cell_type": "code",
   "execution_count": 110,
   "metadata": {
    "collapsed": false
   },
   "outputs": [
    {
     "data": {
      "text/plain": [
       "array([ 5, 10, 15, 20, 25, 30, 35, 40, 45])"
      ]
     },
     "execution_count": 110,
     "metadata": {},
     "output_type": "execute_result"
    }
   ],
   "source": [
    "time_indices"
   ]
  },
  {
   "cell_type": "code",
   "execution_count": 167,
   "metadata": {
    "collapsed": false
   },
   "outputs": [
    {
     "data": {
      "image/png": "[encoded data removed]",
      "text/plain": [
       "<matplotlib.figure.Figure at 0x27db683c8>"
      ]
     },
     "metadata": {},
     "output_type": "display_data"
    }
   ],
   "source": [
    "feature_fig = plt.figure(figsize = [12,9])\n",
    "plt.imshow(importances[:,indices], interpolation = 'none', extent = [0, num_features*4, 47.5, 2.5])\n",
    "plt.ylabel('Time (min)', fontsize = 18)\n",
    "plt.xticks(np.arange(0, num_features*4, 4)+2, indices)\n",
    "x_tick_labels = [str(x) for x in train_col[indices]]\n",
    "plt.gca().set_xticklabels(x_tick_labels, rotation = 90)\n",
    "lol_plt.prettify_axes(plt.gca())\n",
    "plt.gca().yaxis.set_ticks(time_indices);\n",
    "plt.colorbar();"
   ]
  },
  {
   "cell_type": "markdown",
   "metadata": {},
   "source": [
    "Gold differential is the most important feature at all timepoints, followed by kill differential, and tower differential. Dragon differential comes in late, behind the total number of towers, at #6. Barons and inhibitors are not particularly informative at later timepoints, probably because they are a reflection of gold and kill differentials."
   ]
  },
  {
   "cell_type": "code",
   "execution_count": 150,
   "metadata": {
    "collapsed": false
   },
   "outputs": [
    {
     "data": {
      "text/plain": [
       "Index(['gold_diff', 'kills_diff', 'tower_diff', 'red_towers', 'blue_towers',\n",
       "       'drag_diff', 'red_dragons', 'blue_kills', 'red_kills', 'blue_dragons'],\n",
       "      dtype='object')"
      ]
     },
     "execution_count": 150,
     "metadata": {},
     "output_type": "execute_result"
    }
   ],
   "source": [
    "important_col = train_col[indices[:6]]\n",
    "important_col"
   ]
  },
  {
   "cell_type": "markdown",
   "metadata": {},
   "source": [
    "## An aside on carry share\n",
    "\n",
    "In a previous version of this analysis, I found that the carry share was predictive. It does not really fall out from the new analysis, though. While investigating this metric, though, I found something interesting, which I have kept here. First, let's plot the distribution of carry share."
   ]
  },
  {
   "cell_type": "code",
   "execution_count": 160,
   "metadata": {
    "collapsed": false
   },
   "outputs": [
    {
     "name": "stdout",
     "output_type": "stream",
     "text": [
      "Median blue carry share: 0.40\n",
      "Std blue carry share: 0.18\n"
     ]
    },
    {
     "data": {
      "image/png": "[encoded data removed]",
      "text/plain": [
       "<matplotlib.figure.Figure at 0x286063668>"
      ]
     },
     "metadata": {},
     "output_type": "display_data"
    }
   ],
   "source": [
    "games_df['blue_share'].hist(bins = np.arange(0, 1, 0.05))\n",
    "lol_plt.prettify_axes(plt.gca())\n",
    "plt.xlabel('Blue carry\\'s share of kills', fontsize = 18)\n",
    "print('Median blue carry share: {:.2f}\\nStd blue carry share: {:.2f}'.format(games_df['blue_share'].median(), games_df['blue_share'].std()))"
   ]
  },
  {
   "cell_type": "markdown",
   "metadata": {},
   "source": [
    "The median carry ratio is 0.4, with a standard deviation of ~0.2. Now let's plot the win percentage against the carry share."
   ]
  },
  {
   "cell_type": "code",
   "execution_count": 161,
   "metadata": {
    "collapsed": false
   },
   "outputs": [
    {
     "data": {
      "image/png": "[encoded data removed]",
      "text/plain": [
       "<matplotlib.figure.Figure at 0x2860b5ef0>"
      ]
     },
     "metadata": {},
     "output_type": "display_data"
    }
   ],
   "source": [
    "share_indices = np.arange(0, 1.0+0.1, 0.1)\n",
    "win_percent_by_share = games_df['winner'].astype(int).groupby(pd.cut(games_df[\"blue_share\"], share_indices)).mean()\n",
    "plt.plot(share_indices[:-1], win_percent_by_share, 'o')\n",
    "plt.xlim([0, 1])\n",
    "plt.xlabel('Blue carry\\'s share of kills', fontsize = 18)\n",
    "plt.ylabel('Win percentage', fontsize = 18)\n",
    "lol_plt.prettify_axes(plt.gca())"
   ]
  },
  {
   "cell_type": "markdown",
   "metadata": {},
   "source": [
    "The win percentage goes down as the carry share increases. This means that teams which have all the kills weighted onto one team are less likely to win. If you get far ahead in your lane, it's less important for you to keep your lane opponent down than it is to get the rest of your team fed."
   ]
  },
  {
   "cell_type": "markdown",
   "metadata": {},
   "source": [
    "## Does game get more predictable over time?\n",
    "\n",
    "Now that we have features that are important, we can answer other questions."
   ]
  },
  {
   "cell_type": "code",
   "execution_count": 156,
   "metadata": {
    "collapsed": false
   },
   "outputs": [],
   "source": [
    "rfc = RandomForestClassifier(n_jobs = 2, n_estimators = 20, max_features = 'sqrt')\n",
    "def cross_validate_df(cur_df):\n",
    "    return cross_validation.cross_val_score(rfc, cur_df[important_col], cur_df['winner'], cv=5, n_jobs = 2)\n",
    "\n",
    "scores_list = [cross_validate_df(x) for x in timelines_df]"
   ]
  },
  {
   "cell_type": "code",
   "execution_count": 157,
   "metadata": {
    "collapsed": false
   },
   "outputs": [
    {
     "data": {
      "image/png": "[encoded data removed]",
      "text/plain": [
       "<matplotlib.figure.Figure at 0x286098a58>"
      ]
     },
     "metadata": {},
     "output_type": "display_data"
    }
   ],
   "source": [
    "plt.plot(time_indices, np.mean(scores_list, 1))\n",
    "plt.ylim( 0.5, 1)\n",
    "plt.xlabel('Time (min)', fontsize = 18)\n",
    "plt.ylabel('Prediction accuracy', fontsize = 18)\n",
    "plt.xticks(time_indices)\n",
    "lol_plt.prettify_axes(plt.gca())"
   ]
  },
  {
   "cell_type": "markdown",
   "metadata": {},
   "source": [
    "The game does get more easily predicted with time, as more information is gathered by the model. However, once you reach 30 minutes, the model loses accuracy. This is probably because as the game enters the late phase, gold matters less, and objectives more, and a single decisive teamfight can decide the game either way."
   ]
  },
  {
   "cell_type": "markdown",
   "metadata": {
    "collapsed": true
   },
   "source": [
    "## Are surrendered games winnable?\n",
    "\n",
    "First, separate games into surrendered early, and those that were semi-close."
   ]
  },
  {
   "cell_type": "code",
   "execution_count": 153,
   "metadata": {
    "collapsed": false
   },
   "outputs": [
    {
     "data": {
      "text/html": [
       "<div>\n",
       "<table border=\"1\" class=\"dataframe\">\n",
       "  <thead>\n",
       "    <tr style=\"text-align: right;\">\n",
       "      <th></th>\n",
       "      <th>surrender</th>\n",
       "      <th>game_length</th>\n",
       "    </tr>\n",
       "  </thead>\n",
       "  <tbody>\n",
       "    <tr>\n",
       "      <th>9</th>\n",
       "      <td>1</td>\n",
       "      <td>22</td>\n",
       "    </tr>\n",
       "    <tr>\n",
       "      <th>13</th>\n",
       "      <td>1</td>\n",
       "      <td>25</td>\n",
       "    </tr>\n",
       "    <tr>\n",
       "      <th>17</th>\n",
       "      <td>1</td>\n",
       "      <td>22</td>\n",
       "    </tr>\n",
       "  </tbody>\n",
       "</table>\n",
       "</div>"
      ],
      "text/plain": [
       "   surrender  game_length\n",
       "9          1           22\n",
       "13         1           25\n",
       "17         1           22"
      ]
     },
     "execution_count": 153,
     "metadata": {},
     "output_type": "execute_result"
    }
   ],
   "source": [
    "surrender_at_20_df = timelines_df[3].query('(surrender == 1) & (game_length <=25)')\n",
    "good_games_df = timelines_df[3].query('(surrender == 0) | (game_length >25)')\n",
    "surrender_at_20_df[['surrender', 'game_length']].head(3)"
   ]
  },
  {
   "cell_type": "code",
   "execution_count": 154,
   "metadata": {
    "collapsed": false
   },
   "outputs": [
    {
     "data": {
      "image/png": "[encoded data removed]",
      "text/plain": [
       "<matplotlib.figure.Figure at 0x28628a668>"
      ]
     },
     "metadata": {},
     "output_type": "display_data"
    }
   ],
   "source": [
    "surrender_at_20_df['gold_diff'].hist(bins=20)\n",
    "plt.xlabel('Gold difference', fontsize = 18)\n",
    "plt.ylabel('# Games', fontsize = 18)\n",
    "lol_plt.prettify_axes(plt.gca())"
   ]
  },
  {
   "cell_type": "markdown",
   "metadata": {},
   "source": [
    "Since these are stomps, the gold difference is bimodal towards large leads. However, there are a few games with small gold leads. First, let's see how accurate the random forest is for these stomps. (It should be high!)"
   ]
  },
  {
   "cell_type": "code",
   "execution_count": 158,
   "metadata": {
    "collapsed": false
   },
   "outputs": [
    {
     "name": "stdout",
     "output_type": "stream",
     "text": [
      "Forest mean accuracy for surrendered games: 0.99\n"
     ]
    }
   ],
   "source": [
    "surrender_forest = RandomForestClassifier(n_jobs = 2, n_estimators = 10, max_features = 'sqrt')\n",
    "surrender_scores = cross_validation.cross_val_score(surrender_forest, surrender_at_20_df[important_col], surrender_at_20_df['winner'], cv=10)\n",
    "print('Forest mean accuracy for surrendered games: {:.2f}'.format(np.mean(surrender_scores)))"
   ]
  },
  {
   "cell_type": "markdown",
   "metadata": {},
   "source": [
    "Pretty damn good! Ok, what happens if we train the model on the \"close\" games, and use it to predict the probability of winning surrendered ones?"
   ]
  },
  {
   "cell_type": "code",
   "execution_count": 159,
   "metadata": {
    "collapsed": false
   },
   "outputs": [
    {
     "name": "stdout",
     "output_type": "stream",
     "text": [
      "A forest trained on non-surrender games predicts the team that won would do so with 0.93 probability\n"
     ]
    }
   ],
   "source": [
    "close_forest = RandomForestClassifier(n_jobs = 3, n_estimators = 20, max_features = 'sqrt')\n",
    "close_forest.fit(good_games_df[important_col], good_games_df['winner'])\n",
    "cross_score = np.mean(np.max(close_forest.predict_proba(surrender_at_20_df[important_col]), axis = 1))\n",
    "print('A forest trained on non-surrender games predicts the team that won would do so with {:.2f} probability'.format(cross_score))"
   ]
  },
  {
   "cell_type": "markdown",
   "metadata": {},
   "source": [
    "The random forest trained on close games actually gives games surrendered at 20 a 7% chance of winning!"
   ]
  },
  {
   "cell_type": "code",
   "execution_count": null,
   "metadata": {
    "collapsed": true
   },
   "outputs": [],
   "source": []
  }
 ],
 "metadata": {
  "kernelspec": {
   "display_name": "Python 3",
   "language": "python",
   "name": "python3"
  },
  "language_info": {
   "codemirror_mode": {
    "name": "ipython",
    "version": 3
   },
   "file_extension": ".py",
   "mimetype": "text/x-python",
   "name": "python",
   "nbconvert_exporter": "python",
   "pygments_lexer": "ipython3",
   "version": "3.4.3"
  }
 },
 "nbformat": 4,
 "nbformat_minor": 0
}
