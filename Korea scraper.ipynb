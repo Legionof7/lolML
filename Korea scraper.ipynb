{
 "cells": [
  {
   "cell_type": "markdown",
   "metadata": {},
   "source": [
    "# Notebook for scraping Korea\n",
    "\n",
    "I created a separate notebook to scrape different regions. This allows me to collect games faster.\n",
    "\n",
    "Load libraries"
   ]
  },
  {
   "cell_type": "code",
   "execution_count": 1,
   "metadata": {
    "collapsed": true
   },
   "outputs": [],
   "source": [
    "import requests, json\n",
    "import numpy as np\n",
    "import API_io.API_io as API_io\n",
    "import importlib\n",
    "import pandas as pd"
   ]
  },
  {
   "cell_type": "code",
   "execution_count": 2,
   "metadata": {
    "collapsed": true
   },
   "outputs": [],
   "source": [
    "working_dir = 'C:\\\\Users\\\\Me\\\\Documents\\\\GitHub\\\\lolML'\n",
    "with open(working_dir+ '\\\\api_key.txt', 'r') as api_file:\n",
    "    api_key =  api_file.read()"
   ]
  },
  {
   "cell_type": "markdown",
   "metadata": {},
   "source": [
    "## Get a list of high level matches\n",
    "\n",
    "Get summoners in featured games"
   ]
  },
  {
   "cell_type": "code",
   "execution_count": 11,
   "metadata": {
    "collapsed": false
   },
   "outputs": [],
   "source": [
    "featured_json = API_io.load_featured_games(api_key, 'kr') # load json of featured games\n",
    "featured_game_ids = [x['gameId'] for x in featured_json ] #  use list comprehension to get featured games; don't use this"
   ]
  },
  {
   "cell_type": "markdown",
   "metadata": {
    "collapsed": false
   },
   "source": [
    "Make a list of summoner names and summoner IDs from the featured JSON"
   ]
  },
  {
   "cell_type": "code",
   "execution_count": 23,
   "metadata": {
    "collapsed": false
   },
   "outputs": [
    {
     "data": {
      "text/plain": [
       "['하얀 눈길', '비제이대복이', '빡겜가자', '병기형이다z', '모래반지']"
      ]
     },
     "execution_count": 23,
     "metadata": {},
     "output_type": "execute_result"
    }
   ],
   "source": [
    "summoner_names, summoner_IDs = API_io.get_summoners_IDs_from_featured_games(featured_json, api_key, region ='kr')\n",
    "summoner_names[:5]"
   ]
  },
  {
   "cell_type": "code",
   "execution_count": 28,
   "metadata": {
    "collapsed": false
   },
   "outputs": [],
   "source": [
    "summoner_urls = [API_io.make_matchlist_url_summoner_ID(x, True, True, api_key, region ='kr') for x in summoner_IDs]\n",
    "print(summoner_urls[:2])\n",
    "match_histories = [API_io.get_limited_request(x) for x in summoner_urls ]"
   ]
  },
  {
   "cell_type": "markdown",
   "metadata": {},
   "source": [
    "Extract the match ID from the match history JSON"
   ]
  },
  {
   "cell_type": "code",
   "execution_count": 45,
   "metadata": {
    "collapsed": false
   },
   "outputs": [
    {
     "data": {
      "text/plain": [
       "(32754,)"
      ]
     },
     "execution_count": 45,
     "metadata": {},
     "output_type": "execute_result"
    }
   ],
   "source": [
    "match_IDs = np.empty(0, dtype=int)\n",
    "for cur_matches in match_histories:\n",
    "    match_IDs = np.append( match_IDs, [x['matchId'] for x in cur_matches['matches']] )\n",
    "match_IDs = np.unique(match_IDs)\n",
    "pd.Series(match_IDs).to_csv('Korean Match IDs.csv')\n",
    "match_IDs.shape"
   ]
  },
  {
   "cell_type": "code",
   "execution_count": 39,
   "metadata": {
    "collapsed": false
   },
   "outputs": [
    {
     "data": {
      "text/plain": [
       "['https://kr.api.pvp.net/api/lol/kr/v2.2/match/1713275489?includeTimeline=true&api_key=0da3703d-7bf5-4e72-96cd-5062b28720d7',\n",
       " 'https://kr.api.pvp.net/api/lol/kr/v2.2/match/1713841964?includeTimeline=true&api_key=0da3703d-7bf5-4e72-96cd-5062b28720d7']"
      ]
     },
     "execution_count": 39,
     "metadata": {},
     "output_type": "execute_result"
    }
   ],
   "source": [
    "# make urls for loading\n",
    "match_urls = [API_io.make_match_info_url(x, True, api_key, region = 'kr') for x in match_IDs] # True flag means we get the timeline\n",
    "match_urls[:2]"
   ]
  },
  {
   "cell_type": "code",
   "execution_count": 41,
   "metadata": {
    "collapsed": true
   },
   "outputs": [],
   "source": [
    "import time\n",
    "from API_io import feature_calc"
   ]
  },
  {
   "cell_type": "code",
   "execution_count": 68,
   "metadata": {
    "collapsed": false
   },
   "outputs": [
    {
     "name": "stdout",
     "output_type": "stream",
     "text": [
      "Error: <class 'AssertionError'> in game 1728156495\n",
      "Error: <class 'AssertionError'> in game 1728206733\n",
      "Error: <class 'KeyError'> in game 1728218289\n",
      "Error: <class 'AssertionError'> in game 1728241529\n",
      "Error: <class 'AssertionError'> in game 1728243255\n",
      "Error: <class 'KeyError'> in game 1728263628\n",
      "Error: <class 'ValueError'> in game 1728953264\n",
      "Error: <class 'AssertionError'> in game 1728959374\n",
      "Error: <class 'AssertionError'> in game 1729111707\n",
      "Error: <class 'AssertionError'> in game 1729145588\n"
     ]
    }
   ],
   "source": [
    "match_range = np.arange(1000, 1100)\n",
    "col_names = feature_calc.col_names \n",
    "analysis_min = 20 # analyze at 20 minutes\n",
    "games_df = pd.DataFrame(index = match_range, columns= col_names)\n",
    "# this for loop is ugly; used list comprehension previously, but rate limit was fluky\n",
    "for cur_match in match_range:\n",
    "    time.sleep(1.2) # RIOT API is throttled to ~0.83 requests / second\n",
    "    try:\n",
    "        match_info = requests.get(match_urls[cur_match]).json()\n",
    "        games_df.loc[cur_match] = feature_calc.calc_features_single_match(match_info, analysis_min)\n",
    "    except requests.exceptions.HTTPError as err:\n",
    "        print('HHTPError in game ' + str(match_IDs[cur_match]))\n",
    "    except:\n",
    "        import sys\n",
    "        err = sys.exc_info()[0]\n",
    "        print('Error: ' + str(err) + ' in game ' + str(match_IDs[cur_match]))\n",
    "        \n",
    "games_df = games_df.dropna()\n",
    "games_df = feature_calc.retype_columns(games_df)   "
   ]
  },
  {
   "cell_type": "markdown",
   "metadata": {},
   "source": [
    "Now save the information to disk."
   ]
  },
  {
   "cell_type": "code",
   "execution_count": 59,
   "metadata": {
    "collapsed": false
   },
   "outputs": [],
   "source": [
    "games_df.to_csv('Korean games 1-1000.csv')"
   ]
  },
  {
   "cell_type": "code",
   "execution_count": null,
   "metadata": {
    "collapsed": true
   },
   "outputs": [],
   "source": []
  }
 ],
 "metadata": {
  "kernelspec": {
   "display_name": "Python 3",
   "language": "python",
   "name": "python3"
  },
  "language_info": {
   "codemirror_mode": {
    "name": "ipython",
    "version": 3
   },
   "file_extension": ".py",
   "mimetype": "text/x-python",
   "name": "python",
   "nbconvert_exporter": "python",
   "pygments_lexer": "ipython3",
   "version": "3.4.3"
  }
 },
 "nbformat": 4,
 "nbformat_minor": 0
}
