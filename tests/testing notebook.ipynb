{
 "cells": [
  {
   "cell_type": "code",
   "execution_count": 5,
   "metadata": {
    "collapsed": false
   },
   "outputs": [],
   "source": [
    "import json\n",
    "import pandas as pd\n",
    "#from nose.tools import assert_equals\n",
    "import lolML.src.feature_calc as feature_calc\n",
    "import ast\n",
    "import pickle\n",
    "import numpy as np\n",
    "import importlib\n",
    "\n",
    "working_dir = 'C:\\\\Users\\\\Me\\\\Documents\\\\GitHub\\\\LolML\\\\tests\\\\'"
   ]
  },
  {
   "cell_type": "markdown",
   "metadata": {},
   "source": [
    "### Load in data"
   ]
  },
  {
   "cell_type": "code",
   "execution_count": 6,
   "metadata": {
    "collapsed": false
   },
   "outputs": [],
   "source": [
    "with open(working_dir + 'ten match info.json', 'r') as json_file:\n",
    "    ten_match_info = json.load( json_file)\n",
    "one_match_info = ten_match_info[0]"
   ]
  },
  {
   "cell_type": "code",
   "execution_count": 7,
   "metadata": {
    "collapsed": true
   },
   "outputs": [],
   "source": [
    "ten_match_df = pd.read_csv('ten match df.csv', sep=';', index_col='matchId', dtype={'version':str})"
   ]
  },
  {
   "cell_type": "code",
   "execution_count": 115,
   "metadata": {
    "collapsed": false
   },
   "outputs": [],
   "source": [
    "# make ten_match_df if you need to\n",
    "ten_match_df = feature_calc.calc_features_all_matches(ten_match_info, 15)\n",
    "ten_match_df.to_csv('ten match df.csv', encoding='utf-8', sep=';')"
   ]
  },
  {
   "cell_type": "markdown",
   "metadata": {},
   "source": [
    "### start testing functions"
   ]
  },
  {
   "cell_type": "code",
   "execution_count": 53,
   "metadata": {
    "collapsed": false
   },
   "outputs": [],
   "source": [
    "calc_buildings = feature_calc.calc_building_features(one_match_info, 15)\n",
    "df_buildings = ten_match_df[['first_tower', 'tower_diff', 'total_tower', 'first_inhib',\n",
    "                             'blue_inhibs', 'red_inhibs']].iloc[0].values"
   ]
  },
  {
   "cell_type": "code",
   "execution_count": 63,
   "metadata": {
    "collapsed": false
   },
   "outputs": [],
   "source": [
    "assert list(df_buildings) == list(calc_buildings), 'huh'"
   ]
  },
  {
   "cell_type": "code",
   "execution_count": 65,
   "metadata": {
    "collapsed": true
   },
   "outputs": [],
   "source": [
    "calc_monsters = feature_calc.calc_elite_monster_features(one_match_info, 15)\n",
    "monster_col = ['first_dragon', 'drag_diff', 'total_drag', 'first_baron', 'blue_barons', 'red_barons']\n",
    "df_monsters = ten_match_df[monster_col].iloc[0].values"
   ]
  },
  {
   "cell_type": "code",
   "execution_count": 66,
   "metadata": {
    "collapsed": true
   },
   "outputs": [],
   "source": [
    "assert list(df_monsters) == calc_monsters"
   ]
  },
  {
   "cell_type": "markdown",
   "metadata": {},
   "source": [
    "### making changes to function"
   ]
  },
  {
   "cell_type": "code",
   "execution_count": 4,
   "metadata": {
    "collapsed": false
   },
   "outputs": [],
   "source": [
    "importlib.reload(feature_calc)\n",
    "calc_df = feature_calc.calc_features_all_matches(ten_match_info, 15)"
   ]
  },
  {
   "cell_type": "code",
   "execution_count": 45,
   "metadata": {
    "collapsed": false
   },
   "outputs": [
    {
     "data": {
      "text/plain": [
       "False"
      ]
     },
     "execution_count": 45,
     "metadata": {},
     "output_type": "execute_result"
    }
   ],
   "source": [
    "non_float_col = [x for x in ten_match_df.columns if x not in ['blue_share', 'red_share'] ]\n",
    "calc_df[calc_df.columns[:10]].head(1).equals( ten_match_df[calc_df.columns[:10]].head(1))"
   ]
  },
  {
   "cell_type": "code",
   "execution_count": 10,
   "metadata": {
    "collapsed": false
   },
   "outputs": [],
   "source": [
    "importlib.reload(feature_calc)\n",
    "first = feature_calc.identify_events(one_match_info, 'BUILDING_KILL', 25)"
   ]
  },
  {
   "cell_type": "code",
   "execution_count": 11,
   "metadata": {
    "collapsed": false
   },
   "outputs": [
    {
     "data": {
      "text/plain": [
       "array([ True,  True,  True,  True,  True,  True], dtype=bool)"
      ]
     },
     "execution_count": 11,
     "metadata": {},
     "output_type": "execute_result"
    }
   ],
   "source": [
    "importlib.reload(feature_calc)\n",
    "new = feature_calc.identify_events(one_match_info, 'BUILDING_KILL', 25)\n",
    "first == new"
   ]
  },
  {
   "cell_type": "code",
   "execution_count": null,
   "metadata": {
    "collapsed": true
   },
   "outputs": [],
   "source": []
  }
 ],
 "metadata": {
  "kernelspec": {
   "display_name": "Python 3",
   "language": "python",
   "name": "python3"
  },
  "language_info": {
   "codemirror_mode": {
    "name": "ipython",
    "version": 3
   },
   "file_extension": ".py",
   "mimetype": "text/x-python",
   "name": "python",
   "nbconvert_exporter": "python",
   "pygments_lexer": "ipython3",
   "version": "3.4.4"
  }
 },
 "nbformat": 4,
 "nbformat_minor": 0
}
