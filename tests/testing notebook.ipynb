{
 "cells": [
  {
   "cell_type": "code",
   "execution_count": 1,
   "metadata": {
    "collapsed": false
   },
   "outputs": [],
   "source": [
    "import json\n",
    "import pandas as pd\n",
    "from nose.tools import assert_equals\n",
    "import lolML.src.feature_calc as feature_calc\n",
    "import ast\n",
    "import pickle\n",
    "import numpy as np\n",
    "import importlib\n",
    "\n",
    "working_dir = 'C:\\\\Users\\\\Chauncey\\\\Documents\\\\GitHub\\\\LolML\\\\tests\\\\'"
   ]
  },
  {
   "cell_type": "markdown",
   "metadata": {},
   "source": [
    "### Load in data"
   ]
  },
  {
   "cell_type": "code",
   "execution_count": 2,
   "metadata": {
    "collapsed": false
   },
   "outputs": [],
   "source": [
    "with open(working_dir + 'ten match info.json', 'r') as json_file:\n",
    "    ten_match_info = json.load( json_file)\n",
    "one_match_info = ten_match_info[0]"
   ]
  },
  {
   "cell_type": "code",
   "execution_count": 9,
   "metadata": {
    "collapsed": true
   },
   "outputs": [],
   "source": [
    "ten_match_df = pd.read_csv('ten match df.csv', sep=';', index_col='matchId', dtype={'version':str})"
   ]
  },
  {
   "cell_type": "code",
   "execution_count": 115,
   "metadata": {
    "collapsed": false
   },
   "outputs": [],
   "source": [
    "ten_match_df = feature_calc.calc_features_all_matches(ten_match_info, 15)"
   ]
  },
  {
   "cell_type": "code",
   "execution_count": 116,
   "metadata": {
    "collapsed": true
   },
   "outputs": [],
   "source": [
    "ten_match_df.to_csv('ten match df.csv', encoding='utf-8', sep=';')"
   ]
  },
  {
   "cell_type": "code",
   "execution_count": 117,
   "metadata": {
    "collapsed": false
   },
   "outputs": [
    {
     "data": {
      "text/plain": [
       "Index(['first_dragon', 'drag_diff', 'total_drag', 'first_baron', 'blue_barons',\n",
       "       'red_barons', 'first_tower', 'tower_diff', 'total_tower', 'first_inhib',\n",
       "       'blue_inhibs', 'red_inhibs', 'first_blood', 'gold_diff', 'kill_diff',\n",
       "       'total_kill', 'blue_share', 'red_share', 'blue_0', 'blue_1', 'blue_2',\n",
       "       'blue_3', 'blue_4', 'red_0', 'red_1', 'red_2', 'red_3', 'red_4',\n",
       "       'surrender', 'game_length', 'winner', 'utctimestamp', 'version'],\n",
       "      dtype='object')"
      ]
     },
     "execution_count": 117,
     "metadata": {},
     "output_type": "execute_result"
    }
   ],
   "source": [
    "ten_match_df.columns"
   ]
  },
  {
   "cell_type": "markdown",
   "metadata": {},
   "source": [
    "### start testing functions"
   ]
  },
  {
   "cell_type": "code",
   "execution_count": 53,
   "metadata": {
    "collapsed": false
   },
   "outputs": [],
   "source": [
    "calc_buildings = feature_calc.calc_building_features(one_match_info, 15)\n",
    "df_buildings = ten_match_df[['first_tower', 'tower_diff', 'total_tower', 'first_inhib',\n",
    "                             'blue_inhibs', 'red_inhibs']].iloc[0].values"
   ]
  },
  {
   "cell_type": "code",
   "execution_count": 63,
   "metadata": {
    "collapsed": false
   },
   "outputs": [],
   "source": [
    "assert list(df_buildings) == list(calc_buildings), 'huh'"
   ]
  },
  {
   "cell_type": "code",
   "execution_count": 65,
   "metadata": {
    "collapsed": true
   },
   "outputs": [],
   "source": [
    "calc_monsters = feature_calc.calc_elite_monster_features(one_match_info, 15)\n",
    "monster_col = ['first_dragon', 'drag_diff', 'total_drag', 'first_baron', 'blue_barons', 'red_barons']\n",
    "df_monsters = ten_match_df[monster_col].iloc[0].values"
   ]
  },
  {
   "cell_type": "code",
   "execution_count": 66,
   "metadata": {
    "collapsed": true
   },
   "outputs": [],
   "source": [
    "assert list(df_monsters) == calc_monsters"
   ]
  },
  {
   "cell_type": "markdown",
   "metadata": {},
   "source": [
    "### making changes to function"
   ]
  },
  {
   "cell_type": "code",
   "execution_count": 4,
   "metadata": {
    "collapsed": false
   },
   "outputs": [],
   "source": [
    "importlib.reload(feature_calc)\n",
    "calc_df = feature_calc.calc_features_all_matches(ten_match_info, 15)"
   ]
  },
  {
   "cell_type": "code",
   "execution_count": 48,
   "metadata": {
    "collapsed": false
   },
   "outputs": [
    {
     "data": {
      "text/plain": [
       "first_dragon    category\n",
       "drag_diff          int64\n",
       "total_drag         int64\n",
       "first_baron     category\n",
       "blue_barons        int64\n",
       "red_barons         int64\n",
       "first_tower     category\n",
       "tower_diff         int64\n",
       "total_tower        int64\n",
       "first_inhib     category\n",
       "blue_inhibs        int64\n",
       "red_inhibs         int64\n",
       "first_blood     category\n",
       "gold_diff          int64\n",
       "kill_diff          int64\n",
       "total_kill         int64\n",
       "blue_share        object\n",
       "red_share         object\n",
       "blue_0             int64\n",
       "blue_1             int64\n",
       "blue_2             int64\n",
       "blue_3             int64\n",
       "blue_4             int64\n",
       "red_0              int64\n",
       "red_1              int64\n",
       "red_2              int64\n",
       "red_3              int64\n",
       "red_4              int64\n",
       "surrender       category\n",
       "game_length        int64\n",
       "winner          category\n",
       "utctimestamp       int64\n",
       "version           object\n",
       "dtype: object"
      ]
     },
     "execution_count": 48,
     "metadata": {},
     "output_type": "execute_result"
    }
   ],
   "source": [
    "calc_df.dtypes"
   ]
  },
  {
   "cell_type": "code",
   "execution_count": 45,
   "metadata": {
    "collapsed": false
   },
   "outputs": [
    {
     "data": {
      "text/plain": [
       "False"
      ]
     },
     "execution_count": 45,
     "metadata": {},
     "output_type": "execute_result"
    }
   ],
   "source": [
    "non_float_col = [x for x in ten_match_df.columns if x not in ['blue_share', 'red_share'] ]\n",
    "calc_df[calc_df.columns[:10]].head(1).equals( ten_match_df[calc_df.columns[:10]].head(1))"
   ]
  },
  {
   "cell_type": "code",
   "execution_count": 49,
   "metadata": {
    "collapsed": false
   },
   "outputs": [
    {
     "data": {
      "text/plain": [
       "first_dragon      int64\n",
       "drag_diff         int64\n",
       "total_drag        int64\n",
       "first_baron       int64\n",
       "blue_barons       int64\n",
       "red_barons        int64\n",
       "first_tower       int64\n",
       "tower_diff        int64\n",
       "total_tower       int64\n",
       "first_inhib       int64\n",
       "blue_inhibs       int64\n",
       "red_inhibs        int64\n",
       "first_blood       int64\n",
       "gold_diff         int64\n",
       "kill_diff         int64\n",
       "total_kill        int64\n",
       "blue_share      float64\n",
       "red_share       float64\n",
       "blue_0            int64\n",
       "blue_1            int64\n",
       "blue_2            int64\n",
       "blue_3            int64\n",
       "blue_4            int64\n",
       "red_0             int64\n",
       "red_1             int64\n",
       "red_2             int64\n",
       "red_3             int64\n",
       "red_4             int64\n",
       "surrender         int64\n",
       "game_length       int64\n",
       "winner            int64\n",
       "utctimestamp      int64\n",
       "version          object\n",
       "dtype: object"
      ]
     },
     "execution_count": 49,
     "metadata": {},
     "output_type": "execute_result"
    }
   ],
   "source": [
    "ten_match_df.dtypes"
   ]
  },
  {
   "cell_type": "code",
   "execution_count": null,
   "metadata": {
    "collapsed": true
   },
   "outputs": [],
   "source": []
  }
 ],
 "metadata": {
  "kernelspec": {
   "display_name": "Python 3",
   "language": "python",
   "name": "python3"
  },
  "language_info": {
   "codemirror_mode": {
    "name": "ipython",
    "version": 3
   },
   "file_extension": ".py",
   "mimetype": "text/x-python",
   "name": "python",
   "nbconvert_exporter": "python",
   "pygments_lexer": "ipython3",
   "version": "3.4.4"
  }
 },
 "nbformat": 4,
 "nbformat_minor": 0
}
