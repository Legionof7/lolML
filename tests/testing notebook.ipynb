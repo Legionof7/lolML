{
 "cells": [
  {
   "cell_type": "code",
   "execution_count": 3,
   "metadata": {
    "collapsed": false
   },
   "outputs": [],
   "source": [
    "import json\n",
    "import pandas as pd\n",
    "#from nose.tools import assert_equals\n",
    "import lolML.src.feature_calc as feature_calc\n",
    "import ast\n",
    "import pickle\n",
    "import numpy as np\n",
    "import importlib\n",
    "\n",
    "working_dir = 'C:\\\\Users\\\\Chauncey\\\\Documents\\\\GitHub\\\\LolML\\\\tests\\\\'\n",
    "#working_dir = 'C:\\\\Users\\\\Me\\\\Documents\\\\GitHub\\\\LolML\\\\tests\\\\'"
   ]
  },
  {
   "cell_type": "markdown",
   "metadata": {},
   "source": [
    "### Load in data"
   ]
  },
  {
   "cell_type": "code",
   "execution_count": 4,
   "metadata": {
    "collapsed": false
   },
   "outputs": [],
   "source": [
    "with open(working_dir + 'ten match info.json', 'r') as json_file:\n",
    "    ten_match_info = json.load( json_file)\n",
    "one_match_info = ten_match_info[0]"
   ]
  },
  {
   "cell_type": "code",
   "execution_count": 5,
   "metadata": {
    "collapsed": true
   },
   "outputs": [],
   "source": [
    "ten_match_df = pd.read_csv('ten match df.csv', sep=';', index_col='matchId', dtype={'version':str})"
   ]
  },
  {
   "cell_type": "code",
   "execution_count": 23,
   "metadata": {
    "collapsed": false
   },
   "outputs": [
    {
     "name": "stderr",
     "output_type": "stream",
     "text": [
      "INFO:lolML.src.feature_calc:Calculating features for all matches\n",
      "INFO:lolML.src.feature_calc:Finished calculating features, now retyping columns\n",
      "INFO:lolML.src.feature_calc:Finished retyping, now dropping empty rows\n",
      "INFO:lolML.src.feature_calc:Finished feature calculation!\n"
     ]
    }
   ],
   "source": [
    "# make ten_match_df if you need to\n",
    "importlib.reload(feature_calc)\n",
    "ten_match_df = feature_calc.calc_features_all_matches(ten_match_info, 15)\n",
    "ten_match_df = feature_calc.calc_secondary_features(ten_match_df)\n",
    "ten_match_df = feature_calc.calc_second_diff([ten_match_df])[0]\n",
    "ten_match_df.to_csv('ten match df.csv', encoding='utf-8', sep=';')"
   ]
  },
  {
   "cell_type": "markdown",
   "metadata": {},
   "source": [
    "### start testing functions"
   ]
  },
  {
   "cell_type": "code",
   "execution_count": 53,
   "metadata": {
    "collapsed": false
   },
   "outputs": [],
   "source": [
    "calc_buildings = feature_calc.calc_building_features(one_match_info, 15)\n",
    "df_buildings = ten_match_df[['first_tower', 'tower_diff', 'total_tower', 'first_inhib',\n",
    "                             'blue_inhibs', 'red_inhibs']].iloc[0].values"
   ]
  },
  {
   "cell_type": "code",
   "execution_count": 63,
   "metadata": {
    "collapsed": false
   },
   "outputs": [],
   "source": [
    "assert list(df_buildings) == list(calc_buildings), 'huh'"
   ]
  },
  {
   "cell_type": "code",
   "execution_count": 65,
   "metadata": {
    "collapsed": true
   },
   "outputs": [],
   "source": [
    "calc_monsters = feature_calc.calc_elite_monster_features(one_match_info, 15)\n",
    "monster_col = ['first_dragon', 'drag_diff', 'total_drag', 'first_baron', 'blue_barons', 'red_barons']\n",
    "df_monsters = ten_match_df[monster_col].iloc[0].values"
   ]
  },
  {
   "cell_type": "code",
   "execution_count": 66,
   "metadata": {
    "collapsed": true
   },
   "outputs": [],
   "source": [
    "assert list(df_monsters) == calc_monsters"
   ]
  },
  {
   "cell_type": "markdown",
   "metadata": {},
   "source": [
    "### making changes to function"
   ]
  },
  {
   "cell_type": "code",
   "execution_count": 4,
   "metadata": {
    "collapsed": false
   },
   "outputs": [],
   "source": [
    "importlib.reload(feature_calc)\n",
    "calc_df = feature_calc.calc_features_all_matches(ten_match_info, 15)"
   ]
  },
  {
   "cell_type": "code",
   "execution_count": 63,
   "metadata": {
    "collapsed": false
   },
   "outputs": [],
   "source": [
    "calc_team_comps = list(feature_calc.parse_team_comp(ten_match_info[0]))\n",
    "calc_team_comps = [item for sublist in calc_team_comps for item in sublist]\n",
    "team_col = ['blue_0', 'blue_1', 'blue_2', 'blue_3', 'blue_4',\n",
    "         'red_0', 'red_1', 'red_2', 'red_3', 'red_4',]\n",
    "df_team_comp = ten_match_df[team_col].iloc[0].values"
   ]
  },
  {
   "cell_type": "code",
   "execution_count": 64,
   "metadata": {
    "collapsed": false
   },
   "outputs": [
    {
     "data": {
      "text/plain": [
       "[62, 131, 63, 59, 429, 82, 1, 2, 86, 201]"
      ]
     },
     "execution_count": 64,
     "metadata": {},
     "output_type": "execute_result"
    }
   ],
   "source": [
    "calc_team_comps"
   ]
  },
  {
   "cell_type": "code",
   "execution_count": 62,
   "metadata": {
    "collapsed": false
   },
   "outputs": [
    {
     "data": {
      "text/plain": [
       "array([ 62, 131,  63,  59, 429,  82,   1,   2,  86, 201], dtype=int64)"
      ]
     },
     "execution_count": 62,
     "metadata": {},
     "output_type": "execute_result"
    }
   ],
   "source": [
    "df_team_comp"
   ]
  },
  {
   "cell_type": "code",
   "execution_count": 69,
   "metadata": {
    "collapsed": false
   },
   "outputs": [
    {
     "data": {
      "text/html": [
       "<div>\n",
       "<table border=\"1\" class=\"dataframe\">\n",
       "  <thead>\n",
       "    <tr style=\"text-align: right;\">\n",
       "      <th></th>\n",
       "      <th>first_dragon</th>\n",
       "      <th>drag_diff</th>\n",
       "      <th>total_drag</th>\n",
       "      <th>first_baron</th>\n",
       "      <th>blue_barons</th>\n",
       "      <th>red_barons</th>\n",
       "      <th>first_tower</th>\n",
       "      <th>tower_diff</th>\n",
       "      <th>total_tower</th>\n",
       "      <th>first_inhib</th>\n",
       "      <th>...</th>\n",
       "      <th>surrender</th>\n",
       "      <th>game_length</th>\n",
       "      <th>winner</th>\n",
       "      <th>utctimestamp</th>\n",
       "      <th>version</th>\n",
       "      <th>square_gold_diff</th>\n",
       "      <th>gold_diff_diff</th>\n",
       "      <th>tower_diff_diff</th>\n",
       "      <th>kill_diff_diff</th>\n",
       "      <th>drag_diff_diff</th>\n",
       "    </tr>\n",
       "    <tr>\n",
       "      <th>matchId</th>\n",
       "      <th></th>\n",
       "      <th></th>\n",
       "      <th></th>\n",
       "      <th></th>\n",
       "      <th></th>\n",
       "      <th></th>\n",
       "      <th></th>\n",
       "      <th></th>\n",
       "      <th></th>\n",
       "      <th></th>\n",
       "      <th></th>\n",
       "      <th></th>\n",
       "      <th></th>\n",
       "      <th></th>\n",
       "      <th></th>\n",
       "      <th></th>\n",
       "      <th></th>\n",
       "      <th></th>\n",
       "      <th></th>\n",
       "      <th></th>\n",
       "      <th></th>\n",
       "    </tr>\n",
       "  </thead>\n",
       "  <tbody>\n",
       "    <tr>\n",
       "      <th>1955239698</th>\n",
       "      <td>1</td>\n",
       "      <td>1</td>\n",
       "      <td>1</td>\n",
       "      <td>-1</td>\n",
       "      <td>0</td>\n",
       "      <td>0</td>\n",
       "      <td>1</td>\n",
       "      <td>2</td>\n",
       "      <td>2</td>\n",
       "      <td>-1</td>\n",
       "      <td>...</td>\n",
       "      <td>1</td>\n",
       "      <td>37</td>\n",
       "      <td>1</td>\n",
       "      <td>1442681043081</td>\n",
       "      <td>5.18</td>\n",
       "      <td>5438224</td>\n",
       "      <td>0</td>\n",
       "      <td>0</td>\n",
       "      <td>0</td>\n",
       "      <td>0</td>\n",
       "    </tr>\n",
       "    <tr>\n",
       "      <th>1954974642</th>\n",
       "      <td>0</td>\n",
       "      <td>-1</td>\n",
       "      <td>1</td>\n",
       "      <td>-1</td>\n",
       "      <td>0</td>\n",
       "      <td>0</td>\n",
       "      <td>0</td>\n",
       "      <td>-1</td>\n",
       "      <td>3</td>\n",
       "      <td>-1</td>\n",
       "      <td>...</td>\n",
       "      <td>1</td>\n",
       "      <td>32</td>\n",
       "      <td>0</td>\n",
       "      <td>1442638686157</td>\n",
       "      <td>5.18</td>\n",
       "      <td>15124321</td>\n",
       "      <td>0</td>\n",
       "      <td>0</td>\n",
       "      <td>0</td>\n",
       "      <td>0</td>\n",
       "    </tr>\n",
       "    <tr>\n",
       "      <th>1950969271</th>\n",
       "      <td>-1</td>\n",
       "      <td>0</td>\n",
       "      <td>0</td>\n",
       "      <td>-1</td>\n",
       "      <td>0</td>\n",
       "      <td>0</td>\n",
       "      <td>-1</td>\n",
       "      <td>0</td>\n",
       "      <td>0</td>\n",
       "      <td>-1</td>\n",
       "      <td>...</td>\n",
       "      <td>0</td>\n",
       "      <td>44</td>\n",
       "      <td>0</td>\n",
       "      <td>1442271859805</td>\n",
       "      <td>5.17</td>\n",
       "      <td>236196</td>\n",
       "      <td>0</td>\n",
       "      <td>0</td>\n",
       "      <td>0</td>\n",
       "      <td>0</td>\n",
       "    </tr>\n",
       "    <tr>\n",
       "      <th>1950520361</th>\n",
       "      <td>1</td>\n",
       "      <td>1</td>\n",
       "      <td>1</td>\n",
       "      <td>-1</td>\n",
       "      <td>0</td>\n",
       "      <td>0</td>\n",
       "      <td>-1</td>\n",
       "      <td>0</td>\n",
       "      <td>0</td>\n",
       "      <td>-1</td>\n",
       "      <td>...</td>\n",
       "      <td>1</td>\n",
       "      <td>27</td>\n",
       "      <td>1</td>\n",
       "      <td>1442244467645</td>\n",
       "      <td>5.17</td>\n",
       "      <td>116964</td>\n",
       "      <td>0</td>\n",
       "      <td>0</td>\n",
       "      <td>0</td>\n",
       "      <td>0</td>\n",
       "    </tr>\n",
       "    <tr>\n",
       "      <th>1950047358</th>\n",
       "      <td>-1</td>\n",
       "      <td>0</td>\n",
       "      <td>0</td>\n",
       "      <td>-1</td>\n",
       "      <td>0</td>\n",
       "      <td>0</td>\n",
       "      <td>1</td>\n",
       "      <td>1</td>\n",
       "      <td>1</td>\n",
       "      <td>-1</td>\n",
       "      <td>...</td>\n",
       "      <td>0</td>\n",
       "      <td>31</td>\n",
       "      <td>1</td>\n",
       "      <td>1442188441896</td>\n",
       "      <td>5.17</td>\n",
       "      <td>18130564</td>\n",
       "      <td>0</td>\n",
       "      <td>0</td>\n",
       "      <td>0</td>\n",
       "      <td>0</td>\n",
       "    </tr>\n",
       "    <tr>\n",
       "      <th>1950011857</th>\n",
       "      <td>0</td>\n",
       "      <td>-1</td>\n",
       "      <td>1</td>\n",
       "      <td>-1</td>\n",
       "      <td>0</td>\n",
       "      <td>0</td>\n",
       "      <td>1</td>\n",
       "      <td>0</td>\n",
       "      <td>2</td>\n",
       "      <td>-1</td>\n",
       "      <td>...</td>\n",
       "      <td>1</td>\n",
       "      <td>36</td>\n",
       "      <td>0</td>\n",
       "      <td>1442185201148</td>\n",
       "      <td>5.17</td>\n",
       "      <td>11189025</td>\n",
       "      <td>0</td>\n",
       "      <td>0</td>\n",
       "      <td>0</td>\n",
       "      <td>0</td>\n",
       "    </tr>\n",
       "    <tr>\n",
       "      <th>1947645466</th>\n",
       "      <td>0</td>\n",
       "      <td>-1</td>\n",
       "      <td>1</td>\n",
       "      <td>-1</td>\n",
       "      <td>0</td>\n",
       "      <td>0</td>\n",
       "      <td>0</td>\n",
       "      <td>-1</td>\n",
       "      <td>1</td>\n",
       "      <td>-1</td>\n",
       "      <td>...</td>\n",
       "      <td>1</td>\n",
       "      <td>42</td>\n",
       "      <td>1</td>\n",
       "      <td>1442015922324</td>\n",
       "      <td>5.17</td>\n",
       "      <td>9474084</td>\n",
       "      <td>0</td>\n",
       "      <td>0</td>\n",
       "      <td>0</td>\n",
       "      <td>0</td>\n",
       "    </tr>\n",
       "    <tr>\n",
       "      <th>1947595783</th>\n",
       "      <td>1</td>\n",
       "      <td>1</td>\n",
       "      <td>1</td>\n",
       "      <td>-1</td>\n",
       "      <td>0</td>\n",
       "      <td>0</td>\n",
       "      <td>1</td>\n",
       "      <td>1</td>\n",
       "      <td>3</td>\n",
       "      <td>-1</td>\n",
       "      <td>...</td>\n",
       "      <td>1</td>\n",
       "      <td>49</td>\n",
       "      <td>1</td>\n",
       "      <td>1442011449257</td>\n",
       "      <td>5.17</td>\n",
       "      <td>19501056</td>\n",
       "      <td>0</td>\n",
       "      <td>0</td>\n",
       "      <td>0</td>\n",
       "      <td>0</td>\n",
       "    </tr>\n",
       "    <tr>\n",
       "      <th>1947538513</th>\n",
       "      <td>0</td>\n",
       "      <td>-1</td>\n",
       "      <td>1</td>\n",
       "      <td>-1</td>\n",
       "      <td>0</td>\n",
       "      <td>0</td>\n",
       "      <td>0</td>\n",
       "      <td>-3</td>\n",
       "      <td>3</td>\n",
       "      <td>-1</td>\n",
       "      <td>...</td>\n",
       "      <td>0</td>\n",
       "      <td>22</td>\n",
       "      <td>0</td>\n",
       "      <td>1442007098006</td>\n",
       "      <td>5.17</td>\n",
       "      <td>8844676</td>\n",
       "      <td>0</td>\n",
       "      <td>0</td>\n",
       "      <td>0</td>\n",
       "      <td>0</td>\n",
       "    </tr>\n",
       "    <tr>\n",
       "      <th>1947508622</th>\n",
       "      <td>-1</td>\n",
       "      <td>0</td>\n",
       "      <td>0</td>\n",
       "      <td>-1</td>\n",
       "      <td>0</td>\n",
       "      <td>0</td>\n",
       "      <td>-1</td>\n",
       "      <td>0</td>\n",
       "      <td>0</td>\n",
       "      <td>-1</td>\n",
       "      <td>...</td>\n",
       "      <td>1</td>\n",
       "      <td>22</td>\n",
       "      <td>1</td>\n",
       "      <td>1442005127269</td>\n",
       "      <td>5.17</td>\n",
       "      <td>1464100</td>\n",
       "      <td>0</td>\n",
       "      <td>0</td>\n",
       "      <td>0</td>\n",
       "      <td>0</td>\n",
       "    </tr>\n",
       "  </tbody>\n",
       "</table>\n",
       "<p>10 rows × 38 columns</p>\n",
       "</div>"
      ],
      "text/plain": [
       "           first_dragon  drag_diff  total_drag first_baron  blue_barons  \\\n",
       "matchId                                                                   \n",
       "1955239698            1          1           1          -1            0   \n",
       "1954974642            0         -1           1          -1            0   \n",
       "1950969271           -1          0           0          -1            0   \n",
       "1950520361            1          1           1          -1            0   \n",
       "1950047358           -1          0           0          -1            0   \n",
       "1950011857            0         -1           1          -1            0   \n",
       "1947645466            0         -1           1          -1            0   \n",
       "1947595783            1          1           1          -1            0   \n",
       "1947538513            0         -1           1          -1            0   \n",
       "1947508622           -1          0           0          -1            0   \n",
       "\n",
       "            red_barons first_tower  tower_diff  total_tower first_inhib  \\\n",
       "matchId                                                                   \n",
       "1955239698           0           1           2            2          -1   \n",
       "1954974642           0           0          -1            3          -1   \n",
       "1950969271           0          -1           0            0          -1   \n",
       "1950520361           0          -1           0            0          -1   \n",
       "1950047358           0           1           1            1          -1   \n",
       "1950011857           0           1           0            2          -1   \n",
       "1947645466           0           0          -1            1          -1   \n",
       "1947595783           0           1           1            3          -1   \n",
       "1947538513           0           0          -3            3          -1   \n",
       "1947508622           0          -1           0            0          -1   \n",
       "\n",
       "                 ...        surrender  game_length winner   utctimestamp  \\\n",
       "matchId          ...                                                       \n",
       "1955239698       ...                1           37      1  1442681043081   \n",
       "1954974642       ...                1           32      0  1442638686157   \n",
       "1950969271       ...                0           44      0  1442271859805   \n",
       "1950520361       ...                1           27      1  1442244467645   \n",
       "1950047358       ...                0           31      1  1442188441896   \n",
       "1950011857       ...                1           36      0  1442185201148   \n",
       "1947645466       ...                1           42      1  1442015922324   \n",
       "1947595783       ...                1           49      1  1442011449257   \n",
       "1947538513       ...                0           22      0  1442007098006   \n",
       "1947508622       ...                1           22      1  1442005127269   \n",
       "\n",
       "            version  square_gold_diff gold_diff_diff tower_diff_diff  \\\n",
       "matchId                                                                \n",
       "1955239698     5.18           5438224              0               0   \n",
       "1954974642     5.18          15124321              0               0   \n",
       "1950969271     5.17            236196              0               0   \n",
       "1950520361     5.17            116964              0               0   \n",
       "1950047358     5.17          18130564              0               0   \n",
       "1950011857     5.17          11189025              0               0   \n",
       "1947645466     5.17           9474084              0               0   \n",
       "1947595783     5.17          19501056              0               0   \n",
       "1947538513     5.17           8844676              0               0   \n",
       "1947508622     5.17           1464100              0               0   \n",
       "\n",
       "            kill_diff_diff  drag_diff_diff  \n",
       "matchId                                     \n",
       "1955239698               0               0  \n",
       "1954974642               0               0  \n",
       "1950969271               0               0  \n",
       "1950520361               0               0  \n",
       "1950047358               0               0  \n",
       "1950011857               0               0  \n",
       "1947645466               0               0  \n",
       "1947595783               0               0  \n",
       "1947538513               0               0  \n",
       "1947508622               0               0  \n",
       "\n",
       "[10 rows x 38 columns]"
      ]
     },
     "execution_count": 69,
     "metadata": {},
     "output_type": "execute_result"
    }
   ],
   "source": [
    "feature_calc.calc_secondary_features(ten_match_df)"
   ]
  },
  {
   "cell_type": "code",
   "execution_count": null,
   "metadata": {
    "collapsed": true
   },
   "outputs": [],
   "source": []
  }
 ],
 "metadata": {
  "kernelspec": {
   "display_name": "Python 3",
   "language": "python",
   "name": "python3"
  },
  "language_info": {
   "codemirror_mode": {
    "name": "ipython",
    "version": 3
   },
   "file_extension": ".py",
   "mimetype": "text/x-python",
   "name": "python",
   "nbconvert_exporter": "python",
   "pygments_lexer": "ipython3",
   "version": "3.4.4"
  }
 },
 "nbformat": 4,
 "nbformat_minor": 0
}
