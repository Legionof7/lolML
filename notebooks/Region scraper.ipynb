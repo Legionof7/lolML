{
 "cells": [
  {
   "cell_type": "markdown",
   "metadata": {},
   "source": [
    "## To do:"
   ]
  },
  {
   "cell_type": "markdown",
   "metadata": {},
   "source": [
    "# Notebook for scraping different regions\n",
    "\n",
    "I created a separate notebook to scrape different regions. This allows me to collect games without storing the JSON.\n",
    "\n",
    "Load libraries"
   ]
  },
  {
   "cell_type": "code",
   "execution_count": 2,
   "metadata": {
    "collapsed": false
   },
   "outputs": [],
   "source": [
    "import requests, json\n",
    "import numpy as np\n",
    "from src import API_io\n",
    "import importlib\n",
    "import pandas as pd\n",
    "import time\n",
    "from src import feature_calc"
   ]
  },
  {
   "cell_type": "code",
   "execution_count": 3,
   "metadata": {
    "collapsed": true
   },
   "outputs": [],
   "source": [
    "working_dir = 'C:\\\\Users\\\\Me\\\\Documents\\\\GitHub\\\\lolML'\n",
    "with open(working_dir+ '\\\\api_key.txt', 'r') as api_file:\n",
    "    api_key =  api_file.read()"
   ]
  },
  {
   "cell_type": "markdown",
   "metadata": {},
   "source": [
    "## Get a list of high level matches\n",
    "\n",
    "Set the region. Then get summoners in featured games for that region"
   ]
  },
  {
   "cell_type": "code",
   "execution_count": 4,
   "metadata": {
    "collapsed": false
   },
   "outputs": [],
   "source": [
    "region_key = 'na'\n",
    "featured_json = API_io.load_featured_games(api_key, region_key) # load json of featured games\n",
    "featured_game_ids = [x['gameId'] for x in featured_json ] #  use list comprehension to get featured games; don't use this"
   ]
  },
  {
   "cell_type": "markdown",
   "metadata": {
    "collapsed": false
   },
   "source": [
    "Make a list of summoner names and summoner IDs from the featured JSON"
   ]
  },
  {
   "cell_type": "code",
   "execution_count": 50,
   "metadata": {
    "collapsed": false
   },
   "outputs": [
    {
     "name": "stdout",
     "output_type": "stream",
     "text": [
      "['KoreaNidalee', 'InitialLotus', 'Adriana Ugarte', 'PuffyCheeks', 'chuck normis']\n"
     ]
    }
   ],
   "source": [
    "importlib.reload(API_io)\n",
    "summoner_names, summoner_IDs = API_io.get_summoners_IDs_from_featured_games(featured_json, api_key, region =region_key)\n",
    "print(summoner_names[:5],)"
   ]
  },
  {
   "cell_type": "code",
   "execution_count": 51,
   "metadata": {
    "collapsed": false
   },
   "outputs": [
    {
     "name": "stdout",
     "output_type": "stream",
     "text": [
      "['https://na.api.pvp.net/api/lol/na/v2.2/matchlist/by-summoner/31756933?rankedQueues=RANKED_SOLO_5x5&seasons=SEASON2015&api_key=0da3703d-7bf5-4e72-96cd-5062b28720d7', 'https://na.api.pvp.net/api/lol/na/v2.2/matchlist/by-summoner/20880807?rankedQueues=RANKED_SOLO_5x5&seasons=SEASON2015&api_key=0da3703d-7bf5-4e72-96cd-5062b28720d7']\n"
     ]
    }
   ],
   "source": [
    "summoner_urls = [API_io.make_matchlist_url_summoner_ID(x, True, True, api_key, region =region_key) for x in summoner_IDs]\n",
    "print(summoner_urls[:2])\n",
    "match_histories = [API_io.get_limited_request(x) for x in summoner_urls ]"
   ]
  },
  {
   "cell_type": "markdown",
   "metadata": {},
   "source": [
    "Extract the match ID from the match history JSON"
   ]
  },
  {
   "cell_type": "code",
   "execution_count": 52,
   "metadata": {
    "collapsed": false
   },
   "outputs": [
    {
     "data": {
      "text/plain": [
       "(35303,)"
      ]
     },
     "execution_count": 52,
     "metadata": {},
     "output_type": "execute_result"
    }
   ],
   "source": [
    "match_IDs = np.empty(0, dtype=int)\n",
    "for cur_matches in match_histories:\n",
    "    match_IDs = np.append( match_IDs, [x['matchId'] for x in cur_matches['matches'] if x['region'] == region_key.upper()] )\n",
    "match_IDs = np.unique(match_IDs)\n",
    "pd.Series(match_IDs).to_csv('Korean Match IDs.csv')\n",
    "match_IDs.shape"
   ]
  },
  {
   "cell_type": "code",
   "execution_count": 21,
   "metadata": {
    "collapsed": false
   },
   "outputs": [
    {
     "data": {
      "text/plain": [
       "['https://euw.api.pvp.net/api/lol/euw/v2.2/match/1930396612?includeTimeline=true&api_key=0da3703d-7bf5-4e72-96cd-5062b28720d7',\n",
       " 'https://euw.api.pvp.net/api/lol/euw/v2.2/match/1930399900?includeTimeline=true&api_key=0da3703d-7bf5-4e72-96cd-5062b28720d7']"
      ]
     },
     "execution_count": 21,
     "metadata": {},
     "output_type": "execute_result"
    }
   ],
   "source": [
    "# make urls for loading\n",
    "match_urls = [API_io.make_match_info_url(x, True, api_key, region = region_key) for x in match_IDs] # True flag means we get the timeline\n",
    "match_urls[:2]"
   ]
  },
  {
   "cell_type": "code",
   "execution_count": 171,
   "metadata": {
    "collapsed": false
   },
   "outputs": [],
   "source": [
    "match_range = np.arange(10000, 15000)\n",
    "col_names = feature_calc.col_names\n",
    "timeline_end = 55\n",
    "time_indices = np.arange(5, timeline_end, 5)\n",
    "games_df = pd.DataFrame(index = match_range, columns= col_names)\n",
    "timelines_df = [ pd.DataFrame(index = match_range, columns= col_names) for x in time_indices]"
   ]
  },
  {
   "cell_type": "code",
   "execution_count": 172,
   "metadata": {
    "collapsed": false
   },
   "outputs": [
    {
     "name": "stdout",
     "output_type": "stream",
     "text": [
      "Error: <class 'KeyboardInterrupt'> in game 2077600049\n",
      "Error: <class 'KeyboardInterrupt'> in game 2077609330\n",
      "Error: <class 'KeyboardInterrupt'> in game 2077618658\n",
      "Error: <class 'KeyboardInterrupt'> in game 2077623710\n",
      "Error: <class 'KeyboardInterrupt'> in game 2077642154\n",
      "Error: <class 'KeyboardInterrupt'> in game 2077643397\n",
      "Error: <class 'KeyboardInterrupt'> in game 2077648353\n"
     ]
    },
    {
     "ename": "KeyboardInterrupt",
     "evalue": "",
     "output_type": "error",
     "traceback": [
      "\u001b[1;31m---------------------------------------------------------------------------\u001b[0m",
      "\u001b[1;31mKeyboardInterrupt\u001b[0m                         Traceback (most recent call last)",
      "\u001b[1;32m<ipython-input-172-f20ebcc8d9f3>\u001b[0m in \u001b[0;36m<module>\u001b[1;34m()\u001b[0m\n\u001b[0;32m     14\u001b[0m         \u001b[0merr\u001b[0m \u001b[1;33m=\u001b[0m \u001b[0msys\u001b[0m\u001b[1;33m.\u001b[0m\u001b[0mexc_info\u001b[0m\u001b[1;33m(\u001b[0m\u001b[1;33m)\u001b[0m\u001b[1;33m[\u001b[0m\u001b[1;36m0\u001b[0m\u001b[1;33m]\u001b[0m\u001b[1;33m\u001b[0m\u001b[0m\n\u001b[0;32m     15\u001b[0m         \u001b[0mprint\u001b[0m\u001b[1;33m(\u001b[0m\u001b[1;34m'Error: '\u001b[0m \u001b[1;33m+\u001b[0m \u001b[0mstr\u001b[0m\u001b[1;33m(\u001b[0m\u001b[0merr\u001b[0m\u001b[1;33m)\u001b[0m \u001b[1;33m+\u001b[0m \u001b[1;34m' in game '\u001b[0m \u001b[1;33m+\u001b[0m \u001b[0mstr\u001b[0m\u001b[1;33m(\u001b[0m\u001b[0mmatch_IDs\u001b[0m\u001b[1;33m[\u001b[0m\u001b[0mcur_match\u001b[0m\u001b[1;33m]\u001b[0m\u001b[1;33m)\u001b[0m\u001b[1;33m)\u001b[0m\u001b[1;33m\u001b[0m\u001b[0m\n\u001b[1;32m---> 16\u001b[1;33m     \u001b[0mtime\u001b[0m\u001b[1;33m.\u001b[0m\u001b[0msleep\u001b[0m\u001b[1;33m(\u001b[0m\u001b[1;36m0.3\u001b[0m\u001b[1;33m)\u001b[0m \u001b[1;31m# RIOT API is throttled to ~0.83 requests / second\u001b[0m\u001b[1;33m\u001b[0m\u001b[0m\n\u001b[0m",
      "\u001b[1;31mKeyboardInterrupt\u001b[0m: "
     ]
    }
   ],
   "source": [
    "# this is the worst code EVER\n",
    "for match_index, cur_match in enumerate(match_range):\n",
    "    try:\n",
    "        match_info = requests.get(match_urls[cur_match]).json()\n",
    "        for time_index, last_min in enumerate(time_indices):\n",
    "            try:\n",
    "                timelines_df[time_index].loc[match_index] = feature_calc.calc_features_single_match(match_info, last_min)\n",
    "            except:\n",
    "                continue\n",
    "    except requests.exceptions.HTTPError as err:\n",
    "        print('HHTPError in game ' + str(match_IDs[cur_match]))\n",
    "    except:\n",
    "        import sys\n",
    "        err = sys.exc_info()[0]\n",
    "        print('Error: ' + str(err) + ' in game ' + str(match_IDs[cur_match]))\n",
    "    time.sleep(0.3) # RIOT API is throttled to ~0.83 requests / second"
   ]
  },
  {
   "cell_type": "code",
   "execution_count": 138,
   "metadata": {
    "collapsed": false
   },
   "outputs": [],
   "source": [
    "timelines_df = [x.dropna() for x in timelines_df]\n",
    "timelines_df = [feature_calc.retype_columns(x) for x in timelines_df ]\n",
    "timelines_df = [x.set_index('matchId') for x in timelines_df ]"
   ]
  },
  {
   "cell_type": "code",
   "execution_count": 139,
   "metadata": {
    "collapsed": false
   },
   "outputs": [
    {
     "data": {
      "text/plain": [
       "[(4694, 31),\n",
       " (4688, 31),\n",
       " (4648, 31),\n",
       " (4546, 31),\n",
       " (3837, 31),\n",
       " (2995, 31),\n",
       " (1880, 31),\n",
       " (889, 31),\n",
       " (327, 31),\n",
       " (82, 31)]"
      ]
     },
     "execution_count": 139,
     "metadata": {},
     "output_type": "execute_result"
    }
   ],
   "source": [
    "[x.shape for x in timelines_df]"
   ]
  },
  {
   "cell_type": "markdown",
   "metadata": {},
   "source": [
    "Now save the information to disk."
   ]
  },
  {
   "cell_type": "code",
   "execution_count": 59,
   "metadata": {
    "collapsed": false
   },
   "outputs": [],
   "source": [
    "games_df.to_csv('Korean games 1-1000.csv')"
   ]
  },
  {
   "cell_type": "code",
   "execution_count": 169,
   "metadata": {
    "collapsed": false
   },
   "outputs": [],
   "source": [
    "combined_df = [timelines_df[x].append(combined_df[x] ) for x in np.arange(len(timelines_df)) ]"
   ]
  },
  {
   "cell_type": "code",
   "execution_count": 170,
   "metadata": {
    "collapsed": false
   },
   "outputs": [
    {
     "data": {
      "text/plain": [
       "[(9182, 31),\n",
       " (9176, 31),\n",
       " (9108, 31),\n",
       " (8926, 31),\n",
       " (7567, 31),\n",
       " (5929, 31),\n",
       " (3624, 31),\n",
       " (1719, 31),\n",
       " (571, 31),\n",
       " (134, 31)]"
      ]
     },
     "execution_count": 170,
     "metadata": {},
     "output_type": "execute_result"
    }
   ],
   "source": [
    "[x.shape for x in combined_df]"
   ]
  },
  {
   "cell_type": "code",
   "execution_count": 174,
   "metadata": {
    "collapsed": false
   },
   "outputs": [],
   "source": [
    "import pickle\n",
    "with open('combined_df.pickle', 'wb') as pickle_file:\n",
    "    pickle.dump(combined_df, pickle_file)"
   ]
  },
  {
   "cell_type": "code",
   "execution_count": 177,
   "metadata": {
    "collapsed": true
   },
   "outputs": [],
   "source": [
    "with open('combined_df.pickle', 'rb') as pickle_file:\n",
    "    combined_df = pickle.load(pickle_file)"
   ]
  }
 ],
 "metadata": {
  "kernelspec": {
   "display_name": "Python 3",
   "language": "python",
   "name": "python3"
  },
  "language_info": {
   "codemirror_mode": {
    "name": "ipython",
    "version": 3
   },
   "file_extension": ".py",
   "mimetype": "text/x-python",
   "name": "python",
   "nbconvert_exporter": "python",
   "pygments_lexer": "ipython3",
   "version": "3.4.3"
  }
 },
 "nbformat": 4,
 "nbformat_minor": 0
}
