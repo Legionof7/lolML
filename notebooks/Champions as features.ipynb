{
 "cells": [
  {
   "cell_type": "markdown",
   "metadata": {},
   "source": [
    "# To do:\n"
   ]
  },
  {
   "cell_type": "markdown",
   "metadata": {},
   "source": [
    "# League of Legends Machine Learning\n",
    "\n",
    "Load libraries and API key"
   ]
  },
  {
   "cell_type": "code",
   "execution_count": 1,
   "metadata": {
    "collapsed": false
   },
   "outputs": [],
   "source": [
    "import requests, json\n",
    "import numpy as np\n",
    "from src import API_io\n",
    "import importlib\n",
    "import pandas as pd\n",
    "import pickle\n",
    "import os\n",
    "from src import feature_calc\n",
    "import matplotlib.pyplot as plt\n",
    "import src.plotting as lol_plt\n",
    "%matplotlib inline\n",
    "import pdb"
   ]
  },
  {
   "cell_type": "code",
   "execution_count": 4,
   "metadata": {
    "collapsed": false
   },
   "outputs": [],
   "source": [
    "working_dir = 'C:\\\\Users\\\\Me\\\\Documents\\\\GitHub\\\\lolML'\n",
    "os.chdir(working_dir)\n",
    "with open(working_dir+ '\\\\api_key.txt', 'r') as api_file:\n",
    "    api_key =  api_file.read()"
   ]
  },
  {
   "cell_type": "code",
   "execution_count": 100,
   "metadata": {
    "collapsed": false
   },
   "outputs": [],
   "source": [
    "os.chdir(working_dir)\n",
    "with open('EUW combined_df.pickle', 'rb') as pickle_file:\n",
    "    euw_timelines_df = pickle.load(pickle_file)\n",
    "with open('KR combined_df.pickle', 'rb') as pickle_file:\n",
    "    kr_timelines_df = pickle.load(pickle_file)\n",
    "with open('NA combined_df.pickle', 'rb') as pickle_file:\n",
    "    na_timelines_df = pickle.load(pickle_file)\n",
    "with open('Low ELO combined_df.pickle', 'rb') as pickle_file:\n",
    "    low_timelines_df = pickle.load(pickle_file)"
   ]
  },
  {
   "cell_type": "code",
   "execution_count": 6,
   "metadata": {
    "collapsed": false
   },
   "outputs": [],
   "source": [
    "# load sklearn package \n",
    "from sklearn.naive_bayes import GaussianNB\n",
    "from sklearn.metrics import confusion_matrix\n",
    "from sklearn import cross_validation\n",
    "from sklearn.ensemble import RandomForestClassifier"
   ]
  },
  {
   "cell_type": "code",
   "execution_count": 101,
   "metadata": {
    "collapsed": false
   },
   "outputs": [],
   "source": [
    "euw_timelines_df = [feature_calc.calc_secondary_features(x) for x in euw_timelines_df]\n",
    "na_timelines_df = [feature_calc.calc_secondary_features(x) for x in na_timelines_df]\n",
    "kr_timelines_df = [feature_calc.calc_secondary_features(x) for x in kr_timelines_df]\n",
    "low_timelines_df = [feature_calc.calc_secondary_features(x) for x in low_timelines_df]\n",
    "euw_timelines_df = feature_calc.calc_second_diff(euw_timelines_df)\n",
    "na_timelines_df = feature_calc.calc_second_diff(na_timelines_df)\n",
    "kr_timelines_df = feature_calc.calc_second_diff(kr_timelines_df)\n",
    "low_timelines_df = feature_calc.calc_second_diff(low_timelines_df)"
   ]
  },
  {
   "cell_type": "code",
   "execution_count": 114,
   "metadata": {
    "collapsed": false
   },
   "outputs": [],
   "source": [
    "champ_timelines_df = na_timelines_df\n",
    "champ_timelines_df = feature_calc.binarize_champions( champ_timelines_df )"
   ]
  },
  {
   "cell_type": "code",
   "execution_count": 8,
   "metadata": {
    "collapsed": true
   },
   "outputs": [],
   "source": [
    "important_col = ['blue_inhibs', 'blue_barons', 'drag_diff', 'first_baron', 'first_inhib',\n",
    "                 'gold_diff', 'gold_diff_diff', 'kill_diff', 'kill_diff_diff', 'red_barons',\n",
    "                 'red_inhibs', 'tower_diff']\n",
    "timeline_end = 55\n",
    "time_indices = np.arange(5, timeline_end, 5)"
   ]
  },
  {
   "cell_type": "code",
   "execution_count": 9,
   "metadata": {
    "collapsed": false
   },
   "outputs": [],
   "source": [
    "import matplotlib as mpl\n",
    "mpl.rc('font', size=20)\n",
    "mpl.rc('lines', linewidth=2)"
   ]
  },
  {
   "cell_type": "markdown",
   "metadata": {},
   "source": [
    "# Get summoner names, and list of matches\n",
    "\n",
    "Load featured games, and get a list of summoner_names"
   ]
  },
  {
   "cell_type": "code",
   "execution_count": 144,
   "metadata": {
    "collapsed": false
   },
   "outputs": [
    {
     "name": "stdout",
     "output_type": "stream",
     "text": [
      "['first_dragon' 'drag_diff' 'total_drag' 'first_baron' 'blue_barons'\n",
      " 'red_barons' 'first_tower' 'tower_diff' 'total_tower' 'first_inhib'\n",
      " 'blue_inhibs' 'red_inhibs' 'first_blood' 'gold_diff' 'kill_diff'\n",
      " 'total_kill' 'blue_share' 'red_share' 'surrender' 'square_gold_diff'\n",
      " 'gold_diff_diff' 'tower_diff_diff' 'kill_diff_diff' 'drag_diff_diff'\n",
      " 'blue_5' 'blue_6' 'blue_7' 'blue_8' 'blue_9' 'blue_10' 'blue_11' 'blue_12'\n",
      " 'blue_13' 'blue_14' 'blue_15' 'blue_16' 'blue_17' 'blue_18' 'blue_19'\n",
      " 'blue_20' 'blue_21' 'blue_22' 'blue_23' 'blue_24' 'blue_25' 'blue_26'\n",
      " 'blue_27' 'blue_28' 'blue_29' 'blue_30' 'blue_31' 'blue_32' 'blue_33'\n",
      " 'blue_34' 'blue_35' 'blue_36' 'blue_37' 'blue_38' 'blue_39' 'blue_40'\n",
      " 'blue_41' 'blue_42' 'blue_43' 'blue_44' 'blue_45' 'blue_48' 'blue_50'\n",
      " 'blue_51' 'blue_53' 'blue_54' 'blue_55' 'blue_56' 'blue_57' 'blue_58'\n",
      " 'blue_59' 'blue_60' 'blue_61' 'blue_62' 'blue_63' 'blue_64' 'blue_67'\n",
      " 'blue_68' 'blue_69' 'blue_72' 'blue_74' 'blue_75' 'blue_76' 'blue_77'\n",
      " 'blue_78' 'blue_79' 'blue_80' 'blue_81' 'blue_82' 'blue_83' 'blue_84'\n",
      " 'blue_85' 'blue_86' 'blue_89' 'blue_90' 'blue_91' 'blue_92' 'blue_96'\n",
      " 'blue_98' 'blue_99' 'blue_101' 'blue_102' 'blue_103' 'blue_104' 'blue_105'\n",
      " 'blue_106' 'blue_107' 'blue_110' 'blue_111' 'blue_112' 'blue_113'\n",
      " 'blue_114' 'blue_115' 'blue_117' 'blue_119' 'blue_120' 'blue_121'\n",
      " 'blue_122' 'blue_126' 'blue_127' 'blue_131' 'blue_133' 'blue_134'\n",
      " 'blue_143' 'blue_150' 'blue_154' 'blue_157' 'blue_161' 'blue_201'\n",
      " 'blue_203' 'blue_222' 'blue_223' 'blue_236' 'blue_238' 'blue_245'\n",
      " 'blue_254' 'blue_266' 'blue_267' 'blue_268' 'blue_412' 'blue_421'\n",
      " 'blue_429' 'blue_432' 'red_5' 'red_6' 'red_7' 'red_8' 'red_9' 'red_10'\n",
      " 'red_11' 'red_12' 'red_13' 'red_14' 'red_15' 'red_16' 'red_17' 'red_18'\n",
      " 'red_19' 'red_20' 'red_21' 'red_22' 'red_23' 'red_24' 'red_25' 'red_26'\n",
      " 'red_27' 'red_28' 'red_29' 'red_30' 'red_31' 'red_32' 'red_33' 'red_34'\n",
      " 'red_35' 'red_36' 'red_37' 'red_38' 'red_39' 'red_40' 'red_41' 'red_42'\n",
      " 'red_43' 'red_44' 'red_45' 'red_48' 'red_50' 'red_51' 'red_53' 'red_54'\n",
      " 'red_55' 'red_56' 'red_57' 'red_58' 'red_59' 'red_60' 'red_61' 'red_62'\n",
      " 'red_63' 'red_64' 'red_67' 'red_68' 'red_69' 'red_72' 'red_74' 'red_75'\n",
      " 'red_76' 'red_77' 'red_78' 'red_79' 'red_80' 'red_81' 'red_82' 'red_83'\n",
      " 'red_84' 'red_85' 'red_86' 'red_89' 'red_90' 'red_91' 'red_92' 'red_96'\n",
      " 'red_98' 'red_99' 'red_101' 'red_102' 'red_103' 'red_104' 'red_105'\n",
      " 'red_106' 'red_107' 'red_110' 'red_111' 'red_112' 'red_113' 'red_114'\n",
      " 'red_115' 'red_117' 'red_119' 'red_120' 'red_121' 'red_122' 'red_126'\n",
      " 'red_127' 'red_131' 'red_133' 'red_134' 'red_143' 'red_150' 'red_154'\n",
      " 'red_157' 'red_161' 'red_201' 'red_203' 'red_222' 'red_223' 'red_236'\n",
      " 'red_238' 'red_245' 'red_254' 'red_266' 'red_267' 'red_268' 'red_412'\n",
      " 'red_421' 'red_429' 'red_432']\n"
     ]
    }
   ],
   "source": [
    "# variables for classifiers\n",
    "#col_names = feature_calc.col_names\n",
    "col_names = test_timelines_df[0].columns\n",
    "champ_col = np.array([x for x in col_names if x not in\n",
    "             ['winner', 'game_length', 'blue_0', 'blue_1', 'blue_2', 'blue_3', 'blue_4',\n",
    "              'red_0', 'red_1', 'red_2', 'red_3', 'red_4', 'matchId', 'utctimestamp'] ])\n",
    "num_features = np.size(champ_col)\n",
    "print(champ_col, )"
   ]
  },
  {
   "cell_type": "code",
   "execution_count": 140,
   "metadata": {
    "collapsed": false
   },
   "outputs": [],
   "source": [
    "champ_forest = RandomForestClassifier(n_estimators=200, max_depth=30, min_samples_split=20,max_features='sqrt')\n",
    "def cross_validate_score(cur_df, input_col):\n",
    "    return cross_validation.cross_val_score(champ_forest, cur_df[input_col], cur_df['winner'], cv=3, n_jobs = 2)"
   ]
  },
  {
   "cell_type": "code",
   "execution_count": 141,
   "metadata": {
    "collapsed": false
   },
   "outputs": [],
   "source": [
    "champ_scores = [ cross_validate_score( x, train_col) for x in test_timelines_df]\n",
    "simple_scores = [ cross_validate_score( x, important_col) for x in test_timelines_df]"
   ]
  },
  {
   "cell_type": "code",
   "execution_count": 142,
   "metadata": {
    "collapsed": false
   },
   "outputs": [
    {
     "data": {
      "image/png": "[encoded data removed]",
      "text/plain": [
       "<matplotlib.figure.Figure at 0x124bb080>"
      ]
     },
     "metadata": {},
     "output_type": "display_data"
    }
   ],
   "source": [
    "plt.plot(time_indices, np.mean(champ_scores, 1), label = 'With champion features')\n",
    "plt.plot(time_indices, np.mean(simple_scores, 1), label = 'Without champion features')\n",
    "plt.ylim( 0.5, 1)\n",
    "plt.xlabel('Time (min)', fontsize = 18)\n",
    "plt.ylabel('Prediction accuracy', fontsize = 18)\n",
    "plt.xticks(time_indices)\n",
    "lol_plt.prettify_axes(plt.gca())\n",
    "plt.legend(frameon=False);"
   ]
  },
  {
   "cell_type": "code",
   "execution_count": 138,
   "metadata": {
    "collapsed": true
   },
   "outputs": [],
   "source": [
    "important_col = ['blue_inhibs', 'blue_barons', 'drag_diff', 'first_baron', 'first_inhib',\n",
    "                 'gold_diff', 'gold_diff_diff', 'kill_diff', 'kill_diff_diff', 'red_barons',\n",
    "                 'red_inhibs', 'tower_diff']"
   ]
  },
  {
   "cell_type": "code",
   "execution_count": 128,
   "metadata": {
    "collapsed": false
   },
   "outputs": [
    {
     "data": {
      "text/plain": [
       "[array([ 0.64305474,  0.6403119 ,  0.63041838]),\n",
       " array([ 0.71257234,  0.71395017,  0.70916869]),\n",
       " array([ 0.77282324,  0.77565673,  0.77565673]),\n",
       " array([ 0.81026573,  0.81560038,  0.81767812]),\n",
       " array([ 0.83184069,  0.82832754,  0.83517757]),\n",
       " array([ 0.83882784,  0.85062007,  0.85287486]),\n",
       " array([ 0.8218279 ,  0.83203695,  0.83296864]),\n",
       " array([ 0.76705757,  0.79626667,  0.80256137]),\n",
       " array([ 0.73488372,  0.74728682,  0.76242236]),\n",
       " array([ 0.73333333,  0.71666667,  0.78333333])]"
      ]
     },
     "execution_count": 128,
     "metadata": {},
     "output_type": "execute_result"
    }
   ],
   "source": [
    "champ_scores"
   ]
  },
  {
   "cell_type": "code",
   "execution_count": 132,
   "metadata": {
    "collapsed": false
   },
   "outputs": [
    {
     "data": {
      "text/plain": [
       "(35783, 36)"
      ]
     },
     "execution_count": 132,
     "metadata": {},
     "output_type": "execute_result"
    }
   ],
   "source": [
    "na_timelines_df[0].shape"
   ]
  },
  {
   "cell_type": "code",
   "execution_count": 134,
   "metadata": {
    "collapsed": false
   },
   "outputs": [
    {
     "data": {
      "text/plain": [
       "RandomForestClassifier(bootstrap=True, class_weight=None, criterion='gini',\n",
       "            max_depth=20, max_features='sqrt', max_leaf_nodes=None,\n",
       "            min_samples_leaf=1, min_samples_split=20,\n",
       "            min_weight_fraction_leaf=0.0, n_estimators=100, n_jobs=1,\n",
       "            oob_score=False, random_state=None, verbose=0,\n",
       "            warm_start=False)"
      ]
     },
     "execution_count": 134,
     "metadata": {},
     "output_type": "execute_result"
    }
   ],
   "source": [
    "champ_forest.fit(test_timelines_df[2][train_col], test_timelines_df[2]['winner'])"
   ]
  },
  {
   "cell_type": "code",
   "execution_count": 137,
   "metadata": {
    "collapsed": false
   },
   "outputs": [
    {
     "data": {
      "text/plain": [
       "array(['first_dragon', 'drag_diff', 'total_drag', 'first_baron',\n",
       "       'blue_barons', 'red_barons', 'first_tower', 'tower_diff',\n",
       "       'total_tower', 'first_inhib', 'blue_inhibs', 'red_inhibs',\n",
       "       'first_blood', 'gold_diff', 'kill_diff', 'total_kill', 'blue_share',\n",
       "       'red_share', 'surrender', 'square_gold_diff', 'gold_diff_diff',\n",
       "       'tower_diff_diff', 'kill_diff_diff', 'drag_diff_diff', 'blue_5',\n",
       "       'blue_6', 'blue_7', 'blue_8', 'blue_9', 'blue_10', 'blue_11',\n",
       "       'blue_12', 'blue_13', 'blue_14', 'blue_15', 'blue_16', 'blue_17',\n",
       "       'blue_18', 'blue_19', 'blue_20', 'blue_21', 'blue_22', 'blue_23',\n",
       "       'blue_24', 'blue_25', 'blue_26', 'blue_27', 'blue_28', 'blue_29',\n",
       "       'blue_30', 'blue_31', 'blue_32', 'blue_33', 'blue_34', 'blue_35',\n",
       "       'blue_36', 'blue_37', 'blue_38', 'blue_39', 'blue_40', 'blue_41',\n",
       "       'blue_42', 'blue_43', 'blue_44', 'blue_45', 'blue_48', 'blue_50',\n",
       "       'blue_51', 'blue_53', 'blue_54', 'blue_55', 'blue_56', 'blue_57',\n",
       "       'blue_58', 'blue_59', 'blue_60', 'blue_61', 'blue_62', 'blue_63',\n",
       "       'blue_64', 'blue_67', 'blue_68', 'blue_69', 'blue_72', 'blue_74',\n",
       "       'blue_75', 'blue_76', 'blue_77', 'blue_78', 'blue_79', 'blue_80',\n",
       "       'blue_81', 'blue_82', 'blue_83', 'blue_84', 'blue_85', 'blue_86',\n",
       "       'blue_89', 'blue_90', 'blue_91', 'blue_92', 'blue_96', 'blue_98',\n",
       "       'blue_99', 'blue_101', 'blue_102', 'blue_103', 'blue_104',\n",
       "       'blue_105', 'blue_106', 'blue_107', 'blue_110', 'blue_111',\n",
       "       'blue_112', 'blue_113', 'blue_114', 'blue_115', 'blue_117',\n",
       "       'blue_119', 'blue_120', 'blue_121', 'blue_122', 'blue_126',\n",
       "       'blue_127', 'blue_131', 'blue_133', 'blue_134', 'blue_143',\n",
       "       'blue_150', 'blue_154', 'blue_157', 'blue_161', 'blue_201',\n",
       "       'blue_203', 'blue_222', 'blue_223', 'blue_236', 'blue_238',\n",
       "       'blue_245', 'blue_254', 'blue_266', 'blue_267', 'blue_268',\n",
       "       'blue_412', 'blue_421', 'blue_429', 'blue_432', 'red_5', 'red_6',\n",
       "       'red_7', 'red_8', 'red_9', 'red_10', 'red_11', 'red_12', 'red_13',\n",
       "       'red_14', 'red_15', 'red_16', 'red_17', 'red_18', 'red_19',\n",
       "       'red_20', 'red_21', 'red_22', 'red_23', 'red_24', 'red_25',\n",
       "       'red_26', 'red_27', 'red_28', 'red_29', 'red_30', 'red_31',\n",
       "       'red_32', 'red_33', 'red_34', 'red_35', 'red_36', 'red_37',\n",
       "       'red_38', 'red_39', 'red_40', 'red_41', 'red_42', 'red_43',\n",
       "       'red_44', 'red_45', 'red_48', 'red_50', 'red_51', 'red_53',\n",
       "       'red_54', 'red_55', 'red_56', 'red_57', 'red_58', 'red_59',\n",
       "       'red_60', 'red_61', 'red_62', 'red_63', 'red_64', 'red_67',\n",
       "       'red_68', 'red_69', 'red_72', 'red_74', 'red_75', 'red_76',\n",
       "       'red_77', 'red_78', 'red_79', 'red_80', 'red_81', 'red_82',\n",
       "       'red_83', 'red_84', 'red_85', 'red_86', 'red_89', 'red_90',\n",
       "       'red_91', 'red_92', 'red_96', 'red_98', 'red_99', 'red_101',\n",
       "       'red_102', 'red_103', 'red_104', 'red_105', 'red_106', 'red_107',\n",
       "       'red_110', 'red_111', 'red_112', 'red_113', 'red_114', 'red_115',\n",
       "       'red_117', 'red_119', 'red_120', 'red_121', 'red_122', 'red_126',\n",
       "       'red_127', 'red_131', 'red_133', 'red_134', 'red_143', 'red_150',\n",
       "       'red_154', 'red_157', 'red_161', 'red_201', 'red_203', 'red_222',\n",
       "       'red_223', 'red_236', 'red_238', 'red_245', 'red_254', 'red_266',\n",
       "       'red_267', 'red_268', 'red_412', 'red_421', 'red_429', 'red_432'], \n",
       "      dtype='<U16')"
      ]
     },
     "execution_count": 137,
     "metadata": {},
     "output_type": "execute_result"
    }
   ],
   "source": [
    "train_col"
   ]
  },
  {
   "cell_type": "code",
   "execution_count": null,
   "metadata": {
    "collapsed": true
   },
   "outputs": [],
   "source": []
  }
 ],
 "metadata": {
  "kernelspec": {
   "display_name": "Python 3",
   "language": "python",
   "name": "python3"
  },
  "language_info": {
   "codemirror_mode": {
    "name": "ipython",
    "version": 3
   },
   "file_extension": ".py",
   "mimetype": "text/x-python",
   "name": "python",
   "nbconvert_exporter": "python",
   "pygments_lexer": "ipython3",
   "version": "3.4.3"
  }
 },
 "nbformat": 4,
 "nbformat_minor": 0
}
