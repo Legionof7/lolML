{
 "cells": [
  {
   "cell_type": "markdown",
   "metadata": {},
   "source": [
    "# To do:\n",
    "Repeatedly calculate importances"
   ]
  },
  {
   "cell_type": "markdown",
   "metadata": {},
   "source": [
    "# League of Legends Machine Learning\n",
    "\n",
    "Load libraries and API key"
   ]
  },
  {
   "cell_type": "code",
   "execution_count": 1,
   "metadata": {
    "collapsed": false
   },
   "outputs": [],
   "source": [
    "import numpy as np\n",
    "from lolML.src import API_io\n",
    "from lolML.src import feature_calc\n",
    "import importlib\n",
    "import pandas as pd\n",
    "import pickle\n",
    "import os\n",
    "import matplotlib.pyplot as plt\n",
    "import lolML.src.plotting as lol_plt\n",
    "%matplotlib inline\n",
    "import pdb"
   ]
  },
  {
   "cell_type": "code",
   "execution_count": 2,
   "metadata": {
    "collapsed": false
   },
   "outputs": [],
   "source": [
    "working_dir = 'C:\\\\Users\\\\Me\\\\Documents\\\\GitHub\\\\lolML'\n",
    "os.chdir(working_dir)\n",
    "with open(working_dir+ '\\\\api_key.txt', 'r') as api_file:\n",
    "    api_key =  api_file.read()"
   ]
  },
  {
   "cell_type": "code",
   "execution_count": 3,
   "metadata": {
    "collapsed": false
   },
   "outputs": [],
   "source": [
    "os.chdir(working_dir)\n",
    "with open('Season 2016 NA Team builder timelines_df.pickle ', 'rb') as pickle_file:\n",
    "    season_2016_dfs = pickle.load(pickle_file)"
   ]
  },
  {
   "cell_type": "code",
   "execution_count": 155,
   "metadata": {
    "collapsed": false
   },
   "outputs": [],
   "source": [
    "# load sklearn package \n",
    "from sklearn.naive_bayes import GaussianNB\n",
    "from sklearn.linear_model import LogisticRegression\n",
    "from sklearn.metrics import confusion_matrix\n",
    "from sklearn import cross_validation\n",
    "from sklearn.ensemble import RandomForestClassifier"
   ]
  },
  {
   "cell_type": "code",
   "execution_count": 5,
   "metadata": {
    "collapsed": false
   },
   "outputs": [],
   "source": [
    "season_2016_dfs = [feature_calc.calc_secondary_features(x) for x in season_2016_dfs]\n",
    "season_2016_dfs = feature_calc.calc_second_diff(season_2016_dfs)"
   ]
  },
  {
   "cell_type": "code",
   "execution_count": 26,
   "metadata": {
    "collapsed": false
   },
   "outputs": [],
   "source": [
    "import datetime, calendar\n",
    "start_date = datetime.datetime.strptime('2016-02-14', '%Y-%M-%d')\n",
    "start_utc = calendar.timegm(start_date.timetuple()) * 1000"
   ]
  },
  {
   "cell_type": "code",
   "execution_count": 27,
   "metadata": {
    "collapsed": false
   },
   "outputs": [],
   "source": [
    "patch63_dfs = [x.query('version == \"6.3\" and utctimestamp > @start_utc') for x in season_2016_dfs]\n",
    "patch62_dfs = [x.query('version != \"6.3\"') for x in season_2016_dfs]"
   ]
  },
  {
   "cell_type": "code",
   "execution_count": 30,
   "metadata": {
    "collapsed": false
   },
   "outputs": [
    {
     "data": {
      "text/plain": [
       "(23165, 38)"
      ]
     },
     "execution_count": 30,
     "metadata": {},
     "output_type": "execute_result"
    }
   ],
   "source": [
    "patch62_dfs[0].shape"
   ]
  },
  {
   "cell_type": "code",
   "execution_count": 31,
   "metadata": {
    "collapsed": true
   },
   "outputs": [],
   "source": [
    "important_col = ['blue_inhibs', 'blue_barons', 'drag_diff', 'first_baron', 'first_inhib',\n",
    "                 'gold_diff', 'gold_diff_diff', 'kill_diff', 'kill_diff_diff', 'red_barons',\n",
    "                 'red_inhibs', 'tower_diff']\n",
    "timeline_end = 55\n",
    "time_indices = np.arange(5, timeline_end, 5)"
   ]
  },
  {
   "cell_type": "code",
   "execution_count": 32,
   "metadata": {
    "collapsed": false
   },
   "outputs": [],
   "source": [
    "import matplotlib as mpl\n",
    "mpl.rc('font', size=20)\n",
    "mpl.rc('lines', linewidth=2)"
   ]
  },
  {
   "cell_type": "markdown",
   "metadata": {},
   "source": [
    "## Get estimate of dragon importance from random forests"
   ]
  },
  {
   "cell_type": "code",
   "execution_count": 123,
   "metadata": {
    "collapsed": false
   },
   "outputs": [],
   "source": [
    "dragon_forest = RandomForestClassifier(n_estimators=100, max_depth=10, min_samples_leaf=20,\n",
    "                                       min_samples_split = 100, max_features='sqrt', n_jobs =-1)\n",
    "def get_rf_importances(cur_df, input_col):\n",
    "    n_samples = 2000\n",
    "    cur_sample = cur_df.sample( min(cur_df.shape[0], n_samples) ) \n",
    "    dragon_forest.fit(cur_sample[input_col], cur_sample['winner'])\n",
    "    #pdb.set_trace()\n",
    "    return dragon_forest.feature_importances_"
   ]
  },
  {
   "cell_type": "code",
   "execution_count": 126,
   "metadata": {
    "collapsed": false
   },
   "outputs": [],
   "source": [
    "def bootstrap_rf_importances(timeline_dfs, important_col, num_boots):\n",
    "    importances = np.zeros([num_boots, 10,12]) # 3D array of boots, time, and column\n",
    "    for i in range(num_boots):\n",
    "        importances[i,:] = list(map( lambda x: get_rf_importances( x, important_col), timeline_dfs ))\n",
    "    return importances"
   ]
  },
  {
   "cell_type": "code",
   "execution_count": 127,
   "metadata": {
    "collapsed": false
   },
   "outputs": [],
   "source": [
    "num_boots = 20\n",
    "patch62_importances = bootstrap_rf_importances(patch62_dfs, important_col, num_boots)\n",
    "patch63_importances = bootstrap_rf_importances(patch63_dfs, important_col, num_boots)"
   ]
  },
  {
   "cell_type": "code",
   "execution_count": 128,
   "metadata": {
    "collapsed": false
   },
   "outputs": [],
   "source": [
    "patch62_means = np.mean(patch62_importances[:,3, :], axis=0)\n",
    "patch63_means = np.mean(patch63_importances[:,3, :], axis=0)\n",
    "patch62_stes = np.std(patch62_importances[:,3, :], axis=0) / np.sqrt(num_boots)\n",
    "patch63_stes = np.std(patch63_importances[:,3, :], axis=0) / np.sqrt(num_boots)"
   ]
  },
  {
   "cell_type": "code",
   "execution_count": 129,
   "metadata": {
    "collapsed": false
   },
   "outputs": [],
   "source": [
    "patch62_dragon_means = np.mean(patch62_importances[:, :, 2], axis = 0)\n",
    "patch63_dragon_means = np.mean(patch63_importances[:, :, 2], axis = 0)\n",
    "patch62_dragon_stes = np.std(patch62_importances[:, :, 2], axis = 0) / np.sqrt(num_boots)\n",
    "patch63_dragon_stes = np.std(patch63_importances[:, :, 2], axis = 0) / np.sqrt(num_boots)"
   ]
  },
  {
   "cell_type": "code",
   "execution_count": 130,
   "metadata": {
    "collapsed": false
   },
   "outputs": [
    {
     "data": {
      "image/png": "[encoded data removed]",
      "text/plain": [
       "<matplotlib.figure.Figure at 0xf7a6ac8>"
      ]
     },
     "metadata": {},
     "output_type": "display_data"
    }
   ],
   "source": [
    "plt.errorbar(time_indices, patch62_dragon_means, patch62_dragon_stes, label = 'Pre patch 6.3')\n",
    "plt.errorbar(time_indices, patch63_dragon_means, patch63_dragon_stes, label = 'Patch 6.3')\n",
    "plt.ylim( 0, 0.11)\n",
    "plt.xlabel('Time (min)', fontsize = 18)\n",
    "plt.ylabel('Prediction accuracy', fontsize = 18)\n",
    "plt.xticks(time_indices)\n",
    "lol_plt.prettify_axes(plt.gca())\n",
    "plt.legend(frameon=False);"
   ]
  },
  {
   "cell_type": "markdown",
   "metadata": {
    "collapsed": true
   },
   "source": [
    "## Dragon importance using Naive Bayes"
   ]
  },
  {
   "cell_type": "code",
   "execution_count": 142,
   "metadata": {
    "collapsed": true
   },
   "outputs": [],
   "source": [
    "dragon_bayes = GaussianNB()\n",
    "def get_NB_prediction(cur_df, col_name):\n",
    "    num_samples = 2000\n",
    "    cur_sample = cur_df.sample( min(cur_df.shape[0], num_samples) ) \n",
    "    oob_sample = cur_df.sample( min(cur_df.shape[0], num_samples) ) \n",
    "    dragon_bayes.fit(cur_sample[col_name].reshape(-1,1), cur_sample['winner'])\n",
    "    return dragon_bayes.score(oob_sample[col_name].reshape(-1,1), oob_sample['winner'])"
   ]
  },
  {
   "cell_type": "code",
   "execution_count": 140,
   "metadata": {
    "collapsed": true
   },
   "outputs": [],
   "source": [
    "def bootstrap_NB_scores(timeline_dfs, col_name, num_boots):\n",
    "    scores = np.zeros([num_boots, 10]) # 3D array of boots, time, and column\n",
    "    for i in range(num_boots):\n",
    "        scores[i,:] = list(map( lambda x: get_NB_prediction( x, col_name), patch63_dfs ))\n",
    "    return scores"
   ]
  },
  {
   "cell_type": "code",
   "execution_count": 138,
   "metadata": {
    "collapsed": false
   },
   "outputs": [
    {
     "data": {
      "text/plain": [
       "0.60050000000000003"
      ]
     },
     "execution_count": 138,
     "metadata": {},
     "output_type": "execute_result"
    }
   ],
   "source": [
    "get_NB_prediction(patch62_dfs[2], 'drag_diff')"
   ]
  },
  {
   "cell_type": "code",
   "execution_count": 143,
   "metadata": {
    "collapsed": false
   },
   "outputs": [],
   "source": [
    "NB_boots = 20\n",
    "patch62_NB_scores = bootstrap_NB_scores(patch62_dfs, 'drag_diff', NB_boots )\n",
    "patch63_NB_scores = bootstrap_NB_scores(patch63_dfs, 'drag_diff', NB_boots )"
   ]
  },
  {
   "cell_type": "code",
   "execution_count": 150,
   "metadata": {
    "collapsed": true
   },
   "outputs": [],
   "source": [
    "patch62_NB_means = np.mean(patch62_NB_scores, axis = 0)\n",
    "patch63_NB_means = np.mean(patch63_NB_scores, axis = 0)\n",
    "patch62_NB_stes = np.std(patch62_NB_scores) / np.sqrt(num_boots)\n",
    "patch63_NB_stes = np.std(patch63_NB_scores) / np.sqrt(num_boots)"
   ]
  },
  {
   "cell_type": "code",
   "execution_count": 154,
   "metadata": {
    "collapsed": false
   },
   "outputs": [
    {
     "data": {
      "image/png": "[encoded data removed]",
      "text/plain": [
       "<matplotlib.figure.Figure at 0xb6b0c50>"
      ]
     },
     "metadata": {},
     "output_type": "display_data"
    }
   ],
   "source": [
    "plt.errorbar(time_indices, patch62_NB_means, patch62_NB_stes, label = 'Pre patch 6.3')\n",
    "plt.errorbar(time_indices, patch63_NB_means, patch63_NB_stes, label = 'Patch 6.3')\n",
    "#plt.ylim( 0, 0.11)\n",
    "plt.xlabel('Time (min)', fontsize = 18)\n",
    "plt.ylabel('Prediction accuracy', fontsize = 18)\n",
    "plt.xticks(time_indices)\n",
    "lol_plt.prettify_axes(plt.gca())\n",
    "plt.legend(frameon=False, fontsize = 16);"
   ]
  },
  {
   "cell_type": "markdown",
   "metadata": {},
   "source": [
    "## Dragon importance using logistic regression  log odds ratios"
   ]
  },
  {
   "cell_type": "code",
   "execution_count": 156,
   "metadata": {
    "collapsed": true
   },
   "outputs": [],
   "source": [
    "dragon_lr = LogisticRegression( n_jobs = -1)\n",
    "def get_LR_prediction(cur_df, col_name):\n",
    "    num_samples = 2000\n",
    "    cur_sample = cur_df.sample( min(cur_df.shape[0], num_samples) ) \n",
    "    oob_sample = cur_df.sample( min(cur_df.shape[0], num_samples) ) \n",
    "    dragon_lr.fit(cur_sample[col_name].reshape(-1,1), cur_sample['winner'])\n",
    "    return dragon_lr.score(oob_sample[col_name].reshape(-1,1), oob_sample['winner'])"
   ]
  },
  {
   "cell_type": "code",
   "execution_count": 158,
   "metadata": {
    "collapsed": false
   },
   "outputs": [
    {
     "data": {
      "text/plain": [
       "LogisticRegression(C=1.0, class_weight=None, dual=False, fit_intercept=True,\n",
       "          intercept_scaling=1, max_iter=100, multi_class='ovr', n_jobs=-1,\n",
       "          penalty='l2', random_state=None, solver='liblinear', tol=0.0001,\n",
       "          verbose=0, warm_start=False)"
      ]
     },
     "execution_count": 158,
     "metadata": {},
     "output_type": "execute_result"
    }
   ],
   "source": [
    "dragon_lr.fit(patch62_dfs[0]['drag_diff'].reshape(-1,1), patch62_dfs[0]['winner'])"
   ]
  },
  {
   "cell_type": "code",
   "execution_count": 167,
   "metadata": {
    "collapsed": false
   },
   "outputs": [],
   "source": [
    "import math\n",
    "coef = dragon_lr.coef_[0][0]\n",
    "intercept = dragon_lr.intercept_[0]"
   ]
  },
  {
   "cell_type": "code",
   "execution_count": 170,
   "metadata": {
    "collapsed": false
   },
   "outputs": [],
   "source": [
    "from scipy.stats import logistic"
   ]
  },
  {
   "cell_type": "code",
   "execution_count": 173,
   "metadata": {
    "collapsed": false
   },
   "outputs": [
    {
     "data": {
      "text/plain": [
       "0.34430744446443762"
      ]
     },
     "execution_count": 173,
     "metadata": {},
     "output_type": "execute_result"
    }
   ],
   "source": [
    "logistic.cdf( coef + intercept )"
   ]
  },
  {
   "cell_type": "code",
   "execution_count": null,
   "metadata": {
    "collapsed": true
   },
   "outputs": [],
   "source": []
  }
 ],
 "metadata": {
  "kernelspec": {
   "display_name": "Python 3",
   "language": "python",
   "name": "python3"
  },
  "language_info": {
   "codemirror_mode": {
    "name": "ipython",
    "version": 3
   },
   "file_extension": ".py",
   "mimetype": "text/x-python",
   "name": "python",
   "nbconvert_exporter": "python",
   "pygments_lexer": "ipython3",
   "version": "3.4.4"
  }
 },
 "nbformat": 4,
 "nbformat_minor": 0
}
