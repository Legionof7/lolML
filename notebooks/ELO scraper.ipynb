{
 "cells": [
  {
   "cell_type": "markdown",
   "metadata": {},
   "source": [
    "# Notebook for scraping players at different ELOs\n",
    "\n",
    "This notebook outlines how to scrape high level games from different regions. It is broken into 3 parts:\n",
    "1. Querying RIOT for information about summoners, and getting a list of interesting matches.\n",
    "2. Querying RIOT for the information about those matches.\n",
    "3. Saving (and potentially loading) those matches.\n",
    "\n",
    "Load libraries"
   ]
  },
  {
   "cell_type": "code",
   "execution_count": 1,
   "metadata": {
    "collapsed": false
   },
   "outputs": [],
   "source": [
    "import requests, json\n",
    "import numpy as np\n",
    "from lolML.src import API_io\n",
    "import importlib\n",
    "import pandas as pd\n",
    "import time\n",
    "from lolML.src import feature_calc\n",
    "import pdb"
   ]
  },
  {
   "cell_type": "code",
   "execution_count": 2,
   "metadata": {
    "collapsed": true
   },
   "outputs": [],
   "source": [
    "working_dir = 'C:\\\\Users\\\\palmiteradmin\\\\Documents\\\\GitHub\\\\lolML'\n",
    "with open(working_dir+ '\\\\api_key.txt', 'r') as api_file:\n",
    "    api_key =  api_file.read()"
   ]
  },
  {
   "cell_type": "markdown",
   "metadata": {},
   "source": [
    "## Get a list of low level matches\n",
    "\n",
    "Set the region. Get Kaceytron's match history. (Note, I need to start with a Bronze V user, so I use Kaceytron as she is a famous streamer and is in Bronze V. I think she's hilarious.)"
   ]
  },
  {
   "cell_type": "code",
   "execution_count": 35,
   "metadata": {
    "collapsed": false
   },
   "outputs": [],
   "source": [
    "region_key = 'na'\n",
    "match_requests_params = API_io.make_RIOT_request_params(api_key, 'solo', 2015)\n",
    "BronzeV_ID = API_io.get_summoner_ids_from_names('Kaceytron', api_key, region_key) [0]\n",
    "BronzeV_url = API_io.make_matchhistory_url(BronzeV_ID, region_key)\n",
    "BronzeV_match_history = requests.get(BronzeV_url, match_requests_params).json()"
   ]
  },
  {
   "cell_type": "markdown",
   "metadata": {},
   "source": [
    "Extract the match ID from the match history JSON"
   ]
  },
  {
   "cell_type": "code",
   "execution_count": 12,
   "metadata": {
    "collapsed": false
   },
   "outputs": [
    {
     "data": {
      "text/plain": [
       "(394,)"
      ]
     },
     "execution_count": 12,
     "metadata": {},
     "output_type": "execute_result"
    }
   ],
   "source": [
    "match_IDs = np.unique([x['matchId'] for x in BronzeV_match_history['matches'] ])\n",
    "match_IDs.shape"
   ]
  },
  {
   "cell_type": "markdown",
   "metadata": {},
   "source": [
    "Load a bunch of matches to get more summonerIDs"
   ]
  },
  {
   "cell_type": "code",
   "execution_count": 13,
   "metadata": {
    "collapsed": false
   },
   "outputs": [
    {
     "data": {
      "text/plain": [
       "['https://na.api.pvp.net/api/lol/na/v2.2/match/1705169301',\n",
       " 'https://na.api.pvp.net/api/lol/na/v2.2/match/1705197279']"
      ]
     },
     "execution_count": 13,
     "metadata": {},
     "output_type": "execute_result"
    }
   ],
   "source": [
    "match_info_params = API_io.make_RIOT_request_params(api_key, timeline_flag=False)\n",
    "match_urls = [API_io.make_match_info_url(x, region_key) for x in match_IDs] # True flag means we get the timeline\n",
    "match_urls[:2]"
   ]
  },
  {
   "cell_type": "markdown",
   "metadata": {},
   "source": [
    "Loop through the matches, and get the summoner IDs of more players"
   ]
  },
  {
   "cell_type": "code",
   "execution_count": 14,
   "metadata": {
    "collapsed": false,
    "scrolled": false
   },
   "outputs": [],
   "source": [
    "def get_summonerIds_from_match(cur_match):\n",
    "    return [x['player']['summonerId'] for x in cur_match['participantIdentities']]"
   ]
  },
  {
   "cell_type": "markdown",
   "metadata": {},
   "source": [
    "## Get high ELO scraper"
   ]
  },
  {
   "cell_type": "code",
   "execution_count": 32,
   "metadata": {
    "collapsed": false
   },
   "outputs": [],
   "source": [
    "region_key = 'na'\n",
    "def get_master_challenger_Ids(api_key, region_key, queue= 'solo'):\n",
    "    api_dict = {'api_key': api_key}\n",
    "    if queue == 'solo':\n",
    "        api_dict['type'] = 'RANKED_SOLO_5x5'\n",
    "    else:\n",
    "        api_dict['type'] = 'RANKED_TEAM_5x5'\n",
    "    base_url = 'https://{0}.api.pvp.net/api/lol/{0}/v2.5/league/{1}'\n",
    "    challenger_url = base_url.format(region_key, 'challenger')\n",
    "    challenger_json = requests.get(challenger_url, params = api_dict).json()\n",
    "    \n",
    "    challenger_ids = [ x['playerOrTeamId'] for x in challenger_json['entries']]\n",
    "    \n",
    "    \n",
    "    maser_url = base_url.format(region_key, 'master')\n",
    "    maser_json = requests.get(challenger_url, params = api_dict).json()\n",
    "    \n",
    "    master_ids = [ x['playerOrTeamId'] for x in maser_json['entries']]\n",
    "    challenger_ids.extend(master_ids)\n",
    "    return challenger_ids\n",
    "high_elo_IDs = get_master_challenger_Ids(api_key, region_key)"
   ]
  },
  {
   "cell_type": "code",
   "execution_count": 37,
   "metadata": {
    "collapsed": false
   },
   "outputs": [
    {
     "data": {
      "text/plain": [
       "\"https://na.api.pvp.net/api/lol/na/v2.2/matchlist/by-summoner/['21014987', '21332616', '54953447', '39630512', '21367804', '25104341', '36450379', '26082266', '35301382', '21490433', '23162732', '36119978', '57029178', '20082683', '34925733', '31209421', '20704242', '37910602', '22058902', '35221469', '47836799', '26844580', '49300317', '21428926', '19787999', '19873955', '47371195', '22991783', '51585316', '30255016', '40984753', '170340', '22416752', '50169258', '60939398', '26851284', '21747804', '44979352', '21124626', '22507642', '69719185', '23479635', '47706407', '37876161', '25935242', '20971952', '23534118', '19577112', '33110307', '36911333', '581716', '20408688', '345223', '89197', '28609701', '22300476', '44989362', '22140119', '20389591', '19912360', '20726321', '19061980', '25479108', '57539163', '60004918', '19969614', '71715', '2648', '37481045', '59685', '22946930', '35590582', '446965', '68499446', '26530897', '68212693', '49159160', '34287847', '138243', '65389094', '26492102', '19088327', '69709179', '22076548', '29248275', '30266347', '39909593', '32002853', '24803075', '349795', '32604173', '21608827', '24494578', '22216718', '20131827', '27470522', '23855467', '19202854', '24777351', '25738593', '65809586', '20001980', '68479260', '47594464', '44979324', '4297', '24332462', '43146839', '292926', '1496', '23047261', '23487274', '31804754', '38857618', '19470447', '25786675', '32500610', '20901439', '39040566', '66052640', '20112175', '21366420', '68469188', '30871780', '32932398', '42762376', '34243185', '34687275', '24889598', '65399100', '532825', '22478427', '21193669', '37838557', '22059766', '7250', '19855198', '21328590', '54888638', '29820724', '26314816', '56827915', '19770082', '32239609', '71376', '51589239', '25295387', '390600', '294827', '18991200', '51802872', '26676087', '47008091', '65989131', '28661557', '60729817', '21623482', '19967304', '19887289', '19648146', '22949200', '51405', '307822', '31670053', '61542283', '22724185', '20533841', '20441329', '74673', '56397325', '22951043', '23888144', '62000829', '20833616', '19732914', '24671130', '66401633', '25888946', '21084089', '19209176', '31014009', '44979338', '20823651', '58060767', '37542769', '27519370', '21238911', '68401488', '20962682', '40999945', '32016710', '20072604', '39724091', '65409096', '47727314', '27794083', '22325691', '21786647', '5908', '19063356', '21014987', '21332616', '54953447', '39630512', '21367804', '25104341', '36450379', '26082266', '35301382', '21490433', '23162732', '36119978', '57029178', '20082683', '34925733', '31209421', '20704242', '37910602', '22058902', '35221469', '47836799', '26844580', '49300317', '21428926', '19787999', '19873955', '47371195', '22991783', '51585316', '30255016', '40984753', '170340', '22416752', '50169258', '60939398', '26851284', '21747804', '44979352', '21124626', '22507642', '69719185', '23479635', '47706407', '37876161', '25935242', '20971952', '23534118', '19577112', '33110307', '36911333', '581716', '20408688', '345223', '89197', '28609701', '22300476', '44989362', '22140119', '20389591', '19912360', '20726321', '19061980', '25479108', '57539163', '60004918', '19969614', '71715', '2648', '37481045', '59685', '22946930', '35590582', '446965', '68499446', '26530897', '68212693', '49159160', '34287847', '138243', '65389094', '26492102', '19088327', '69709179', '22076548', '29248275', '30266347', '39909593', '32002853', '24803075', '349795', '32604173', '21608827', '24494578', '22216718', '20131827', '27470522', '23855467', '19202854', '24777351', '25738593', '65809586', '20001980', '68479260', '47594464', '44979324', '4297', '24332462', '43146839', '292926', '1496', '23047261', '23487274', '31804754', '38857618', '19470447', '25786675', '32500610', '20901439', '39040566', '66052640', '20112175', '21366420', '68469188', '30871780', '32932398', '42762376', '34243185', '34687275', '24889598', '65399100', '532825', '22478427', '21193669', '37838557', '22059766', '7250', '19855198', '21328590', '54888638', '29820724', '26314816', '56827915', '19770082', '32239609', '71376', '51589239', '25295387', '390600', '294827', '18991200', '51802872', '26676087', '47008091', '65989131', '28661557', '60729817', '21623482', '19967304', '19887289', '19648146', '22949200', '51405', '307822', '31670053', '61542283', '22724185', '20533841', '20441329', '74673', '56397325', '22951043', '23888144', '62000829', '20833616', '19732914', '24671130', '66401633', '25888946', '21084089', '19209176', '31014009', '44979338', '20823651', '58060767', '37542769', '27519370', '21238911', '68401488', '20962682', '40999945', '32016710', '20072604', '39724091', '65409096', '47727314', '27794083', '22325691', '21786647', '5908', '19063356']\""
      ]
     },
     "execution_count": 37,
     "metadata": {},
     "output_type": "execute_result"
    }
   ],
   "source": [
    "high_url = API_io.make_matchhistory_url(high_elo_IDs, region_key)"
   ]
  },
  {
   "cell_type": "markdown",
   "metadata": {},
   "source": [
    "### Query for the games"
   ]
  },
  {
   "cell_type": "code",
   "execution_count": 15,
   "metadata": {
    "collapsed": false
   },
   "outputs": [],
   "source": [
    "num_matches = 100\n",
    "summoner_IDs = np.zeros([num_matches, 10]) # 10 players / match\n",
    "match_range = np.arange(num_matches)\n",
    "# this is the worst code EVER\n",
    "for match_index, cur_match in enumerate(match_range):\n",
    "    try:\n",
    "        match_info = requests.get(match_urls[cur_match], match_info_params).json()\n",
    "        summoner_IDs[match_index] = get_summonerIds_from_match(match_info)\n",
    "    except requests.exceptions.HTTPError as err:\n",
    "        print('HHTPError in game ' + str(match_IDs[cur_match]))\n",
    "    except:\n",
    "        import sys\n",
    "        err = sys.exc_info()[0]\n",
    "        print('Error: ' + str(err) + ' in game ' + str(match_IDs[cur_match]))\n",
    "    time.sleep(1.2) # RIOT API is throttled to ~0.83 requests / second"
   ]
  },
  {
   "cell_type": "code",
   "execution_count": 16,
   "metadata": {
    "collapsed": false
   },
   "outputs": [],
   "source": [
    "summoner_IDs = np.unique(summoner_IDs.ravel())\n",
    "summoner_IDs = summoner_IDs.astype(int)\n",
    "summoner_IDs = summoner_IDs[1:]"
   ]
  },
  {
   "cell_type": "markdown",
   "metadata": {},
   "source": [
    "Now that we have a bunch of IDs, get all their match histories"
   ]
  },
  {
   "cell_type": "code",
   "execution_count": 17,
   "metadata": {
    "collapsed": true
   },
   "outputs": [],
   "source": [
    "match_requests_params = API_io.make_RIOT_request_params(api_key, True, True)\n",
    "summoner_match_history_urls = [API_io.make_matchhistory_url(x, region_key =region_key) for x in summoner_IDs]"
   ]
  },
  {
   "cell_type": "code",
   "execution_count": 18,
   "metadata": {
    "collapsed": false
   },
   "outputs": [],
   "source": [
    "match_histories = [API_io.get_limited_request(x, match_requests_params) for x in summoner_match_history_urls[:100] ]"
   ]
  },
  {
   "cell_type": "code",
   "execution_count": 19,
   "metadata": {
    "collapsed": false
   },
   "outputs": [
    {
     "data": {
      "text/plain": [
       "(36585,)"
      ]
     },
     "execution_count": 19,
     "metadata": {},
     "output_type": "execute_result"
    }
   ],
   "source": [
    "match_IDs = API_io.parse_match_json_for_matchIDs(match_histories, region_key)\n",
    "pd.Series(match_IDs).to_csv(region_key + ' Match IDs.csv')\n",
    "match_IDs.shape"
   ]
  },
  {
   "cell_type": "code",
   "execution_count": 20,
   "metadata": {
    "collapsed": false
   },
   "outputs": [
    {
     "data": {
      "text/plain": [
       "['https://na.api.pvp.net/api/lol/na/v2.2/match/1704155497',\n",
       " 'https://na.api.pvp.net/api/lol/na/v2.2/match/1704155828']"
      ]
     },
     "execution_count": 20,
     "metadata": {},
     "output_type": "execute_result"
    }
   ],
   "source": [
    "match_info_params = API_io.make_RIOT_request_params(api_key, timeline_flag=True)\n",
    "match_urls = [API_io.make_match_info_url(x, region_key) for x in match_IDs] # True flag means we get the timeline\n",
    "match_urls[:2]"
   ]
  },
  {
   "cell_type": "markdown",
   "metadata": {},
   "source": [
    "## Query RIOT for match information\n",
    "Determine number of matches to query. Set up the dataframes for querying"
   ]
  },
  {
   "cell_type": "code",
   "execution_count": 146,
   "metadata": {
    "collapsed": false
   },
   "outputs": [],
   "source": [
    "match_range = np.arange(30000, 36584)\n",
    "col_names = feature_calc.col_names\n",
    "timeline_end = 55\n",
    "time_indices = np.arange(5, timeline_end, 5)\n",
    "timelines_df = [ pd.DataFrame(index = match_range, columns= col_names) for x in time_indices]"
   ]
  },
  {
   "cell_type": "markdown",
   "metadata": {},
   "source": [
    "Actually run the queries"
   ]
  },
  {
   "cell_type": "code",
   "execution_count": 147,
   "metadata": {
    "collapsed": false
   },
   "outputs": [
    {
     "name": "stdout",
     "output_type": "stream",
     "text": [
      "Error: <class 'ValueError'> in game 1947796173\n",
      "Error: <class 'ValueError'> in game 1951601164\n",
      "Error: <class 'ValueError'> in game 1952839830\n",
      "Error: <class 'ValueError'> in game 1952882663\n",
      "Error: <class 'ValueError'> in game 1952883019\n",
      "Error: <class 'ValueError'> in game 1952892495\n",
      "Error: <class 'ValueError'> in game 1952895417\n",
      "Error: <class 'ValueError'> in game 1952896586\n",
      "Error: <class 'ValueError'> in game 1952914752\n",
      "Error: <class 'ValueError'> in game 1952924543\n",
      "Error: <class 'ValueError'> in game 1952948771\n",
      "Error: <class 'ValueError'> in game 1952973336\n",
      "Error: <class 'ValueError'> in game 1955406467\n",
      "Error: <class 'ValueError'> in game 1967279693\n",
      "Error: <class 'ValueError'> in game 1970924734\n",
      "Error: <class 'ValueError'> in game 1976844363\n",
      "Error: <class 'ValueError'> in game 1979354612\n",
      "Error: <class 'ValueError'> in game 1989104279\n",
      "Error: <class 'ValueError'> in game 1989104520\n",
      "Error: <class 'ValueError'> in game 1989176301\n",
      "Error: <class 'ValueError'> in game 1989178948\n",
      "Error: <class 'ValueError'> in game 1989210772\n",
      "Error: <class 'ValueError'> in game 1989216762\n",
      "Error: <class 'ValueError'> in game 1989447329\n",
      "Error: <class 'ValueError'> in game 1989447841\n",
      "Error: <class 'ValueError'> in game 1989457514\n",
      "Error: <class 'ValueError'> in game 1989475995\n"
     ]
    }
   ],
   "source": [
    "# this is the worst code EVER\n",
    "for match_index, cur_match in enumerate(match_range):\n",
    "    try:\n",
    "        match_info = requests.get(match_urls[cur_match], match_info_params).json()\n",
    "        for time_index, last_min in enumerate(time_indices):\n",
    "            try:\n",
    "                timelines_df[time_index].loc[match_index] = feature_calc.calc_features_single_match(match_info, last_min)\n",
    "            except:\n",
    "                continue\n",
    "    except requests.exceptions.HTTPError as err:\n",
    "        print('HHTPError in game ' + str(match_IDs[cur_match]))\n",
    "    except:\n",
    "        import sys\n",
    "        err = sys.exc_info()[0]\n",
    "        print('Error: ' + str(err) + ' in game ' + str(match_IDs[cur_match]))\n",
    "    time.sleep(1.25) # RIOT API is throttled to ~0.83 requests / second"
   ]
  },
  {
   "cell_type": "code",
   "execution_count": 150,
   "metadata": {
    "collapsed": false
   },
   "outputs": [
    {
     "ename": "KeyError",
     "evalue": "'matchId'",
     "output_type": "error",
     "traceback": [
      "\u001b[1;31m---------------------------------------------------------------------------\u001b[0m",
      "\u001b[1;31mKeyError\u001b[0m                                  Traceback (most recent call last)",
      "\u001b[1;32m<ipython-input-150-06f72e057bbe>\u001b[0m in \u001b[0;36m<module>\u001b[1;34m()\u001b[0m\n\u001b[0;32m      1\u001b[0m \u001b[0mtimelines_df\u001b[0m \u001b[1;33m=\u001b[0m \u001b[1;33m[\u001b[0m\u001b[0mx\u001b[0m\u001b[1;33m.\u001b[0m\u001b[0mdropna\u001b[0m\u001b[1;33m(\u001b[0m\u001b[1;33m)\u001b[0m \u001b[1;32mfor\u001b[0m \u001b[0mx\u001b[0m \u001b[1;32min\u001b[0m \u001b[0mtimelines_df\u001b[0m\u001b[1;33m]\u001b[0m\u001b[1;33m\u001b[0m\u001b[0m\n\u001b[0;32m      2\u001b[0m \u001b[0mtimelines_df\u001b[0m \u001b[1;33m=\u001b[0m \u001b[1;33m[\u001b[0m\u001b[0mfeature_calc\u001b[0m\u001b[1;33m.\u001b[0m\u001b[0mretype_columns\u001b[0m\u001b[1;33m(\u001b[0m\u001b[0mx\u001b[0m\u001b[1;33m)\u001b[0m \u001b[1;32mfor\u001b[0m \u001b[0mx\u001b[0m \u001b[1;32min\u001b[0m \u001b[0mtimelines_df\u001b[0m \u001b[1;33m]\u001b[0m\u001b[1;33m\u001b[0m\u001b[0m\n\u001b[1;32m----> 3\u001b[1;33m \u001b[0mtimelines_df\u001b[0m \u001b[1;33m=\u001b[0m \u001b[1;33m[\u001b[0m\u001b[0mx\u001b[0m\u001b[1;33m.\u001b[0m\u001b[0mset_index\u001b[0m\u001b[1;33m(\u001b[0m\u001b[1;34m'matchId'\u001b[0m\u001b[1;33m)\u001b[0m \u001b[1;32mfor\u001b[0m \u001b[0mx\u001b[0m \u001b[1;32min\u001b[0m \u001b[0mtimelines_df\u001b[0m \u001b[1;33m]\u001b[0m\u001b[1;33m\u001b[0m\u001b[0m\n\u001b[0m",
      "\u001b[1;32m<ipython-input-150-06f72e057bbe>\u001b[0m in \u001b[0;36m<listcomp>\u001b[1;34m(.0)\u001b[0m\n\u001b[0;32m      1\u001b[0m \u001b[0mtimelines_df\u001b[0m \u001b[1;33m=\u001b[0m \u001b[1;33m[\u001b[0m\u001b[0mx\u001b[0m\u001b[1;33m.\u001b[0m\u001b[0mdropna\u001b[0m\u001b[1;33m(\u001b[0m\u001b[1;33m)\u001b[0m \u001b[1;32mfor\u001b[0m \u001b[0mx\u001b[0m \u001b[1;32min\u001b[0m \u001b[0mtimelines_df\u001b[0m\u001b[1;33m]\u001b[0m\u001b[1;33m\u001b[0m\u001b[0m\n\u001b[0;32m      2\u001b[0m \u001b[0mtimelines_df\u001b[0m \u001b[1;33m=\u001b[0m \u001b[1;33m[\u001b[0m\u001b[0mfeature_calc\u001b[0m\u001b[1;33m.\u001b[0m\u001b[0mretype_columns\u001b[0m\u001b[1;33m(\u001b[0m\u001b[0mx\u001b[0m\u001b[1;33m)\u001b[0m \u001b[1;32mfor\u001b[0m \u001b[0mx\u001b[0m \u001b[1;32min\u001b[0m \u001b[0mtimelines_df\u001b[0m \u001b[1;33m]\u001b[0m\u001b[1;33m\u001b[0m\u001b[0m\n\u001b[1;32m----> 3\u001b[1;33m \u001b[0mtimelines_df\u001b[0m \u001b[1;33m=\u001b[0m \u001b[1;33m[\u001b[0m\u001b[0mx\u001b[0m\u001b[1;33m.\u001b[0m\u001b[0mset_index\u001b[0m\u001b[1;33m(\u001b[0m\u001b[1;34m'matchId'\u001b[0m\u001b[1;33m)\u001b[0m \u001b[1;32mfor\u001b[0m \u001b[0mx\u001b[0m \u001b[1;32min\u001b[0m \u001b[0mtimelines_df\u001b[0m \u001b[1;33m]\u001b[0m\u001b[1;33m\u001b[0m\u001b[0m\n\u001b[0m",
      "\u001b[1;32mC:\\Anaconda3\\lib\\site-packages\\pandas\\core\\frame.py\u001b[0m in \u001b[0;36mset_index\u001b[1;34m(self, keys, drop, append, inplace, verify_integrity)\u001b[0m\n\u001b[0;32m   2605\u001b[0m                 \u001b[0mnames\u001b[0m\u001b[1;33m.\u001b[0m\u001b[0mappend\u001b[0m\u001b[1;33m(\u001b[0m\u001b[1;32mNone\u001b[0m\u001b[1;33m)\u001b[0m\u001b[1;33m\u001b[0m\u001b[0m\n\u001b[0;32m   2606\u001b[0m             \u001b[1;32melse\u001b[0m\u001b[1;33m:\u001b[0m\u001b[1;33m\u001b[0m\u001b[0m\n\u001b[1;32m-> 2607\u001b[1;33m                 \u001b[0mlevel\u001b[0m \u001b[1;33m=\u001b[0m \u001b[0mframe\u001b[0m\u001b[1;33m[\u001b[0m\u001b[0mcol\u001b[0m\u001b[1;33m]\u001b[0m\u001b[1;33m.\u001b[0m\u001b[0mvalues\u001b[0m\u001b[1;33m\u001b[0m\u001b[0m\n\u001b[0m\u001b[0;32m   2608\u001b[0m                 \u001b[0mnames\u001b[0m\u001b[1;33m.\u001b[0m\u001b[0mappend\u001b[0m\u001b[1;33m(\u001b[0m\u001b[0mcol\u001b[0m\u001b[1;33m)\u001b[0m\u001b[1;33m\u001b[0m\u001b[0m\n\u001b[0;32m   2609\u001b[0m                 \u001b[1;32mif\u001b[0m \u001b[0mdrop\u001b[0m\u001b[1;33m:\u001b[0m\u001b[1;33m\u001b[0m\u001b[0m\n",
      "\u001b[1;32mC:\\Anaconda3\\lib\\site-packages\\pandas\\core\\frame.py\u001b[0m in \u001b[0;36m__getitem__\u001b[1;34m(self, key)\u001b[0m\n\u001b[0;32m   1795\u001b[0m             \u001b[1;32mreturn\u001b[0m \u001b[0mself\u001b[0m\u001b[1;33m.\u001b[0m\u001b[0m_getitem_multilevel\u001b[0m\u001b[1;33m(\u001b[0m\u001b[0mkey\u001b[0m\u001b[1;33m)\u001b[0m\u001b[1;33m\u001b[0m\u001b[0m\n\u001b[0;32m   1796\u001b[0m         \u001b[1;32melse\u001b[0m\u001b[1;33m:\u001b[0m\u001b[1;33m\u001b[0m\u001b[0m\n\u001b[1;32m-> 1797\u001b[1;33m             \u001b[1;32mreturn\u001b[0m \u001b[0mself\u001b[0m\u001b[1;33m.\u001b[0m\u001b[0m_getitem_column\u001b[0m\u001b[1;33m(\u001b[0m\u001b[0mkey\u001b[0m\u001b[1;33m)\u001b[0m\u001b[1;33m\u001b[0m\u001b[0m\n\u001b[0m\u001b[0;32m   1798\u001b[0m \u001b[1;33m\u001b[0m\u001b[0m\n\u001b[0;32m   1799\u001b[0m     \u001b[1;32mdef\u001b[0m \u001b[0m_getitem_column\u001b[0m\u001b[1;33m(\u001b[0m\u001b[0mself\u001b[0m\u001b[1;33m,\u001b[0m \u001b[0mkey\u001b[0m\u001b[1;33m)\u001b[0m\u001b[1;33m:\u001b[0m\u001b[1;33m\u001b[0m\u001b[0m\n",
      "\u001b[1;32mC:\\Anaconda3\\lib\\site-packages\\pandas\\core\\frame.py\u001b[0m in \u001b[0;36m_getitem_column\u001b[1;34m(self, key)\u001b[0m\n\u001b[0;32m   1802\u001b[0m         \u001b[1;31m# get column\u001b[0m\u001b[1;33m\u001b[0m\u001b[1;33m\u001b[0m\u001b[0m\n\u001b[0;32m   1803\u001b[0m         \u001b[1;32mif\u001b[0m \u001b[0mself\u001b[0m\u001b[1;33m.\u001b[0m\u001b[0mcolumns\u001b[0m\u001b[1;33m.\u001b[0m\u001b[0mis_unique\u001b[0m\u001b[1;33m:\u001b[0m\u001b[1;33m\u001b[0m\u001b[0m\n\u001b[1;32m-> 1804\u001b[1;33m             \u001b[1;32mreturn\u001b[0m \u001b[0mself\u001b[0m\u001b[1;33m.\u001b[0m\u001b[0m_get_item_cache\u001b[0m\u001b[1;33m(\u001b[0m\u001b[0mkey\u001b[0m\u001b[1;33m)\u001b[0m\u001b[1;33m\u001b[0m\u001b[0m\n\u001b[0m\u001b[0;32m   1805\u001b[0m \u001b[1;33m\u001b[0m\u001b[0m\n\u001b[0;32m   1806\u001b[0m         \u001b[1;31m# duplicate columns & possible reduce dimensionaility\u001b[0m\u001b[1;33m\u001b[0m\u001b[1;33m\u001b[0m\u001b[0m\n",
      "\u001b[1;32mC:\\Anaconda3\\lib\\site-packages\\pandas\\core\\generic.py\u001b[0m in \u001b[0;36m_get_item_cache\u001b[1;34m(self, item)\u001b[0m\n\u001b[0;32m   1082\u001b[0m         \u001b[0mres\u001b[0m \u001b[1;33m=\u001b[0m \u001b[0mcache\u001b[0m\u001b[1;33m.\u001b[0m\u001b[0mget\u001b[0m\u001b[1;33m(\u001b[0m\u001b[0mitem\u001b[0m\u001b[1;33m)\u001b[0m\u001b[1;33m\u001b[0m\u001b[0m\n\u001b[0;32m   1083\u001b[0m         \u001b[1;32mif\u001b[0m \u001b[0mres\u001b[0m \u001b[1;32mis\u001b[0m \u001b[1;32mNone\u001b[0m\u001b[1;33m:\u001b[0m\u001b[1;33m\u001b[0m\u001b[0m\n\u001b[1;32m-> 1084\u001b[1;33m             \u001b[0mvalues\u001b[0m \u001b[1;33m=\u001b[0m \u001b[0mself\u001b[0m\u001b[1;33m.\u001b[0m\u001b[0m_data\u001b[0m\u001b[1;33m.\u001b[0m\u001b[0mget\u001b[0m\u001b[1;33m(\u001b[0m\u001b[0mitem\u001b[0m\u001b[1;33m)\u001b[0m\u001b[1;33m\u001b[0m\u001b[0m\n\u001b[0m\u001b[0;32m   1085\u001b[0m             \u001b[0mres\u001b[0m \u001b[1;33m=\u001b[0m \u001b[0mself\u001b[0m\u001b[1;33m.\u001b[0m\u001b[0m_box_item_values\u001b[0m\u001b[1;33m(\u001b[0m\u001b[0mitem\u001b[0m\u001b[1;33m,\u001b[0m \u001b[0mvalues\u001b[0m\u001b[1;33m)\u001b[0m\u001b[1;33m\u001b[0m\u001b[0m\n\u001b[0;32m   1086\u001b[0m             \u001b[0mcache\u001b[0m\u001b[1;33m[\u001b[0m\u001b[0mitem\u001b[0m\u001b[1;33m]\u001b[0m \u001b[1;33m=\u001b[0m \u001b[0mres\u001b[0m\u001b[1;33m\u001b[0m\u001b[0m\n",
      "\u001b[1;32mC:\\Anaconda3\\lib\\site-packages\\pandas\\core\\internals.py\u001b[0m in \u001b[0;36mget\u001b[1;34m(self, item, fastpath)\u001b[0m\n\u001b[0;32m   2849\u001b[0m \u001b[1;33m\u001b[0m\u001b[0m\n\u001b[0;32m   2850\u001b[0m             \u001b[1;32mif\u001b[0m \u001b[1;32mnot\u001b[0m \u001b[0misnull\u001b[0m\u001b[1;33m(\u001b[0m\u001b[0mitem\u001b[0m\u001b[1;33m)\u001b[0m\u001b[1;33m:\u001b[0m\u001b[1;33m\u001b[0m\u001b[0m\n\u001b[1;32m-> 2851\u001b[1;33m                 \u001b[0mloc\u001b[0m \u001b[1;33m=\u001b[0m \u001b[0mself\u001b[0m\u001b[1;33m.\u001b[0m\u001b[0mitems\u001b[0m\u001b[1;33m.\u001b[0m\u001b[0mget_loc\u001b[0m\u001b[1;33m(\u001b[0m\u001b[0mitem\u001b[0m\u001b[1;33m)\u001b[0m\u001b[1;33m\u001b[0m\u001b[0m\n\u001b[0m\u001b[0;32m   2852\u001b[0m             \u001b[1;32melse\u001b[0m\u001b[1;33m:\u001b[0m\u001b[1;33m\u001b[0m\u001b[0m\n\u001b[0;32m   2853\u001b[0m                 \u001b[0mindexer\u001b[0m \u001b[1;33m=\u001b[0m \u001b[0mnp\u001b[0m\u001b[1;33m.\u001b[0m\u001b[0marange\u001b[0m\u001b[1;33m(\u001b[0m\u001b[0mlen\u001b[0m\u001b[1;33m(\u001b[0m\u001b[0mself\u001b[0m\u001b[1;33m.\u001b[0m\u001b[0mitems\u001b[0m\u001b[1;33m)\u001b[0m\u001b[1;33m)\u001b[0m\u001b[1;33m[\u001b[0m\u001b[0misnull\u001b[0m\u001b[1;33m(\u001b[0m\u001b[0mself\u001b[0m\u001b[1;33m.\u001b[0m\u001b[0mitems\u001b[0m\u001b[1;33m)\u001b[0m\u001b[1;33m]\u001b[0m\u001b[1;33m\u001b[0m\u001b[0m\n",
      "\u001b[1;32mC:\\Anaconda3\\lib\\site-packages\\pandas\\core\\index.py\u001b[0m in \u001b[0;36mget_loc\u001b[1;34m(self, key, method)\u001b[0m\n\u001b[0;32m   1570\u001b[0m         \"\"\"\n\u001b[0;32m   1571\u001b[0m         \u001b[1;32mif\u001b[0m \u001b[0mmethod\u001b[0m \u001b[1;32mis\u001b[0m \u001b[1;32mNone\u001b[0m\u001b[1;33m:\u001b[0m\u001b[1;33m\u001b[0m\u001b[0m\n\u001b[1;32m-> 1572\u001b[1;33m             \u001b[1;32mreturn\u001b[0m \u001b[0mself\u001b[0m\u001b[1;33m.\u001b[0m\u001b[0m_engine\u001b[0m\u001b[1;33m.\u001b[0m\u001b[0mget_loc\u001b[0m\u001b[1;33m(\u001b[0m\u001b[0m_values_from_object\u001b[0m\u001b[1;33m(\u001b[0m\u001b[0mkey\u001b[0m\u001b[1;33m)\u001b[0m\u001b[1;33m)\u001b[0m\u001b[1;33m\u001b[0m\u001b[0m\n\u001b[0m\u001b[0;32m   1573\u001b[0m \u001b[1;33m\u001b[0m\u001b[0m\n\u001b[0;32m   1574\u001b[0m         \u001b[0mindexer\u001b[0m \u001b[1;33m=\u001b[0m \u001b[0mself\u001b[0m\u001b[1;33m.\u001b[0m\u001b[0mget_indexer\u001b[0m\u001b[1;33m(\u001b[0m\u001b[1;33m[\u001b[0m\u001b[0mkey\u001b[0m\u001b[1;33m]\u001b[0m\u001b[1;33m,\u001b[0m \u001b[0mmethod\u001b[0m\u001b[1;33m=\u001b[0m\u001b[0mmethod\u001b[0m\u001b[1;33m)\u001b[0m\u001b[1;33m\u001b[0m\u001b[0m\n",
      "\u001b[1;32mpandas\\index.pyx\u001b[0m in \u001b[0;36mpandas.index.IndexEngine.get_loc (pandas\\index.c:3824)\u001b[1;34m()\u001b[0m\n",
      "\u001b[1;32mpandas\\index.pyx\u001b[0m in \u001b[0;36mpandas.index.IndexEngine.get_loc (pandas\\index.c:3704)\u001b[1;34m()\u001b[0m\n",
      "\u001b[1;32mpandas\\hashtable.pyx\u001b[0m in \u001b[0;36mpandas.hashtable.PyObjectHashTable.get_item (pandas\\hashtable.c:12280)\u001b[1;34m()\u001b[0m\n",
      "\u001b[1;32mpandas\\hashtable.pyx\u001b[0m in \u001b[0;36mpandas.hashtable.PyObjectHashTable.get_item (pandas\\hashtable.c:12231)\u001b[1;34m()\u001b[0m\n",
      "\u001b[1;31mKeyError\u001b[0m: 'matchId'"
     ]
    }
   ],
   "source": [
    "timelines_df = [x.dropna() for x in timelines_df]\n",
    "timelines_df = [feature_calc.retype_columns(x) for x in timelines_df ]\n",
    "timelines_df = [x.set_index('matchId') for x in timelines_df ]"
   ]
  },
  {
   "cell_type": "markdown",
   "metadata": {},
   "source": [
    "Check how many matches were downloaded."
   ]
  },
  {
   "cell_type": "code",
   "execution_count": 151,
   "metadata": {
    "collapsed": false
   },
   "outputs": [
    {
     "data": {
      "text/plain": [
       "[(6534, 32),\n",
       " (6534, 32),\n",
       " (6534, 32),\n",
       " (6519, 32),\n",
       " (5926, 32),\n",
       " (4941, 32),\n",
       " (3564, 32),\n",
       " (2184, 32),\n",
       " (1097, 32),\n",
       " (449, 32)]"
      ]
     },
     "execution_count": 151,
     "metadata": {},
     "output_type": "execute_result"
    }
   ],
   "source": [
    "[x.shape for x in timelines_df]"
   ]
  },
  {
   "cell_type": "markdown",
   "metadata": {},
   "source": [
    "If you are scraping a lot of matches in chunks, combine previous matches with new matches."
   ]
  },
  {
   "cell_type": "code",
   "execution_count": 153,
   "metadata": {
    "collapsed": false
   },
   "outputs": [],
   "source": [
    "#combined_df = timelines_df\n",
    "combined_df = [timelines_df[x].append(combined_df[x] ) for x in np.arange(len(timelines_df)) ]"
   ]
  },
  {
   "cell_type": "code",
   "execution_count": 154,
   "metadata": {
    "collapsed": false
   },
   "outputs": [
    {
     "data": {
      "text/plain": [
       "[(36036, 32),\n",
       " (36036, 32),\n",
       " (36035, 32),\n",
       " (35969, 32),\n",
       " (32611, 32),\n",
       " (27777, 32),\n",
       " (20487, 32),\n",
       " (13097, 32),\n",
       " (6914, 32),\n",
       " (3018, 32)]"
      ]
     },
     "execution_count": 154,
     "metadata": {},
     "output_type": "execute_result"
    }
   ],
   "source": [
    "[x.shape for x in combined_df]"
   ]
  },
  {
   "cell_type": "markdown",
   "metadata": {},
   "source": [
    "### Save the matches to file."
   ]
  },
  {
   "cell_type": "code",
   "execution_count": 155,
   "metadata": {
    "collapsed": false
   },
   "outputs": [],
   "source": [
    "import pickle\n",
    "with open('Maybe corrupted Low ELO combined_df.pickle', 'wb') as pickle_file:\n",
    "    pickle.dump(combined_df, pickle_file)"
   ]
  },
  {
   "cell_type": "code",
   "execution_count": 177,
   "metadata": {
    "collapsed": true
   },
   "outputs": [],
   "source": [
    "with open('combined_df.pickle', 'rb') as pickle_file:\n",
    "    combined_df = pickle.load(pickle_file)"
   ]
  },
  {
   "cell_type": "code",
   "execution_count": null,
   "metadata": {
    "collapsed": true
   },
   "outputs": [],
   "source": []
  }
 ],
 "metadata": {
  "kernelspec": {
   "display_name": "Python 3",
   "language": "python",
   "name": "python3"
  },
  "language_info": {
   "codemirror_mode": {
    "name": "ipython",
    "version": 3
   },
   "file_extension": ".py",
   "mimetype": "text/x-python",
   "name": "python",
   "nbconvert_exporter": "python",
   "pygments_lexer": "ipython3",
   "version": "3.4.3"
  }
 },
 "nbformat": 4,
 "nbformat_minor": 0
}
