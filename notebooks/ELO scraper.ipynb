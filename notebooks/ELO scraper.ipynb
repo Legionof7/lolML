{
 "cells": [
  {
   "cell_type": "markdown",
   "metadata": {},
   "source": [
    "# Notebook for scraping players at different ELOs\n",
    "\n",
    "This notebook outlines how to scrape high level games from different regions. It is broken into 3 parts:\n",
    "1. Querying RIOT for information about summoners, and getting a list of interesting matches.\n",
    "2. Querying RIOT for the information about those matches.\n",
    "3. Saving (and potentially loading) those matches.\n",
    "\n",
    "Load libraries"
   ]
  },
  {
   "cell_type": "code",
   "execution_count": 1,
   "metadata": {
    "collapsed": false
   },
   "outputs": [],
   "source": [
    "import requests, json\n",
    "import numpy as np\n",
    "from lolML.src import API_io\n",
    "import importlib\n",
    "import pandas as pd\n",
    "import time\n",
    "from lolML.src import feature_calc\n",
    "import pdb"
   ]
  },
  {
   "cell_type": "code",
   "execution_count": 2,
   "metadata": {
    "collapsed": false
   },
   "outputs": [],
   "source": [
    "working_dir = 'C:\\\\Users\\\\palmiteradmin\\\\Documents\\\\GitHub\\\\lolML'\n",
    "with open(working_dir+ '\\\\api_key.txt', 'r') as api_file:\n",
    "    api_key =  api_file.read()"
   ]
  },
  {
   "cell_type": "markdown",
   "metadata": {},
   "source": [
    "## Get a list of low level matches\n",
    "\n",
    "Set the region. Get Kaceytron's match history. (Note, I need to start with a Bronze V user, so I use Kaceytron as she is a famous streamer and is in Bronze V. I think she's hilarious.)"
   ]
  },
  {
   "cell_type": "code",
   "execution_count": 35,
   "metadata": {
    "collapsed": false
   },
   "outputs": [],
   "source": [
    "region_key = 'na'\n",
    "match_requests_params = API_io.make_RIOT_request_params(api_key, 'solo', 2015)\n",
    "BronzeV_ID = API_io.get_summoner_ids_from_names('Kaceytron', api_key, region_key) [0]\n",
    "BronzeV_url = API_io.make_matchhistory_url(BronzeV_ID, region_key)\n",
    "BronzeV_match_history = requests.get(BronzeV_url, match_requests_params).json()"
   ]
  },
  {
   "cell_type": "markdown",
   "metadata": {},
   "source": [
    "Extract the match ID from the match history JSON"
   ]
  },
  {
   "cell_type": "code",
   "execution_count": 12,
   "metadata": {
    "collapsed": false
   },
   "outputs": [
    {
     "data": {
      "text/plain": [
       "(394,)"
      ]
     },
     "execution_count": 12,
     "metadata": {},
     "output_type": "execute_result"
    }
   ],
   "source": [
    "match_IDs = np.unique([x['matchId'] for x in BronzeV_match_history['matches'] ])\n",
    "match_IDs.shape"
   ]
  },
  {
   "cell_type": "markdown",
   "metadata": {},
   "source": [
    "Load a bunch of matches to get more summonerIDs"
   ]
  },
  {
   "cell_type": "code",
   "execution_count": 13,
   "metadata": {
    "collapsed": false
   },
   "outputs": [
    {
     "data": {
      "text/plain": [
       "['https://na.api.pvp.net/api/lol/na/v2.2/match/1705169301',\n",
       " 'https://na.api.pvp.net/api/lol/na/v2.2/match/1705197279']"
      ]
     },
     "execution_count": 13,
     "metadata": {},
     "output_type": "execute_result"
    }
   ],
   "source": [
    "match_info_params = API_io.make_RIOT_request_params(api_key, timeline_flag=False)\n",
    "match_urls = [API_io.make_match_info_url(x, region_key) for x in match_IDs] # True flag means we get the timeline\n",
    "match_urls[:2]"
   ]
  },
  {
   "cell_type": "markdown",
   "metadata": {},
   "source": [
    "Loop through the matches, and get the summoner IDs of more players"
   ]
  },
  {
   "cell_type": "code",
   "execution_count": 14,
   "metadata": {
    "collapsed": false,
    "scrolled": false
   },
   "outputs": [],
   "source": [
    "def get_summonerIds_from_match(cur_match):\n",
    "    return [x['player']['summonerId'] for x in cur_match['participantIdentities']]"
   ]
  },
  {
   "cell_type": "code",
   "execution_count": 15,
   "metadata": {
    "collapsed": false
   },
   "outputs": [],
   "source": [
    "num_matches = 100\n",
    "summoner_IDs = np.zeros([num_matches, 10]) # 10 players / match\n",
    "match_range = np.arange(num_matches)\n",
    "# this is the worst code EVER\n",
    "for match_index, cur_match in enumerate(match_range):\n",
    "    try:\n",
    "        match_info = requests.get(match_urls[cur_match], match_info_params).json()\n",
    "        summoner_IDs[match_index] = get_summonerIds_from_match(match_info)\n",
    "    except requests.exceptions.HTTPError as err:\n",
    "        print('HHTPError in game ' + str(match_IDs[cur_match]))\n",
    "    except:\n",
    "        import sys\n",
    "        err = sys.exc_info()[0]\n",
    "        print('Error: ' + str(err) + ' in game ' + str(match_IDs[cur_match]))\n",
    "    time.sleep(1.2) # RIOT API is throttled to ~0.83 requests / second"
   ]
  },
  {
   "cell_type": "code",
   "execution_count": 16,
   "metadata": {
    "collapsed": false
   },
   "outputs": [],
   "source": [
    "summoner_IDs = np.unique(summoner_IDs.ravel())\n",
    "summoner_IDs = summoner_IDs.astype(int)\n",
    "summoner_IDs = summoner_IDs[1:]"
   ]
  },
  {
   "cell_type": "markdown",
   "metadata": {},
   "source": [
    "Now that we have a bunch of IDs, get all their match histories"
   ]
  },
  {
   "cell_type": "code",
   "execution_count": 17,
   "metadata": {
    "collapsed": true
   },
   "outputs": [],
   "source": [
    "match_requests_params = API_io.make_RIOT_request_params(api_key, True, True)\n",
    "summoner_match_history_urls = [API_io.make_matchhistory_url(x, region_key =region_key) for x in summoner_IDs]"
   ]
  },
  {
   "cell_type": "code",
   "execution_count": 18,
   "metadata": {
    "collapsed": false
   },
   "outputs": [],
   "source": [
    "match_histories = [API_io.get_limited_request(x, match_requests_params) for x in summoner_match_history_urls[:100] ]"
   ]
  },
  {
   "cell_type": "code",
   "execution_count": 19,
   "metadata": {
    "collapsed": false
   },
   "outputs": [
    {
     "data": {
      "text/plain": [
       "(36585,)"
      ]
     },
     "execution_count": 19,
     "metadata": {},
     "output_type": "execute_result"
    }
   ],
   "source": [
    "match_IDs = API_io.parse_match_json_for_matchIDs(match_histories, region_key)\n",
    "pd.Series(match_IDs).to_csv(region_key + ' Match IDs.csv')\n",
    "match_IDs.shape"
   ]
  },
  {
   "cell_type": "code",
   "execution_count": 20,
   "metadata": {
    "collapsed": false
   },
   "outputs": [
    {
     "data": {
      "text/plain": [
       "['https://na.api.pvp.net/api/lol/na/v2.2/match/1704155497',\n",
       " 'https://na.api.pvp.net/api/lol/na/v2.2/match/1704155828']"
      ]
     },
     "execution_count": 20,
     "metadata": {},
     "output_type": "execute_result"
    }
   ],
   "source": [
    "match_info_params = API_io.make_RIOT_request_params(api_key, timeline_flag=True)\n",
    "match_urls = [API_io.make_match_info_url(x, region_key) for x in match_IDs] # True flag means we get the timeline\n",
    "match_urls[:2]"
   ]
  },
  {
   "cell_type": "markdown",
   "metadata": {},
   "source": [
    "## Get high ELO solo-queue"
   ]
  },
  {
   "cell_type": "code",
   "execution_count": 4,
   "metadata": {
    "collapsed": false
   },
   "outputs": [
    {
     "data": {
      "text/plain": [
       "1217"
      ]
     },
     "execution_count": 4,
     "metadata": {},
     "output_type": "execute_result"
    }
   ],
   "source": [
    "region_key = 'na'\n",
    "high_elo_IDs = API_io.get_master_challenger_Ids(api_key, region_key)\n",
    "len(high_elo_IDs)"
   ]
  },
  {
   "cell_type": "code",
   "execution_count": 5,
   "metadata": {
    "collapsed": false
   },
   "outputs": [
    {
     "name": "stdout",
     "output_type": "stream",
     "text": [
      "['https://na.api.pvp.net/api/lol/na/v2.2/matchlist/by-summoner/44989362', 'https://na.api.pvp.net/api/lol/na/v2.2/matchlist/by-summoner/60939398']\n"
     ]
    }
   ],
   "source": [
    "importlib.reload(API_io)\n",
    "summoner_urls = [API_io.make_matchhistory_url(x, region_key =region_key) for x in high_elo_IDs]\n",
    "print(summoner_urls[:2])"
   ]
  },
  {
   "cell_type": "code",
   "execution_count": 7,
   "metadata": {
    "collapsed": false
   },
   "outputs": [],
   "source": [
    "matchlist_requests_params = API_io.make_RIOT_request_params(api_key, 'solo', 2016, pre_str= 'PRE')\n",
    "match_histories = [API_io.get_limited_request(x, matchlist_requests_params) for x in summoner_urls ]"
   ]
  },
  {
   "cell_type": "code",
   "execution_count": 17,
   "metadata": {
    "collapsed": false,
    "scrolled": true
   },
   "outputs": [
    {
     "data": {
      "text/plain": [
       "(2300,)"
      ]
     },
     "execution_count": 17,
     "metadata": {},
     "output_type": "execute_result"
    }
   ],
   "source": [
    "importlib.reload(API_io)\n",
    "match_IDs = API_io.parse_match_json_for_matchIDs(match_histories, region_key)\n",
    "pd.Series(match_IDs).to_csv(region_key + ' Match IDs.csv')\n",
    "match_IDs.shape"
   ]
  },
  {
   "cell_type": "code",
   "execution_count": 18,
   "metadata": {
    "collapsed": false
   },
   "outputs": [
    {
     "data": {
      "text/plain": [
       "['https://na.api.pvp.net/api/lol/na/v2.2/match/2005988073',\n",
       " 'https://na.api.pvp.net/api/lol/na/v2.2/match/2006081023']"
      ]
     },
     "execution_count": 18,
     "metadata": {},
     "output_type": "execute_result"
    }
   ],
   "source": [
    "match_info_params = API_io.make_RIOT_request_params(api_key, 'solo', 2016, timeline_flag=True, pre_str= 'PRE')\n",
    "match_urls = [API_io.make_match_info_url(x, region_key) for x in match_IDs] # True flag means we get the timeline\n",
    "match_urls[:2]"
   ]
  },
  {
   "cell_type": "markdown",
   "metadata": {},
   "source": [
    "## High ELO Team games"
   ]
  },
  {
   "cell_type": "code",
   "execution_count": 3,
   "metadata": {
    "collapsed": false
   },
   "outputs": [
    {
     "data": {
      "text/plain": [
       "78"
      ]
     },
     "execution_count": 3,
     "metadata": {},
     "output_type": "execute_result"
    }
   ],
   "source": [
    "region_key = 'na'\n",
    "team_IDs = API_io.get_master_challenger_Ids(api_key, region_key, queue='team')\n",
    "len(team_IDs)"
   ]
  },
  {
   "cell_type": "code",
   "execution_count": 7,
   "metadata": {
    "collapsed": true
   },
   "outputs": [],
   "source": [
    "def get_match_Ids_from_team_Ids( team_IDs, api_key, region_key ):\n",
    "    api_dict = {'api_key':api_key}\n",
    "    match_Ids = []\n",
    "    base_url = 'https://{0}.api.pvp.net/api/lol/{0}/v2.4/team/{1}'\n",
    "    for cur_team in team_IDs:\n",
    "        cur_url = base_url.format(region_key, cur_team)\n",
    "        team_json = API_io.get_limited_request( cur_url, api_dict)\n",
    "        match_Ids.extend( [x['gameId'] for x in team_json[cur_team]['matchHistory'] ])\n",
    "    return match_Ids"
   ]
  },
  {
   "cell_type": "code",
   "execution_count": null,
   "metadata": {
    "collapsed": false
   },
   "outputs": [],
   "source": [
    "team_match_IDs = get_match_Ids_from_team_Ids(team_IDs, api_key, region_key)\n",
    "len(team_match_IDs)"
   ]
  },
  {
   "cell_type": "code",
   "execution_count": 14,
   "metadata": {
    "collapsed": false
   },
   "outputs": [
    {
     "data": {
      "text/plain": [
       "['https://na.api.pvp.net/api/lol/na/v2.2/match/1999607458',\n",
       " 'https://na.api.pvp.net/api/lol/na/v2.2/match/1991570698']"
      ]
     },
     "execution_count": 14,
     "metadata": {},
     "output_type": "execute_result"
    }
   ],
   "source": [
    "match_info_params = API_io.make_RIOT_request_params(api_key, 'team', 2015, timeline_flag=True )\n",
    "match_urls = [API_io.make_match_info_url(x, region_key) for x in team_match_IDs] # True flag means we get the timeline\n",
    "match_urls[:2]"
   ]
  },
  {
   "cell_type": "markdown",
   "metadata": {},
   "source": [
    "## Query RIOT for match information\n",
    "Determine number of matches to query. Set up the dataframes for querying"
   ]
  },
  {
   "cell_type": "code",
   "execution_count": 15,
   "metadata": {
    "collapsed": false
   },
   "outputs": [],
   "source": [
    "match_range = np.arange(0, 1558)\n",
    "col_names = feature_calc.col_names\n",
    "timeline_end = 55\n",
    "time_indices = np.arange(5, timeline_end, 5)\n",
    "timelines_df = [ pd.DataFrame(index = match_range, columns= col_names) for x in time_indices]"
   ]
  },
  {
   "cell_type": "markdown",
   "metadata": {},
   "source": [
    "Actually run the queries"
   ]
  },
  {
   "cell_type": "code",
   "execution_count": 20,
   "metadata": {
    "collapsed": false
   },
   "outputs": [
    {
     "name": "stdout",
     "output_type": "stream",
     "text": [
      "Error: <class 'ValueError'> in game 1988318253\n",
      "Error: <class 'ValueError'> in game 1988282822\n",
      "Error: <class 'ValueError'> in game 2004893513\n",
      "Error: <class 'ValueError'> in game 2004849858\n",
      "Error: <class 'ValueError'> in game 2004788481\n",
      "Error: <class 'ValueError'> in game 2004255703\n",
      "Error: <class 'ValueError'> in game 2004217184\n"
     ]
    }
   ],
   "source": [
    "# this is the worst code EVER\n",
    "for match_index, cur_match in enumerate(match_range):\n",
    "    try:\n",
    "        match_info = requests.get(match_urls[cur_match], match_info_params).json()\n",
    "        for time_index, last_min in enumerate(time_indices):\n",
    "            try:\n",
    "                timelines_df[time_index].loc[match_index] = feature_calc.calc_features_single_match(match_info, last_min)\n",
    "            except:\n",
    "                continue\n",
    "    except requests.exceptions.HTTPError as err:\n",
    "        print('HHTPError in game ' + str(team_match_IDs[cur_match]))\n",
    "    except:\n",
    "        import sys\n",
    "        err = sys.exc_info()[0]\n",
    "        print('Error: ' + str(err) + ' in game ' + str(team_match_IDs[cur_match]))\n",
    "    time.sleep(1.25) # RIOT API is throttled to ~0.83 requests / second"
   ]
  },
  {
   "cell_type": "code",
   "execution_count": 21,
   "metadata": {
    "collapsed": false
   },
   "outputs": [],
   "source": [
    "timelines_df = [x.dropna() for x in timelines_df]\n",
    "timelines_df = [feature_calc.retype_columns(x) for x in timelines_df ]\n",
    "timelines_df = [x.set_index('matchId') for x in timelines_df ]"
   ]
  },
  {
   "cell_type": "markdown",
   "metadata": {},
   "source": [
    "Check how many matches were downloaded."
   ]
  },
  {
   "cell_type": "code",
   "execution_count": 22,
   "metadata": {
    "collapsed": false
   },
   "outputs": [
    {
     "data": {
      "text/plain": [
       "[(1466, 32),\n",
       " (1461, 32),\n",
       " (1431, 32),\n",
       " (1387, 32),\n",
       " (1024, 32),\n",
       " (688, 32),\n",
       " (395, 32),\n",
       " (170, 32),\n",
       " (65, 32),\n",
       " (26, 32)]"
      ]
     },
     "execution_count": 22,
     "metadata": {},
     "output_type": "execute_result"
    }
   ],
   "source": [
    "[x.shape for x in timelines_df]"
   ]
  },
  {
   "cell_type": "markdown",
   "metadata": {},
   "source": [
    "If you are scraping a lot of matches in chunks, combine previous matches with new matches."
   ]
  },
  {
   "cell_type": "code",
   "execution_count": 23,
   "metadata": {
    "collapsed": false
   },
   "outputs": [],
   "source": [
    "combined_df = timelines_df\n",
    "#combined_df = [timelines_df[x].append(combined_df[x] ) for x in np.arange(len(timelines_df)) ]"
   ]
  },
  {
   "cell_type": "code",
   "execution_count": 25,
   "metadata": {
    "collapsed": false
   },
   "outputs": [
    {
     "data": {
      "text/plain": [
       "[(2291, 32),\n",
       " (2291, 32),\n",
       " (2262, 32),\n",
       " (2159, 32),\n",
       " (1577, 32),\n",
       " (889, 32),\n",
       " (380, 32),\n",
       " (124, 32),\n",
       " (44, 32),\n",
       " (8, 32)]"
      ]
     },
     "execution_count": 25,
     "metadata": {},
     "output_type": "execute_result"
    }
   ],
   "source": [
    "[x.shape for x in combined_df]"
   ]
  },
  {
   "cell_type": "markdown",
   "metadata": {},
   "source": [
    "### Save the matches to file."
   ]
  },
  {
   "cell_type": "code",
   "execution_count": 24,
   "metadata": {
    "collapsed": false
   },
   "outputs": [],
   "source": [
    "import pickle\n",
    "with open('Season 2015 Team ranked combined_df.pickle', 'wb') as pickle_file:\n",
    "    pickle.dump(combined_df, pickle_file)"
   ]
  },
  {
   "cell_type": "code",
   "execution_count": 177,
   "metadata": {
    "collapsed": true
   },
   "outputs": [],
   "source": [
    "with open('combined_df.pickle', 'rb') as pickle_file:\n",
    "    combined_df = pickle.load(pickle_file)"
   ]
  },
  {
   "cell_type": "code",
   "execution_count": null,
   "metadata": {
    "collapsed": true
   },
   "outputs": [],
   "source": []
  }
 ],
 "metadata": {
  "kernelspec": {
   "display_name": "Python 3",
   "language": "python",
   "name": "python3"
  },
  "language_info": {
   "codemirror_mode": {
    "name": "ipython",
    "version": 3
   },
   "file_extension": ".py",
   "mimetype": "text/x-python",
   "name": "python",
   "nbconvert_exporter": "python",
   "pygments_lexer": "ipython3",
   "version": "3.4.3"
  }
 },
 "nbformat": 4,
 "nbformat_minor": 0
}
